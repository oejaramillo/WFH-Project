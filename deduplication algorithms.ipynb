{
 "cells": [
  {
   "cell_type": "code",
   "execution_count": 65,
   "metadata": {},
   "outputs": [
    {
     "name": "stderr",
     "output_type": "stream",
     "text": [
      "[nltk_data] Downloading package punkt to\n",
      "[nltk_data]     C:\\Users\\OscarJaramillo\\AppData\\Roaming\\nltk_data...\n",
      "[nltk_data]   Package punkt is already up-to-date!\n"
     ]
    },
    {
     "data": {
      "text/plain": [
       "True"
      ]
     },
     "execution_count": 65,
     "metadata": {},
     "output_type": "execute_result"
    }
   ],
   "source": [
    "import numpy as np\n",
    "import pandas as pd\n",
    "\n",
    "from sklearn.feature_extraction.text import TfidfVectorizer\n",
    "from sklearn.metrics.pairwise import cosine_similarity\n",
    "\n",
    "from scipy.spatial import distance\n",
    "\n",
    "from gensim.models import Word2Vec\n",
    "import nltk\n",
    "from nltk.tokenize import word_tokenize\n",
    "nltk.download('punkt')"
   ]
  },
  {
   "cell_type": "markdown",
   "metadata": {},
   "source": [
    "Dataset"
   ]
  },
  {
   "cell_type": "code",
   "execution_count": 66,
   "metadata": {},
   "outputs": [],
   "source": [
    "data = pd.read_csv('data_rs.csv', index_col=0)"
   ]
  },
  {
   "cell_type": "markdown",
   "metadata": {},
   "source": [
    "We want to deduplicate the ads by a cosine similarity function, but we're going to encode first the strings"
   ]
  },
  {
   "cell_type": "markdown",
   "metadata": {},
   "source": [
    "## Bag of words"
   ]
  },
  {
   "cell_type": "markdown",
   "metadata": {},
   "source": [
    "Mantaining the order of the words in the string to try to capture semantic differences"
   ]
  },
  {
   "cell_type": "code",
   "execution_count": 5,
   "metadata": {},
   "outputs": [
    {
     "name": "stdout",
     "output_type": "stream",
     "text": [
      "[1, 2, 3, 4, 5, 6, 7, 1, 4, 8, 9, 2, 2, 4, 3, 3]\n",
      "{'this': 1, 'is': 2, 'a': 3, 'test': 4, 'to': 5, 'see': 6, 'if': 7, 'will': 8, 'work': 9}\n"
     ]
    }
   ],
   "source": [
    "vocab = {}\n",
    "word_encoding = 1\n",
    "def one_hot_encoding(text):\n",
    "  global word_encoding\n",
    "\n",
    "  words = text.lower().split(\" \")\n",
    "  encoding = []\n",
    "\n",
    "  for word in words:\n",
    "    if word in vocab:\n",
    "      code = vocab[word]\n",
    "      encoding.append(code)\n",
    "    else:\n",
    "      vocab[word] = word_encoding\n",
    "      encoding.append(word_encoding)\n",
    "      word_encoding += 1\n",
    "\n",
    "  return encoding\n",
    "\n",
    "text = \"this is a test to see if this test will work is is test a a\"\n",
    "encoding = one_hot_encoding(text)\n",
    "print(encoding)\n",
    "print(vocab)"
   ]
  },
  {
   "cell_type": "markdown",
   "metadata": {},
   "source": [
    "## TF-IDF"
   ]
  },
  {
   "cell_type": "markdown",
   "metadata": {},
   "source": [
    "Requires text preprocesssing (e.g., lowercasing, removing punctuation, stop words, stemming)"
   ]
  },
  {
   "cell_type": "code",
   "execution_count": null,
   "metadata": {},
   "outputs": [],
   "source": [
    "# Initialize the TF-IDF vectorizer\n",
    "tfidf_vectorizer = TfidfVectorizer()\n",
    "\n",
    "# Fit and transform the job descriptions to TF-IDF vectors\n",
    "tfidf_matrix = tfidf_vectorizer.fit_transform(data['avisocuerpo'])\n",
    "\n",
    "# Calculate cosine similarity between job descriptions\n",
    "cosine_sim = cosine_similarity(tfidf_matrix, tfidf_matrix)\n",
    "\n",
    "# Define a similarity threshold (you can experiment with different values)\n",
    "similarity_threshold = 0.85\n",
    "\n",
    "# Identify duplicates or similar job ads\n",
    "duplicates = {}\n",
    "for i in range(len(data)):\n",
    "    duplicates[i] = [j for j, score in enumerate(cosine_sim[i]) if score > similarity_threshold and i != j]\n",
    "\n",
    "# Print the duplicates\n",
    "for key, value in duplicates.items():\n",
    "    if value:\n",
    "        print(f\"Job Ad {key} is similar to: {value}\")\n"
   ]
  },
  {
   "cell_type": "markdown",
   "metadata": {},
   "source": [
    "## Word-embeddings"
   ]
  },
  {
   "cell_type": "markdown",
   "metadata": {},
   "source": [
    "With Word2Vec model in gensim for spanish"
   ]
  },
  {
   "cell_type": "markdown",
   "metadata": {},
   "source": [
    "Requires text preprocesssing (e.g., lowercasing, removing punctuation, stop words, stemming)"
   ]
  },
  {
   "cell_type": "code",
   "execution_count": 67,
   "metadata": {},
   "outputs": [],
   "source": [
    "data['avisocuerpo'] = data['avisocuerpo'].apply(lambda x: str(x).lower() if not pd.isna(x) else '')\n",
    "data['avisocuerpo'] = data['avisocuerpo'].apply(lambda x: x.replace('.', '').replace(',', '').replace(';', '').replace('-', '').replace('>', '').replace('<', ''))"
   ]
  },
  {
   "cell_type": "markdown",
   "metadata": {},
   "source": [
    "Training the model"
   ]
  },
  {
   "cell_type": "code",
   "execution_count": 68,
   "metadata": {},
   "outputs": [],
   "source": [
    "# Tokenize avisocuerpo\n",
    "data['tokens'] = data['avisocuerpo'].apply(lambda x: word_tokenize(x.lower()))\n",
    "\n",
    "# Train Word2Vec model on the tokenized job descriptions\n",
    "model = Word2Vec(data['tokens'], vector_size=100, window=5, min_count=1, sg=0)"
   ]
  },
  {
   "cell_type": "markdown",
   "metadata": {},
   "source": [
    "In order to compare ads, after training the Word2Vec model, we need to compute vectors for entire job descriptions. we'll do this by averaging the vectors of all words in a job description."
   ]
  },
  {
   "cell_type": "code",
   "execution_count": 69,
   "metadata": {},
   "outputs": [],
   "source": [
    "def get_ads_vector(tokens, model):\n",
    "\n",
    "    # Is important to ensure the model has seen these words during training\n",
    "    valid_tokens = [token for token in tokens if token in model.wv]\n",
    "    if valid_tokens:\n",
    "        return np.mean(model.wv[valid_tokens], axis=0)\n",
    "    else:\n",
    "        return np.zeros(model.vector_size)\n",
    "\n",
    "# Calculate vectors for all job descriptions\n",
    "data['ads_vectors'] = data['tokens'].apply(lambda x: get_ads_vector(x, model))\n"
   ]
  },
  {
   "cell_type": "markdown",
   "metadata": {},
   "source": [
    "Define cosine similarity because we can't use cosine_similarity from sklearn.metrics.pairwise because it compares a mean ad from the column with other ad but in our case we want to compare row by row"
   ]
  },
  {
   "cell_type": "code",
   "execution_count": 70,
   "metadata": {},
   "outputs": [],
   "source": [
    "def cosine_similarity(vec1, vec2):\n",
    "    return 1 - distance.cosine(vec1, vec2)"
   ]
  },
  {
   "cell_type": "markdown",
   "metadata": {},
   "source": [
    "Let's compare"
   ]
  },
  {
   "cell_type": "code",
   "execution_count": 73,
   "metadata": {},
   "outputs": [
    {
     "data": {
      "text/plain": [
       "111754    [-0.043988142, 0.517315, 0.05676966, 0.0168512...\n",
       "105701    [-0.035540834, 0.4207944, 0.04231299, 0.007412...\n",
       "101579    [-0.005116907, 0.063990615, -0.0028450487, -0....\n",
       "11752     [-0.031266484, 0.39305508, 0.043877464, 0.0151...\n",
       "97086     [-0.040590055, 0.4503397, 0.04930606, 0.011538...\n",
       "                                ...                        \n",
       "64711     [-0.041747145, 0.48783726, 0.05219389, 0.01324...\n",
       "55614     [-0.04394839, 0.5092569, 0.05609447, 0.0121953...\n",
       "78965     [-0.041103408, 0.4732848, 0.052064642, 0.01328...\n",
       "62501     [-0.040860943, 0.49127045, 0.053775627, 0.0133...\n",
       "108719    [-0.038785815, 0.43028104, 0.046446897, 0.0115...\n",
       "Name: ads_vectors, Length: 400, dtype: object"
      ]
     },
     "execution_count": 73,
     "metadata": {},
     "output_type": "execute_result"
    }
   ],
   "source": [
    "data['ads_vectors']"
   ]
  },
  {
   "cell_type": "code",
   "execution_count": 75,
   "metadata": {},
   "outputs": [
    {
     "data": {
      "text/plain": [
       "0.9999738335609436"
      ]
     },
     "execution_count": 75,
     "metadata": {},
     "output_type": "execute_result"
    }
   ],
   "source": [
    "cosine_similarity(data['ads_vectors'][11752], data['ads_vectors'][62501])"
   ]
  },
  {
   "cell_type": "markdown",
   "metadata": {},
   "source": []
  }
 ],
 "metadata": {
  "kernelspec": {
   "display_name": "Python 3",
   "language": "python",
   "name": "python3"
  },
  "language_info": {
   "codemirror_mode": {
    "name": "ipython",
    "version": 3
   },
   "file_extension": ".py",
   "mimetype": "text/x-python",
   "name": "python",
   "nbconvert_exporter": "python",
   "pygments_lexer": "ipython3",
   "version": "3.11.2"
  }
 },
 "nbformat": 4,
 "nbformat_minor": 2
}

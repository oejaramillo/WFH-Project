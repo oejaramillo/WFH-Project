{
 "cells": [
  {
   "cell_type": "code",
   "execution_count": 1,
   "metadata": {},
   "outputs": [],
   "source": [
    "import numpy as np\n",
    "import pandas as pd\n",
    "import matplotlib.pyplot as plt\n",
    "\n",
    "import json"
   ]
  },
  {
   "cell_type": "markdown",
   "metadata": {},
   "source": [
    "### Choose a time partition"
   ]
  },
  {
   "cell_type": "code",
   "execution_count": 96,
   "metadata": {},
   "outputs": [],
   "source": [
    "tp = 2"
   ]
  },
  {
   "cell_type": "markdown",
   "metadata": {},
   "source": [
    "### Loading database"
   ]
  },
  {
   "cell_type": "code",
   "execution_count": 78,
   "metadata": {},
   "outputs": [],
   "source": [
    "data  = pd.read_csv(f'datos\\d{tp}.csv')"
   ]
  },
  {
   "cell_type": "code",
   "execution_count": 98,
   "metadata": {},
   "outputs": [],
   "source": [
    "data.drop(columns={'Unnamed: 0'}, inplace=True)"
   ]
  },
  {
   "cell_type": "markdown",
   "metadata": {},
   "source": [
    "## Start"
   ]
  },
  {
   "cell_type": "markdown",
   "metadata": {},
   "source": [
    "avisocuerpo \\\n",
    "avisocargo\\\n",
    "avisorequisitos"
   ]
  },
  {
   "cell_type": "markdown",
   "metadata": {},
   "source": [
    "Secure datatypes"
   ]
  },
  {
   "cell_type": "code",
   "execution_count": 53,
   "metadata": {},
   "outputs": [],
   "source": [
    "data['avisocuerpo'] = data['avisocuerpo'].astype(str)\n",
    "data['avisocargo'] = data['avisocargo'].astype(str)\n",
    "data['avisorequisitos'] = data['avisorequisitos'].astype(str)"
   ]
  },
  {
   "cell_type": "markdown",
   "metadata": {},
   "source": [
    "By 'disponibilidadnombre'"
   ]
  },
  {
   "cell_type": "code",
   "execution_count": 99,
   "metadata": {},
   "outputs": [
    {
     "data": {
      "text/plain": [
       "Jornada Completa        73104\n",
       "Por Turnos               8522\n",
       "Práctica Profesional     5337\n",
       "Part Time                4504\n",
       "Media Jornada            1563\n",
       "Free Lance                960\n",
       "Comisionista              939\n",
       "Reemplazo                 849\n",
       "Teletrabajo                37\n",
       "Name: disponibilidadnombre, dtype: int64"
      ]
     },
     "execution_count": 99,
     "metadata": {},
     "output_type": "execute_result"
    }
   ],
   "source": [
    "data['disponibilidadnombre'].value_counts()"
   ]
  },
  {
   "cell_type": "code",
   "execution_count": 100,
   "metadata": {},
   "outputs": [],
   "source": [
    "data['teletrabajo_'] = data['disponibilidadnombre'] == 'Teletrabajo'"
   ]
  },
  {
   "cell_type": "markdown",
   "metadata": {},
   "source": [
    "#### Load diccionaries"
   ]
  },
  {
   "cell_type": "code",
   "execution_count": 56,
   "metadata": {},
   "outputs": [],
   "source": [
    "file_path = \"dic.json\"\n",
    "\n",
    "# Open and read the JSON file\n",
    "with open(file_path, \"r\", encoding=\"utf-8\") as json_file:\n",
    "    dic = json.load(json_file)"
   ]
  },
  {
   "cell_type": "markdown",
   "metadata": {},
   "source": [
    "Let's count"
   ]
  },
  {
   "cell_type": "code",
   "execution_count": 72,
   "metadata": {},
   "outputs": [],
   "source": [
    "results = pd.read_excel('results.xlsx', index_col=0)"
   ]
  },
  {
   "cell_type": "markdown",
   "metadata": {},
   "source": [
    "Bucket 1"
   ]
  },
  {
   "cell_type": "code",
   "execution_count": 58,
   "metadata": {},
   "outputs": [],
   "source": [
    "data['avcu_b1'] = data['avisocuerpo'].apply(lambda text: any(item in text for item in dic['b1']))\n",
    "data['avca_b1'] = data['avisocargo'].apply(lambda text: any(item in text for item in dic['b1']))\n",
    "data['avre_b1'] = data['avisorequisitos'].apply(lambda text: any(item in text for item in dic['b1']))"
   ]
  },
  {
   "cell_type": "markdown",
   "metadata": {},
   "source": [
    "Bucket 2"
   ]
  },
  {
   "cell_type": "code",
   "execution_count": 59,
   "metadata": {},
   "outputs": [],
   "source": [
    "data['avcu_b2'] = data['avisocuerpo'].apply(lambda text: any(item in text for item in dic['b2']))\n",
    "data['avca_b2'] = data['avisocargo'].apply(lambda text: any(item in text for item in dic['b2']))\n",
    "data['avre_b2'] = data['avisorequisitos'].apply(lambda text: any(item in text for item in dic['b2']))"
   ]
  },
  {
   "cell_type": "markdown",
   "metadata": {},
   "source": [
    "Bucket 3"
   ]
  },
  {
   "cell_type": "code",
   "execution_count": 60,
   "metadata": {},
   "outputs": [],
   "source": [
    "data['avcu_b3'] = data['avisocuerpo'].apply(lambda text: any(all(word in text.split() for word in item.split()) for item in dic['b3']))\n",
    "data['avca_b3'] = data['avisocargo'].apply(lambda text: any(all(word in text.split() for word in item.split()) for item in dic['b3']))\n",
    "data['avre_b3'] = data['avisorequisitos'].apply(lambda text: any(all(word in text.split() for word in item.split()) for item in dic['b3']))"
   ]
  },
  {
   "cell_type": "markdown",
   "metadata": {},
   "source": [
    "Bucket 4"
   ]
  },
  {
   "cell_type": "code",
   "execution_count": 61,
   "metadata": {},
   "outputs": [],
   "source": [
    "data['avcu_b4'] = data['avisocuerpo'].apply(lambda text: any(item in text for item in dic['b4']))\n",
    "data['avca_b4'] = data['avisocargo'].apply(lambda text: any(item in text for item in dic['b4']))\n",
    "data['avre_b4'] = data['avisorequisitos'].apply(lambda text: any(item in text for item in dic['b4']))"
   ]
  },
  {
   "cell_type": "markdown",
   "metadata": {},
   "source": [
    "Saving"
   ]
  },
  {
   "cell_type": "code",
   "execution_count": 62,
   "metadata": {},
   "outputs": [],
   "source": [
    "results['avcu_bucket 1'][tp] = data['avcu_b1'].sum()\n",
    "results['avcu_bucket 2'][tp] = data['avcu_b2'].sum()\n",
    "results['avcu_bucket 3'][tp] = data['avcu_b3'].sum()\n",
    "results['avcu_bucket 4'][tp] = data['avcu_b4'].sum()\n",
    "\n",
    "results['avca_bucket 1'][tp] = data['avca_b1'].sum()\n",
    "results['avca_bucket 2'][tp] = data['avca_b2'].sum()\n",
    "results['avca_bucket 3'][tp] = data['avca_b3'].sum()\n",
    "results['avca_bucket 4'][tp] = data['avca_b4'].sum()\n",
    "\n",
    "results['avre_bucket 1'][tp] = data['avre_b1'].sum()\n",
    "results['avre_bucket 2'][tp] = data['avre_b2'].sum()\n",
    "results['avre_bucket 3'][tp] = data['avre_b3'].sum()\n",
    "results['avre_bucket 4'][tp] = data['avre_b4'].sum()\n",
    "\n",
    "results['teletrabajo'][tp] = data['teletrabajo_'].sum()"
   ]
  },
  {
   "cell_type": "code",
   "execution_count": 101,
   "metadata": {},
   "outputs": [
    {
     "name": "stdout",
     "output_type": "stream",
     "text": [
      "Sum of avcu_b1: 3743\n",
      "Sum of avcu_b2: 489\n",
      "Sum of avcu_b3: 3173\n",
      "Sum of avcu_b4: 191\n",
      "Sum of avca_b1: 2\n",
      "Sum of avca_b2: 55\n",
      "Sum of avca_b3: 9\n",
      "Sum of avca_b4: 4\n",
      "Sum of avre_b1: 242\n",
      "Sum of avre_b2: 47\n",
      "Sum of avre_b3: 56\n",
      "Sum of avre_b4: 20\n",
      "Sum of Teletrabajo: 37\n"
     ]
    }
   ],
   "source": [
    "print(\"Sum of avcu_b1:\", data['avcu_b1'].sum())\n",
    "print(\"Sum of avcu_b2:\", data['avcu_b2'].sum())\n",
    "print(\"Sum of avcu_b3:\", data['avcu_b3'].sum())\n",
    "print(\"Sum of avcu_b4:\", data['avcu_b4'].sum())\n",
    "\n",
    "print(\"Sum of avca_b1:\", data['avca_b1'].sum())\n",
    "print(\"Sum of avca_b2:\", data['avca_b2'].sum())\n",
    "print(\"Sum of avca_b3:\", data['avca_b3'].sum())\n",
    "print(\"Sum of avca_b4:\", data['avca_b4'].sum())\n",
    "\n",
    "print(\"Sum of avre_b1:\", data['avre_b1'].sum())\n",
    "print(\"Sum of avre_b2:\", data['avre_b2'].sum())\n",
    "print(\"Sum of avre_b3:\", data['avre_b3'].sum())\n",
    "print(\"Sum of avre_b4:\", data['avre_b4'].sum())\n",
    "print('Sum of Teletrabajo:', data['teletrabajo_'].sum())"
   ]
  },
  {
   "cell_type": "code",
   "execution_count": 102,
   "metadata": {},
   "outputs": [],
   "source": [
    "data.to_csv(f'datos\\counted\\d{tp}_counted.csv')"
   ]
  },
  {
   "cell_type": "code",
   "execution_count": 86,
   "metadata": {},
   "outputs": [],
   "source": [
    "results.to_excel('results.xlsx')"
   ]
  },
  {
   "cell_type": "code",
   "execution_count": 85,
   "metadata": {},
   "outputs": [
    {
     "data": {
      "text/html": [
       "<div>\n",
       "<style scoped>\n",
       "    .dataframe tbody tr th:only-of-type {\n",
       "        vertical-align: middle;\n",
       "    }\n",
       "\n",
       "    .dataframe tbody tr th {\n",
       "        vertical-align: top;\n",
       "    }\n",
       "\n",
       "    .dataframe thead th {\n",
       "        text-align: right;\n",
       "    }\n",
       "</style>\n",
       "<table border=\"1\" class=\"dataframe\">\n",
       "  <thead>\n",
       "    <tr style=\"text-align: right;\">\n",
       "      <th></th>\n",
       "      <th>avcu_bucket 1</th>\n",
       "      <th>avcu_bucket 2</th>\n",
       "      <th>avcu_bucket 3</th>\n",
       "      <th>avcu_bucket 4</th>\n",
       "      <th>avca_bucket 1</th>\n",
       "      <th>avca_bucket 2</th>\n",
       "      <th>avca_bucket 3</th>\n",
       "      <th>avca_bucket 4</th>\n",
       "      <th>avre_bucket 1</th>\n",
       "      <th>avre_bucket 2</th>\n",
       "      <th>avre_bucket 3</th>\n",
       "      <th>avre_bucket 4</th>\n",
       "      <th>teletrabajo</th>\n",
       "    </tr>\n",
       "  </thead>\n",
       "  <tbody>\n",
       "    <tr>\n",
       "      <th>1</th>\n",
       "      <td>55701</td>\n",
       "      <td>7362</td>\n",
       "      <td>40488</td>\n",
       "      <td>5511</td>\n",
       "      <td>124</td>\n",
       "      <td>1032</td>\n",
       "      <td>188</td>\n",
       "      <td>130</td>\n",
       "      <td>7563</td>\n",
       "      <td>1725</td>\n",
       "      <td>2110</td>\n",
       "      <td>822</td>\n",
       "      <td>47.0</td>\n",
       "    </tr>\n",
       "    <tr>\n",
       "      <th>2</th>\n",
       "      <td>3743</td>\n",
       "      <td>489</td>\n",
       "      <td>3173</td>\n",
       "      <td>191</td>\n",
       "      <td>2</td>\n",
       "      <td>55</td>\n",
       "      <td>9</td>\n",
       "      <td>4</td>\n",
       "      <td>242</td>\n",
       "      <td>47</td>\n",
       "      <td>56</td>\n",
       "      <td>20</td>\n",
       "      <td>37.0</td>\n",
       "    </tr>\n",
       "    <tr>\n",
       "      <th>3</th>\n",
       "      <td>3722</td>\n",
       "      <td>3290</td>\n",
       "      <td>2933</td>\n",
       "      <td>362</td>\n",
       "      <td>3</td>\n",
       "      <td>419</td>\n",
       "      <td>266</td>\n",
       "      <td>6</td>\n",
       "      <td>260</td>\n",
       "      <td>537</td>\n",
       "      <td>253</td>\n",
       "      <td>49</td>\n",
       "      <td>10671.0</td>\n",
       "    </tr>\n",
       "    <tr>\n",
       "      <th>4</th>\n",
       "      <td>36048</td>\n",
       "      <td>30887</td>\n",
       "      <td>29172</td>\n",
       "      <td>3564</td>\n",
       "      <td>31</td>\n",
       "      <td>5898</td>\n",
       "      <td>3137</td>\n",
       "      <td>24</td>\n",
       "      <td>4802</td>\n",
       "      <td>6995</td>\n",
       "      <td>2447</td>\n",
       "      <td>177</td>\n",
       "      <td>37595.0</td>\n",
       "    </tr>\n",
       "  </tbody>\n",
       "</table>\n",
       "</div>"
      ],
      "text/plain": [
       "   avcu_bucket 1  avcu_bucket 2  avcu_bucket 3  avcu_bucket 4  avca_bucket 1  \\\n",
       "1          55701           7362          40488           5511            124   \n",
       "2           3743            489           3173            191              2   \n",
       "3           3722           3290           2933            362              3   \n",
       "4          36048          30887          29172           3564             31   \n",
       "\n",
       "   avca_bucket 2  avca_bucket 3  avca_bucket 4  avre_bucket 1  avre_bucket 2  \\\n",
       "1           1032            188            130           7563           1725   \n",
       "2             55              9              4            242             47   \n",
       "3            419            266              6            260            537   \n",
       "4           5898           3137             24           4802           6995   \n",
       "\n",
       "   avre_bucket 3  avre_bucket 4  teletrabajo  \n",
       "1           2110            822         47.0  \n",
       "2             56             20         37.0  \n",
       "3            253             49      10671.0  \n",
       "4           2447            177      37595.0  "
      ]
     },
     "execution_count": 85,
     "metadata": {},
     "output_type": "execute_result"
    }
   ],
   "source": [
    "results"
   ]
  }
 ],
 "metadata": {
  "kernelspec": {
   "display_name": "Python 3",
   "language": "python",
   "name": "python3"
  },
  "language_info": {
   "codemirror_mode": {
    "name": "ipython",
    "version": 3
   },
   "file_extension": ".py",
   "mimetype": "text/x-python",
   "name": "python",
   "nbconvert_exporter": "python",
   "pygments_lexer": "ipython3",
   "version": "3.11.2"
  },
  "orig_nbformat": 4
 },
 "nbformat": 4,
 "nbformat_minor": 2
}

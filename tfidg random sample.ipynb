{
 "cells": [
  {
   "cell_type": "code",
   "execution_count": 45,
   "metadata": {},
   "outputs": [],
   "source": [
    "import numpy as np\n",
    "import pandas as pd\n",
    "\n",
    "import ast"
   ]
  },
  {
   "cell_type": "code",
   "execution_count": 46,
   "metadata": {},
   "outputs": [],
   "source": [
    "year = np.random.choice(range(2008, 2024))"
   ]
  },
  {
   "cell_type": "code",
   "execution_count": 47,
   "metadata": {},
   "outputs": [],
   "source": [
    "data  = pd.read_csv(f'datos\\\\buckets\\d{year}_counted.csv', index_col=0)"
   ]
  },
  {
   "cell_type": "code",
   "execution_count": 48,
   "metadata": {},
   "outputs": [],
   "source": [
    "data['similars'] = data['similars'].fillna('[]')"
   ]
  },
  {
   "cell_type": "code",
   "execution_count": 49,
   "metadata": {},
   "outputs": [],
   "source": [
    "data['similars2'] = data['similars'].apply(lambda x: True if x != '[]' else False)"
   ]
  },
  {
   "cell_type": "code",
   "execution_count": 50,
   "metadata": {},
   "outputs": [],
   "source": [
    "rc = np.random.choice(data.loc[data['similars2'] == True].index)"
   ]
  },
  {
   "cell_type": "code",
   "execution_count": 51,
   "metadata": {},
   "outputs": [],
   "source": [
    "similar = ast.literal_eval(data['similars'][rc])"
   ]
  },
  {
   "cell_type": "markdown",
   "metadata": {},
   "source": [
    "Year"
   ]
  },
  {
   "cell_type": "code",
   "execution_count": 52,
   "metadata": {},
   "outputs": [
    {
     "data": {
      "text/plain": [
       "2017"
      ]
     },
     "execution_count": 52,
     "metadata": {},
     "output_type": "execute_result"
    }
   ],
   "source": [
    "year"
   ]
  },
  {
   "cell_type": "markdown",
   "metadata": {},
   "source": [
    "Original"
   ]
  },
  {
   "cell_type": "code",
   "execution_count": 53,
   "metadata": {},
   "outputs": [
    {
     "data": {
      "text/plain": [
       "3046326.0"
      ]
     },
     "execution_count": 53,
     "metadata": {},
     "output_type": "execute_result"
    }
   ],
   "source": [
    "data['avisoid'][rc]"
   ]
  },
  {
   "cell_type": "code",
   "execution_count": 54,
   "metadata": {},
   "outputs": [
    {
     "data": {
      "text/plain": [
       "'Importante empresa de Retail con importantes marcas en el mercado, requiere contratar de manera estable Jefe de Tienda para trabajar en sus tiendas propias en PUNTA ARENAS.<br />  <br />  Las principales funciones a desarrollar son:<br /><br />  - Control del personal<br />  - Asegurar dotación de su tienda<br />  - Evaluación y capacitación del personal<br />  - Generación de ventas<br />  - Cierre de cajas y cuadratura de estas<br />  - Manejo de metas y administración del local<br />  - Etc.<br />  <br />  Se requieren personas motivadas por el cargo con disponibilidad para trabajar en modalidad 5x2 y con ganas de formar parte de una empresa con posibilidades de crecimiento y estabilidad, además de diversos beneficios internos.<br />  <br />  Se ofrece renta de 450.000 líquidos + bonos por cumplimiento de metas.'"
      ]
     },
     "execution_count": 54,
     "metadata": {},
     "output_type": "execute_result"
    }
   ],
   "source": [
    "data['avisocuerpo'][rc]"
   ]
  },
  {
   "cell_type": "code",
   "execution_count": 55,
   "metadata": {},
   "outputs": [
    {
     "data": {
      "text/plain": [
       "[64, 238, 248, 325, 454, 1173, 1174, 2631, 5289, 5557, 5646, 6463, 8098]"
      ]
     },
     "execution_count": 55,
     "metadata": {},
     "output_type": "execute_result"
    }
   ],
   "source": [
    "similar"
   ]
  },
  {
   "cell_type": "code",
   "execution_count": 57,
   "metadata": {},
   "outputs": [
    {
     "data": {
      "text/plain": [
       "'Importante empresa de Retail con importantes marcas en el mercado, requiere contratar Jefes de Tienda para trabajar en sus tiendas propias de Santiago.<br />  <br />  Las principales funciones a desarrollar son:<br /><br />  - Control del personal<br />  - Asegurar dotación de su tienda<br />  - Evaluación y capacitación del personal<br />  - Generación de ventas<br />  - Cierre de cajas y cuadratura de estas<br />  - Manejo de metas y administración del local<br />  - Etc.<br />  <br />  Se requieren personas motivadas por el cargo con disponibilidad para trabajar en modalidad 5x2 y con ganas de formar parte de una empresa con posibilidades de crecimiento y estabilidad, además de diversos beneficios internos.<br />  <br />  Se ofrece renta de 450.000 líquidos + bonos por cumplimiento de metas.'"
      ]
     },
     "execution_count": 57,
     "metadata": {},
     "output_type": "execute_result"
    }
   ],
   "source": [
    "data['avisocuerpo'][64]"
   ]
  },
  {
   "cell_type": "code",
   "execution_count": null,
   "metadata": {},
   "outputs": [
    {
     "data": {
      "text/plain": [
       "4488830.0"
      ]
     },
     "execution_count": 44,
     "metadata": {},
     "output_type": "execute_result"
    }
   ],
   "source": [
    "data['avisoid'][similar[0]]"
   ]
  }
 ],
 "metadata": {
  "kernelspec": {
   "display_name": "Python 3",
   "language": "python",
   "name": "python3"
  },
  "language_info": {
   "codemirror_mode": {
    "name": "ipython",
    "version": 3
   },
   "file_extension": ".py",
   "mimetype": "text/x-python",
   "name": "python",
   "nbconvert_exporter": "python",
   "pygments_lexer": "ipython3",
   "version": "3.11.2"
  }
 },
 "nbformat": 4,
 "nbformat_minor": 2
}

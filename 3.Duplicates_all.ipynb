{
 "cells": [
  {
   "cell_type": "code",
   "execution_count": 1,
   "metadata": {},
   "outputs": [],
   "source": [
    "import pandas as pd"
   ]
  },
  {
   "cell_type": "markdown",
   "metadata": {},
   "source": [
    "### All the database"
   ]
  },
  {
   "cell_type": "code",
   "execution_count": 2,
   "metadata": {},
   "outputs": [],
   "source": [
    "data = {}\n",
    "for tp in range(4):\n",
    "    data[tp+1]  = pd.read_csv(f'datos\\counted\\d{tp+1}_counted.csv', index_col=0)"
   ]
  },
  {
   "cell_type": "code",
   "execution_count": 3,
   "metadata": {},
   "outputs": [],
   "source": [
    "for tp in range(4):\n",
    "    data[tp+1]['tp']  = tp+1"
   ]
  },
  {
   "cell_type": "code",
   "execution_count": 4,
   "metadata": {},
   "outputs": [
    {
     "data": {
      "text/plain": [
       "Index(['avisoid', 'empresaid', 'avisofechapublicacion', 'avisovacante',\n",
       "       'mostrarsueldo', 'avisoexperiencia', 'expiracion', 'dias',\n",
       "       'avisorepublicacion', 'avisocargo', 'areanombre',\n",
       "       'actividadempresanombre', 'avisocuerpo', 'disponibilidadnombre',\n",
       "       'avisoduracioncont', 'avisolugartrabajo', 'gradoescolarnombre',\n",
       "       'situacionestudios', 'avisorequisitos', 'carreras', 'estado',\n",
       "       'endpagado_o_gratuito', 'nivelnombre', 'carreras_array',\n",
       "       'sueldoestimado', '_merge', 'avcu_b1', 'avca_b1', 'avre_b1', 'avcu_b2',\n",
       "       'avca_b2', 'avre_b2', 'avcu_b3', 'avca_b3', 'avre_b3', 'avcu_b4',\n",
       "       'avca_b4', 'avre_b4', 'teletrabajo_', 'bucket1', 'bucket2', 'bucket3',\n",
       "       'bucket4', 'wfh', 'similars', 'pseudoindex', 'duplicates_avisocuerpo1m',\n",
       "       'duplicates_avisocuerpo2m', 'duplicates_avisocuerpo3m',\n",
       "       'duplicates_avisocuerpo6m', 'duplicates_avisocargo1m',\n",
       "       'duplicates_avisocargo2m', 'duplicates_avisocargo3m',\n",
       "       'duplicates_avisocargo6m', 'duplicates_sueldoestimado1m',\n",
       "       'duplicates_sueldoestimado2m', 'duplicates_sueldoestimado3m',\n",
       "       'duplicates_sueldoestimado6m', 'tp'],\n",
       "      dtype='object')"
      ]
     },
     "execution_count": 4,
     "metadata": {},
     "output_type": "execute_result"
    }
   ],
   "source": [
    "data[1].columns"
   ]
  },
  {
   "cell_type": "markdown",
   "metadata": {},
   "source": [
    "Data Frame to sum duplicates"
   ]
  },
  {
   "cell_type": "code",
   "execution_count": 5,
   "metadata": {},
   "outputs": [],
   "source": [
    "datau = pd.concat([data[1], data[2], data[3], data[4]], axis=0, ignore_index=True)"
   ]
  },
  {
   "cell_type": "markdown",
   "metadata": {},
   "source": [
    "### Window Size"
   ]
  },
  {
   "cell_type": "code",
   "execution_count": 6,
   "metadata": {},
   "outputs": [],
   "source": [
    "# Calculate the start and end dates\n",
    "start_date = datau['avisofechapublicacion'].min()\n",
    "end_date = datau['avisofechapublicacion'].max()\n",
    "\n",
    "# Create a date range with intervals\n",
    "date_range_3m = pd.date_range(start=start_date, end=end_date, freq='3M') #3M stands for three months\n",
    "date_range_2m = pd.date_range(start=start_date, end=end_date, freq='2M') #3M stands for three months\n",
    "date_range_1m = pd.date_range(start=start_date, end=end_date, freq='1M') #3M stands for three months\n",
    "date_range_6m = pd.date_range(start=start_date, end=end_date, freq='6M') #3M stands for three months\n",
    "\n",
    "# Create a Pandas Series with the date range\n",
    "dates1m = pd.Series(date_range_1m)\n",
    "dates2m = pd.Series(date_range_2m)\n",
    "dates3m = pd.Series(date_range_3m)\n",
    "dates6m = pd.Series(date_range_6m)"
   ]
  },
  {
   "cell_type": "code",
   "execution_count": 7,
   "metadata": {},
   "outputs": [],
   "source": [
    "datau['avisofechapublicacion'] = pd.to_datetime(datau['avisofechapublicacion'])"
   ]
  },
  {
   "cell_type": "markdown",
   "metadata": {},
   "source": [
    "______________________"
   ]
  },
  {
   "cell_type": "markdown",
   "metadata": {},
   "source": [
    "avisocuerpo, empresaid, avisolugartrabajo"
   ]
  },
  {
   "cell_type": "code",
   "execution_count": 8,
   "metadata": {},
   "outputs": [],
   "source": [
    "datau['duplicates_avisocuerpo1m'] = False\n",
    "datau['duplicates_avisocuerpo2m'] = False\n",
    "datau['duplicates_avisocuerpo3m'] = False\n",
    "datau['duplicates_avisocuerpo6m'] = False"
   ]
  },
  {
   "cell_type": "markdown",
   "metadata": {},
   "source": [
    "Each month (Window 1M)"
   ]
  },
  {
   "cell_type": "code",
   "execution_count": 9,
   "metadata": {},
   "outputs": [],
   "source": [
    "for x in range(len(dates1m)-1):\n",
    "    start_date = dates1m[x]\n",
    "    final_date = dates1m[x+1]\n",
    "\n",
    "    # Sub set with the date window\n",
    "    newData = datau[(datau['avisofechapublicacion'] >= start_date) & (datau['avisofechapublicacion'] < final_date)]\n",
    "\n",
    "    # Another Data frame with the duplicates for the newData subset\n",
    "    duplicates = newData[newData.duplicated(subset=['empresaid', 'avisocuerpo', 'avisolugartrabajo'], keep='first')]  # Dont consider the first realiztion, mark everything else as duplicate\n",
    "\n",
    "    # Check wich ad from Data dataFrame is in the duplicates dataFrame\n",
    "    datau['duplicates_avisocuerpo1m'] = datau['duplicates_avisocuerpo1m'] + datau.index.isin(duplicates.index)"
   ]
  },
  {
   "cell_type": "code",
   "execution_count": 10,
   "metadata": {},
   "outputs": [
    {
     "data": {
      "text/plain": [
       "False    2802657\n",
       "True      429114\n",
       "Name: duplicates_avisocuerpo1m, dtype: int64"
      ]
     },
     "execution_count": 10,
     "metadata": {},
     "output_type": "execute_result"
    }
   ],
   "source": [
    "datau['duplicates_avisocuerpo1m'].value_counts()"
   ]
  },
  {
   "cell_type": "markdown",
   "metadata": {},
   "source": [
    "Each two months (Window 2M)"
   ]
  },
  {
   "cell_type": "code",
   "execution_count": 11,
   "metadata": {},
   "outputs": [],
   "source": [
    "for x in range(len(dates2m)-1):\n",
    "    start_date = dates2m[x]\n",
    "    final_date = dates2m[x+1]\n",
    "\n",
    "    # Sub set with the date window\n",
    "    newData = datau[(datau['avisofechapublicacion'] >= start_date) & (datau['avisofechapublicacion'] < final_date)]\n",
    "\n",
    "    # Another Data frame with the duplicates for the newData subset\n",
    "    duplicates = newData[newData.duplicated(subset=['empresaid', 'avisocuerpo', 'avisolugartrabajo'], keep='first')]  # Dont consider the first realiztion, mark everything else as duplicate\n",
    "\n",
    "    # Check wich ad from Data dataFrame is in the duplicates dataFrame\n",
    "    datau['duplicates_avisocuerpo2m'] = datau['duplicates_avisocuerpo2m'] + datau.index.isin(duplicates.index)\n"
   ]
  },
  {
   "cell_type": "code",
   "execution_count": 12,
   "metadata": {},
   "outputs": [
    {
     "data": {
      "text/plain": [
       "False    2745556\n",
       "True      486215\n",
       "Name: duplicates_avisocuerpo2m, dtype: int64"
      ]
     },
     "execution_count": 12,
     "metadata": {},
     "output_type": "execute_result"
    }
   ],
   "source": [
    "datau['duplicates_avisocuerpo2m'].value_counts()"
   ]
  },
  {
   "cell_type": "markdown",
   "metadata": {},
   "source": [
    "Each quarter (Window 3M)"
   ]
  },
  {
   "cell_type": "code",
   "execution_count": 13,
   "metadata": {},
   "outputs": [],
   "source": [
    "for x in range(len(dates3m)-1):\n",
    "    start_date = dates3m[x]\n",
    "    final_date = dates3m[x+1]\n",
    "\n",
    "    # Sub set with the date window\n",
    "    newData = datau[(datau['avisofechapublicacion'] >= start_date) & (datau['avisofechapublicacion'] < final_date)]\n",
    "\n",
    "    # Another Data frame with the duplicates for the newData subset\n",
    "    duplicates = newData[newData.duplicated(subset=['empresaid', 'avisocuerpo', 'avisolugartrabajo'], keep='first')]  # Dont consider the first realiztion, mark everything else as duplicate\n",
    "\n",
    "    # Check wich ad from Data dataFrame is in the duplicates dataFrame\n",
    "    datau['duplicates_avisocuerpo3m'] = datau['duplicates_avisocuerpo3m'] + datau.index.isin(duplicates.index)\n"
   ]
  },
  {
   "cell_type": "code",
   "execution_count": 14,
   "metadata": {},
   "outputs": [
    {
     "data": {
      "text/plain": [
       "False    2712831\n",
       "True      518940\n",
       "Name: duplicates_avisocuerpo3m, dtype: int64"
      ]
     },
     "execution_count": 14,
     "metadata": {},
     "output_type": "execute_result"
    }
   ],
   "source": [
    "datau['duplicates_avisocuerpo3m'].value_counts()"
   ]
  },
  {
   "cell_type": "markdown",
   "metadata": {},
   "source": [
    "Each semester (Window 6M)"
   ]
  },
  {
   "cell_type": "code",
   "execution_count": 19,
   "metadata": {},
   "outputs": [],
   "source": [
    "for x in range(len(dates6m)-1):\n",
    "    start_date = dates6m[x]\n",
    "    final_date = dates6m[x+1]\n",
    "\n",
    "    # Sub set with the date window\n",
    "    newData = datau[(datau['avisofechapublicacion'] >= start_date) & (datau['avisofechapublicacion'] < final_date)]\n",
    "\n",
    "    # Another Data frame with the duplicates for the newData subset\n",
    "    duplicates = newData[newData.duplicated(subset=['empresaid', 'avisocuerpo', 'avisolugartrabajo'], keep='first')]  # Dont consider the first realiztion, mark everything else as duplicate\n",
    "\n",
    "    # Check wich ad from Data dataFrame is in the duplicates dataFrame\n",
    "    datau['duplicates_avisocuerpo6m'] = datau['duplicates_avisocuerpo6m'] + datau.index.isin(duplicates.index)\n"
   ]
  },
  {
   "cell_type": "code",
   "execution_count": 20,
   "metadata": {},
   "outputs": [
    {
     "data": {
      "text/plain": [
       "False    2667511\n",
       "True      564260\n",
       "Name: duplicates_avisocuerpo6m, dtype: int64"
      ]
     },
     "execution_count": 20,
     "metadata": {},
     "output_type": "execute_result"
    }
   ],
   "source": [
    "datau['duplicates_avisocuerpo6m'].value_counts()"
   ]
  },
  {
   "cell_type": "markdown",
   "metadata": {},
   "source": [
    "____________________________"
   ]
  },
  {
   "cell_type": "markdown",
   "metadata": {},
   "source": [
    "avisocuerpo, empresaid, avisolugartrabajo, sueldoestimado"
   ]
  },
  {
   "cell_type": "code",
   "execution_count": 21,
   "metadata": {},
   "outputs": [],
   "source": [
    "datau['duplicates_sueldoestimado1m'] = False\n",
    "datau['duplicates_sueldoestimado2m'] = False\n",
    "datau['duplicates_sueldoestimado3m'] = False\n",
    "datau['duplicates_sueldoestimado6m'] = False"
   ]
  },
  {
   "cell_type": "markdown",
   "metadata": {},
   "source": [
    "Each month (Window 1M)"
   ]
  },
  {
   "cell_type": "code",
   "execution_count": 22,
   "metadata": {},
   "outputs": [],
   "source": [
    "for x in range(len(dates1m)-1):\n",
    "    start_date = dates1m[x]\n",
    "    final_date = dates1m[x+1]\n",
    "\n",
    "    # Sub set with the date window\n",
    "    newData = datau[(datau['avisofechapublicacion'] >= start_date) & (datau['avisofechapublicacion'] < final_date)]\n",
    "\n",
    "    # Another Data frame with the duplicates for the newData subset\n",
    "    duplicates = newData[newData.duplicated(subset=['empresaid', 'avisocuerpo', 'avisolugartrabajo', 'sueldoestimado'], keep='first')]  # Dont consider the first realiztion, mark everything else as duplicate\n",
    "\n",
    "    # Check wich ad from Data dataFrame is in the duplicates dataFrame\n",
    "    datau['duplicates_sueldoestimado1m'] = datau['duplicates_sueldoestimado1m'] + datau.index.isin(duplicates.index)\n"
   ]
  },
  {
   "cell_type": "code",
   "execution_count": 23,
   "metadata": {},
   "outputs": [
    {
     "data": {
      "text/plain": [
       "False    2817936\n",
       "True      413835\n",
       "Name: duplicates_sueldoestimado1m, dtype: int64"
      ]
     },
     "execution_count": 23,
     "metadata": {},
     "output_type": "execute_result"
    }
   ],
   "source": [
    "datau['duplicates_sueldoestimado1m'].value_counts()"
   ]
  },
  {
   "cell_type": "markdown",
   "metadata": {},
   "source": [
    "Each two months (Window 2M)"
   ]
  },
  {
   "cell_type": "code",
   "execution_count": 24,
   "metadata": {},
   "outputs": [],
   "source": [
    "for x in range(len(dates2m)-1):\n",
    "    start_date = dates2m[x]\n",
    "    final_date = dates2m[x+1]\n",
    "\n",
    "    # Sub set with the date window\n",
    "    newData = datau[(datau['avisofechapublicacion'] >= start_date) & (datau['avisofechapublicacion'] < final_date)]\n",
    "\n",
    "    # Another Data frame with the duplicates for the newData subset\n",
    "    duplicates = newData[newData.duplicated(subset=['empresaid', 'avisocuerpo', 'avisolugartrabajo', 'sueldoestimado'], keep='first')]  # Dont consider the first realiztion, mark everything else as duplicate\n",
    "\n",
    "    # Check wich ad from Data dataFrame is in the duplicates dataFrame\n",
    "    datau['duplicates_sueldoestimado2m'] = datau['duplicates_sueldoestimado2m'] + datau.index.isin(duplicates.index)\n"
   ]
  },
  {
   "cell_type": "code",
   "execution_count": 25,
   "metadata": {},
   "outputs": [
    {
     "data": {
      "text/plain": [
       "False    2764567\n",
       "True      467204\n",
       "Name: duplicates_sueldoestimado2m, dtype: int64"
      ]
     },
     "execution_count": 25,
     "metadata": {},
     "output_type": "execute_result"
    }
   ],
   "source": [
    "datau['duplicates_sueldoestimado2m'].value_counts()"
   ]
  },
  {
   "cell_type": "markdown",
   "metadata": {},
   "source": [
    "Each quarter (Window 3M)"
   ]
  },
  {
   "cell_type": "code",
   "execution_count": 26,
   "metadata": {},
   "outputs": [],
   "source": [
    "for x in range(len(dates3m)-1):\n",
    "    start_date = dates3m[x]\n",
    "    final_date = dates3m[x+1]\n",
    "\n",
    "    # Sub set with the date window\n",
    "    newData = datau[(datau['avisofechapublicacion'] >= start_date) & (datau['avisofechapublicacion'] < final_date)]\n",
    "\n",
    "    # Another Data frame with the duplicates for the newData subset\n",
    "    duplicates = newData[newData.duplicated(subset=['empresaid', 'avisocuerpo', 'avisolugartrabajo', 'sueldoestimado'], keep='first')]  # Dont consider the first realiztion, mark everything else as duplicate\n",
    "\n",
    "    # Check wich ad from Data dataFrame is in the duplicates dataFrame\n",
    "    datau['duplicates_sueldoestimado3m'] = datau['duplicates_sueldoestimado3m'] + datau.index.isin(duplicates.index)\n"
   ]
  },
  {
   "cell_type": "code",
   "execution_count": 27,
   "metadata": {},
   "outputs": [
    {
     "data": {
      "text/plain": [
       "False    2734017\n",
       "True      497754\n",
       "Name: duplicates_sueldoestimado3m, dtype: int64"
      ]
     },
     "execution_count": 27,
     "metadata": {},
     "output_type": "execute_result"
    }
   ],
   "source": [
    "datau['duplicates_sueldoestimado3m'].value_counts()"
   ]
  },
  {
   "cell_type": "markdown",
   "metadata": {},
   "source": [
    "Each semester (Window 6M)"
   ]
  },
  {
   "cell_type": "code",
   "execution_count": 28,
   "metadata": {},
   "outputs": [],
   "source": [
    "for x in range(len(dates6m)-1):\n",
    "    start_date = dates6m[x]\n",
    "    final_date = dates6m[x+1]\n",
    "\n",
    "    # Sub set with the date window\n",
    "    newData = datau[(datau['avisofechapublicacion'] >= start_date) & (datau['avisofechapublicacion'] < final_date)]\n",
    "\n",
    "    # Another Data frame with the duplicates for the newData subset\n",
    "    duplicates = newData[newData.duplicated(subset=['empresaid', 'avisocuerpo', 'avisolugartrabajo', 'sueldoestimado'], keep='first')]  # Dont consider the first realiztion, mark everything else as duplicate\n",
    "\n",
    "    # Check wich ad from Data dataFrame is in the duplicates dataFrame\n",
    "    datau['duplicates_sueldoestimado6m'] = datau['duplicates_sueldoestimado6m'] + datau.index.isin(duplicates.index)\n"
   ]
  },
  {
   "cell_type": "code",
   "execution_count": 29,
   "metadata": {},
   "outputs": [
    {
     "data": {
      "text/plain": [
       "False    2692969\n",
       "True      538802\n",
       "Name: duplicates_sueldoestimado6m, dtype: int64"
      ]
     },
     "execution_count": 29,
     "metadata": {},
     "output_type": "execute_result"
    }
   ],
   "source": [
    "datau['duplicates_sueldoestimado6m'].value_counts()"
   ]
  },
  {
   "cell_type": "markdown",
   "metadata": {},
   "source": [
    "____________________"
   ]
  },
  {
   "cell_type": "markdown",
   "metadata": {},
   "source": [
    "avisocargo, avisocuerpo, empresaid, avisolugartrabajo"
   ]
  },
  {
   "cell_type": "code",
   "execution_count": 30,
   "metadata": {},
   "outputs": [],
   "source": [
    "datau['duplicates_avisocargo1m'] = False\n",
    "datau['duplicates_avisocargo2m'] = False\n",
    "datau['duplicates_avisocargo3m'] = False\n",
    "datau['duplicates_avisocargo6m'] = False"
   ]
  },
  {
   "cell_type": "markdown",
   "metadata": {},
   "source": [
    "Each month (Window 1M)"
   ]
  },
  {
   "cell_type": "code",
   "execution_count": 31,
   "metadata": {},
   "outputs": [],
   "source": [
    "for x in range(len(dates1m)-1):\n",
    "    start_date = dates1m[x] \n",
    "    final_date = dates1m[x+1]\n",
    "\n",
    "    # Sub set with the date window\n",
    "    newData = datau[(datau['avisofechapublicacion'] >= start_date) & (datau['avisofechapublicacion'] < final_date)]\n",
    "\n",
    "    # Another Data frame with the duplicates for the newData subset\n",
    "    duplicates = newData[newData.duplicated(subset=['empresaid', 'avisocargo', 'avisocuerpo', 'avisolugartrabajo'], keep='first')]  # Dont consider the first realiztion, mark everything else as duplicate\n",
    "\n",
    "    # Check wich ad from Data dataFrame is in the duplicates dataFrame\n",
    "    datau['duplicates_avisocargo1m'] = datau['duplicates_avisocargo1m'] + datau.index.isin(duplicates.index)"
   ]
  },
  {
   "cell_type": "code",
   "execution_count": 32,
   "metadata": {},
   "outputs": [
    {
     "data": {
      "text/plain": [
       "False    2949508\n",
       "True      282263\n",
       "Name: duplicates_avisocargo1m, dtype: int64"
      ]
     },
     "execution_count": 32,
     "metadata": {},
     "output_type": "execute_result"
    }
   ],
   "source": [
    "datau['duplicates_avisocargo1m'].value_counts()"
   ]
  },
  {
   "cell_type": "markdown",
   "metadata": {},
   "source": [
    "Each two months (Window 2M)"
   ]
  },
  {
   "cell_type": "code",
   "execution_count": 33,
   "metadata": {},
   "outputs": [],
   "source": [
    "for x in range(len(dates2m)-1):\n",
    "    start_date = dates2m[x] \n",
    "    final_date = dates2m[x+1]\n",
    "\n",
    "    # Sub set with the date window\n",
    "    newData = datau[(datau['avisofechapublicacion'] >= start_date) & (datau['avisofechapublicacion'] < final_date)]\n",
    "\n",
    "    # Another Data frame with the duplicates for the newData subset\n",
    "    duplicates = newData[newData.duplicated(subset=['empresaid', 'avisocargo', 'avisocuerpo', 'avisolugartrabajo'], keep='first')]  # Dont consider the first realiztion, mark everything else as duplicate\n",
    "\n",
    "    # Check wich ad from Data dataFrame is in the duplicates dataFrame\n",
    "    datau['duplicates_avisocargo2m'] = datau['duplicates_avisocargo2m'] + datau.index.isin(duplicates.index)"
   ]
  },
  {
   "cell_type": "code",
   "execution_count": 34,
   "metadata": {},
   "outputs": [
    {
     "data": {
      "text/plain": [
       "False    2902001\n",
       "True      329770\n",
       "Name: duplicates_avisocargo2m, dtype: int64"
      ]
     },
     "execution_count": 34,
     "metadata": {},
     "output_type": "execute_result"
    }
   ],
   "source": [
    "datau['duplicates_avisocargo2m'].value_counts()"
   ]
  },
  {
   "cell_type": "markdown",
   "metadata": {},
   "source": [
    "Each quarter (Window 3M)"
   ]
  },
  {
   "cell_type": "code",
   "execution_count": 35,
   "metadata": {},
   "outputs": [],
   "source": [
    "for x in range(len(dates3m)-1):\n",
    "    start_date = dates3m[x] \n",
    "    final_date = dates3m[x+1]\n",
    "\n",
    "    # Sub set with the date window\n",
    "    newData = datau[(datau['avisofechapublicacion'] >= start_date) & (datau['avisofechapublicacion'] < final_date)]\n",
    "\n",
    "    # Another Data frame with the duplicates for the newData subset\n",
    "    duplicates = newData[newData.duplicated(subset=['empresaid', 'avisocargo', 'avisocuerpo', 'avisolugartrabajo'], keep='first')]  # Dont consider the first realiztion, mark everything else as duplicate\n",
    "\n",
    "    # Check wich ad from Data dataFrame is in the duplicates dataFrame\n",
    "    datau['duplicates_avisocargo3m'] = datau['duplicates_avisocargo3m'] + datau.index.isin(duplicates.index)"
   ]
  },
  {
   "cell_type": "code",
   "execution_count": 36,
   "metadata": {},
   "outputs": [
    {
     "data": {
      "text/plain": [
       "False    2874593\n",
       "True      357178\n",
       "Name: duplicates_avisocargo3m, dtype: int64"
      ]
     },
     "execution_count": 36,
     "metadata": {},
     "output_type": "execute_result"
    }
   ],
   "source": [
    "datau['duplicates_avisocargo3m'].value_counts()"
   ]
  },
  {
   "cell_type": "markdown",
   "metadata": {},
   "source": [
    "Each semester (Window 6M)"
   ]
  },
  {
   "cell_type": "code",
   "execution_count": 37,
   "metadata": {},
   "outputs": [],
   "source": [
    "for x in range(len(dates6m)-1):\n",
    "    start_date = dates6m[x] \n",
    "    final_date = dates6m[x+1]\n",
    "\n",
    "    # Sub set with the date window\n",
    "    newData = datau[(datau['avisofechapublicacion'] >= start_date) & (datau['avisofechapublicacion'] < final_date)]\n",
    "\n",
    "    # Another Data frame with the duplicates for the newData subset\n",
    "    duplicates = newData[newData.duplicated(subset=['empresaid', 'avisocargo', 'avisocuerpo', 'avisolugartrabajo'], keep='first')]  # Dont consider the first realiztion, mark everything else as duplicate\n",
    "\n",
    "    # Check wich ad from Data dataFrame is in the duplicates dataFrame\n",
    "    datau['duplicates_avisocargo6m'] = datau['duplicates_avisocargo6m'] + datau.index.isin(duplicates.index)"
   ]
  },
  {
   "cell_type": "code",
   "execution_count": 38,
   "metadata": {},
   "outputs": [
    {
     "data": {
      "text/plain": [
       "False    2836094\n",
       "True      395677\n",
       "Name: duplicates_avisocargo6m, dtype: int64"
      ]
     },
     "execution_count": 38,
     "metadata": {},
     "output_type": "execute_result"
    }
   ],
   "source": [
    "datau['duplicates_avisocargo6m'].value_counts()"
   ]
  },
  {
   "cell_type": "markdown",
   "metadata": {},
   "source": [
    "Save the data"
   ]
  },
  {
   "cell_type": "code",
   "execution_count": 43,
   "metadata": {},
   "outputs": [],
   "source": [
    "d1 = datau[datau['tp'] == 1] # Till september 2019\n",
    "d2 = datau[datau['tp'] == 2] # October 2019 to March 2020\n",
    "d3 = datau[datau['tp'] == 3] # March 2020 to 2021\n",
    "d4 = datau[datau['tp'] == 4] # 2021 onwards"
   ]
  },
  {
   "cell_type": "code",
   "execution_count": 47,
   "metadata": {},
   "outputs": [],
   "source": [
    "d1.to_csv(f'datos\\counted\\d1_allcounted.csv')\n",
    "d2.to_csv(f'datos\\counted\\d2_allcounted.csv')\n",
    "d3.to_csv(f'datos\\counted\\d3_allcounted.csv')\n",
    "d4.to_csv(f'datos\\counted\\d4_allcounted.csv')"
   ]
  }
 ],
 "metadata": {
  "kernelspec": {
   "display_name": "Python 3",
   "language": "python",
   "name": "python3"
  },
  "language_info": {
   "codemirror_mode": {
    "name": "ipython",
    "version": 3
   },
   "file_extension": ".py",
   "mimetype": "text/x-python",
   "name": "python",
   "nbconvert_exporter": "python",
   "pygments_lexer": "ipython3",
   "version": "3.11.2"
  }
 },
 "nbformat": 4,
 "nbformat_minor": 2
}

{
 "cells": [
  {
   "cell_type": "code",
   "execution_count": 244,
   "metadata": {},
   "outputs": [],
   "source": [
    "import numpy as np\n",
    "import pandas as pd\n",
    "\n",
    "from datetime import datetime, timedelta"
   ]
  },
  {
   "cell_type": "markdown",
   "metadata": {},
   "source": [
    "### Choose a time partition"
   ]
  },
  {
   "cell_type": "code",
   "execution_count": 245,
   "metadata": {},
   "outputs": [],
   "source": [
    "tp = 4"
   ]
  },
  {
   "cell_type": "markdown",
   "metadata": {},
   "source": [
    "Load Database"
   ]
  },
  {
   "cell_type": "code",
   "execution_count": 246,
   "metadata": {},
   "outputs": [],
   "source": [
    "data  = pd.read_csv(f'datos\\counted\\d{tp}_counted.csv', index_col=0)"
   ]
  },
  {
   "cell_type": "code",
   "execution_count": 279,
   "metadata": {},
   "outputs": [
    {
     "data": {
      "text/plain": [
       "Index(['avisoid', 'empresaid', 'avisofechapublicacion', 'avisovacante',\n",
       "       'mostrarsueldo', 'avisoexperiencia', 'expiracion', 'dias',\n",
       "       'avisorepublicacion', 'avisocargo', 'areanombre',\n",
       "       'actividadempresanombre', 'avisocuerpo', 'disponibilidadnombre',\n",
       "       'avisoduracioncont', 'avisolugartrabajo', 'gradoescolarnombre',\n",
       "       'situacionestudios', 'avisorequisitos', 'carreras', 'estado',\n",
       "       'endpagado_o_gratuito', 'nivelnombre', 'carreras_array',\n",
       "       'sueldoestimado', '_merge', 'teletrabajo_', 'avcu_b1', 'avca_b1',\n",
       "       'avre_b1', 'avcu_b2', 'avca_b2', 'avre_b2', 'avcu_b3', 'avca_b3',\n",
       "       'avre_b3', 'avcu_b4', 'avca_b4', 'avre_b4', 'bucket1', 'bucket2',\n",
       "       'bucket3', 'bucket4', 'wfh', 'similars', 'pseudoindex',\n",
       "       'duplicates_avisocuerpo1m', 'duplicates_avisocuerpo2m',\n",
       "       'duplicates_avisocuerpo3m', 'duplicates_avisocuerpo6m',\n",
       "       'duplicates_avisocargo1m', 'duplicates_avisocargo2m',\n",
       "       'duplicates_avisocargo3m', 'duplicates_avisocargo6m',\n",
       "       'duplicates_sueldoestimado1m', 'duplicates_sueldoestimado2m',\n",
       "       'duplicates_sueldoestimado3m', 'duplicates_sueldoestimado6m'],\n",
       "      dtype='object')"
      ]
     },
     "execution_count": 279,
     "metadata": {},
     "output_type": "execute_result"
    }
   ],
   "source": [
    "data.columns"
   ]
  },
  {
   "cell_type": "code",
   "execution_count": 248,
   "metadata": {},
   "outputs": [],
   "source": [
    "data['avisofechapublicacion'] = pd.to_datetime(data['avisofechapublicacion'])"
   ]
  },
  {
   "cell_type": "markdown",
   "metadata": {},
   "source": [
    "### Choose a window size"
   ]
  },
  {
   "cell_type": "code",
   "execution_count": 249,
   "metadata": {},
   "outputs": [],
   "source": [
    "# Calculate the start and end dates\n",
    "start_date = data['avisofechapublicacion'].min()\n",
    "end_date = data['avisofechapublicacion'].max()\n",
    "\n",
    "# Create a date range with intervals\n",
    "date_range_3m = pd.date_range(start=start_date, end=end_date, freq='3M') #3M stands for three months\n",
    "date_range_2m = pd.date_range(start=start_date, end=end_date, freq='2M') #3M stands for three months\n",
    "date_range_1m = pd.date_range(start=start_date, end=end_date, freq='1M') #3M stands for three months\n",
    "date_range_6m = pd.date_range(start=start_date, end=end_date, freq='6M') #3M stands for three months\n",
    "\n",
    "# Create a Pandas Series with the date range\n",
    "dates1m = pd.Series(date_range_1m)\n",
    "dates2m = pd.Series(date_range_2m)\n",
    "dates3m = pd.Series(date_range_3m)\n",
    "dates6m = pd.Series(date_range_6m)"
   ]
  },
  {
   "cell_type": "markdown",
   "metadata": {},
   "source": [
    "______________________"
   ]
  },
  {
   "cell_type": "markdown",
   "metadata": {},
   "source": [
    "avisocuerpo, empresaid, avisolugartrabajo"
   ]
  },
  {
   "cell_type": "code",
   "execution_count": 250,
   "metadata": {},
   "outputs": [],
   "source": [
    "data['duplicates_avisocuerpo1m'] = False\n",
    "data['duplicates_avisocuerpo2m'] = False\n",
    "data['duplicates_avisocuerpo3m'] = False\n",
    "data['duplicates_avisocuerpo6m'] = False"
   ]
  },
  {
   "cell_type": "markdown",
   "metadata": {},
   "source": [
    "Each month (Window 1M)"
   ]
  },
  {
   "cell_type": "code",
   "execution_count": 251,
   "metadata": {},
   "outputs": [],
   "source": [
    "for x in range(len(dates1m)-1):\n",
    "    start_date = dates1m[x]\n",
    "    final_date = dates1m[x+1]\n",
    "\n",
    "    # Sub set with the date window\n",
    "    newData = data[(data['avisofechapublicacion'] >= start_date) & (data['avisofechapublicacion'] < final_date)]\n",
    "\n",
    "    # Another Data frame with the duplicates for the newData subset\n",
    "    duplicates = newData[newData.duplicated(subset=['empresaid', 'avisocuerpo', 'avisolugartrabajo'], keep='first')]  # Dont consider the first realiztion, mark everything else as duplicate\n",
    "\n",
    "    # Check wich ad from Data dataFrame is in the duplicates dataFrame\n",
    "    data['duplicates_avisocuerpo1m'] = data['duplicates_avisocuerpo1m'] + data.index.isin(duplicates.index)\n"
   ]
  },
  {
   "cell_type": "code",
   "execution_count": 252,
   "metadata": {},
   "outputs": [
    {
     "data": {
      "text/plain": [
       "False    613043\n",
       "True     117268\n",
       "Name: duplicates_avisocuerpo1m, dtype: int64"
      ]
     },
     "execution_count": 252,
     "metadata": {},
     "output_type": "execute_result"
    }
   ],
   "source": [
    "data['duplicates_avisocuerpo1m'].value_counts()"
   ]
  },
  {
   "cell_type": "markdown",
   "metadata": {},
   "source": [
    "Each two months (Window 2M)"
   ]
  },
  {
   "cell_type": "code",
   "execution_count": 253,
   "metadata": {},
   "outputs": [],
   "source": [
    "for x in range(len(dates2m)-1):\n",
    "    start_date = dates2m[x]\n",
    "    final_date = dates2m[x+1]\n",
    "\n",
    "    # Sub set with the date window\n",
    "    newData = data[(data['avisofechapublicacion'] >= start_date) & (data['avisofechapublicacion'] < final_date)]\n",
    "\n",
    "    # Another Data frame with the duplicates for the newData subset\n",
    "    duplicates = newData[newData.duplicated(subset=['empresaid', 'avisocuerpo', 'avisolugartrabajo'], keep='first')]  # Dont consider the first realiztion, mark everything else as duplicate\n",
    "\n",
    "    # Check wich ad from Data dataFrame is in the duplicates dataFrame\n",
    "    data['duplicates_avisocuerpo2m'] = data['duplicates_avisocuerpo2m'] + data.index.isin(duplicates.index)\n"
   ]
  },
  {
   "cell_type": "code",
   "execution_count": 254,
   "metadata": {},
   "outputs": [
    {
     "data": {
      "text/plain": [
       "False    589907\n",
       "True     140404\n",
       "Name: duplicates_avisocuerpo2m, dtype: int64"
      ]
     },
     "execution_count": 254,
     "metadata": {},
     "output_type": "execute_result"
    }
   ],
   "source": [
    "data['duplicates_avisocuerpo2m'].value_counts()"
   ]
  },
  {
   "cell_type": "markdown",
   "metadata": {},
   "source": [
    "Each quarter (Window 3M)"
   ]
  },
  {
   "cell_type": "code",
   "execution_count": 255,
   "metadata": {},
   "outputs": [],
   "source": [
    "for x in range(len(dates3m)-1):\n",
    "    start_date = dates3m[x]\n",
    "    final_date = dates3m[x+1]\n",
    "\n",
    "    # Sub set with the date window\n",
    "    newData = data[(data['avisofechapublicacion'] >= start_date) & (data['avisofechapublicacion'] < final_date)]\n",
    "\n",
    "    # Another Data frame with the duplicates for the newData subset\n",
    "    duplicates = newData[newData.duplicated(subset=['empresaid', 'avisocuerpo', 'avisolugartrabajo'], keep='first')]  # Dont consider the first realiztion, mark everything else as duplicate\n",
    "\n",
    "    # Check wich ad from Data dataFrame is in the duplicates dataFrame\n",
    "    data['duplicates_avisocuerpo3m'] = data['duplicates_avisocuerpo3m'] + data.index.isin(duplicates.index)\n"
   ]
  },
  {
   "cell_type": "code",
   "execution_count": 256,
   "metadata": {},
   "outputs": [
    {
     "data": {
      "text/plain": [
       "False    575144\n",
       "True     155167\n",
       "Name: duplicates_avisocuerpo3m, dtype: int64"
      ]
     },
     "execution_count": 256,
     "metadata": {},
     "output_type": "execute_result"
    }
   ],
   "source": [
    "data['duplicates_avisocuerpo3m'].value_counts()"
   ]
  },
  {
   "cell_type": "markdown",
   "metadata": {},
   "source": [
    "Each semester (Window 6M)"
   ]
  },
  {
   "cell_type": "code",
   "execution_count": 257,
   "metadata": {},
   "outputs": [],
   "source": [
    "for x in range(len(dates6m)-1):\n",
    "    start_date = dates6m[x]\n",
    "    final_date = dates6m[x+1]\n",
    "\n",
    "    # Sub set with the date window\n",
    "    newData = data[(data['avisofechapublicacion'] >= start_date) & (data['avisofechapublicacion'] < final_date)]\n",
    "\n",
    "    # Another Data frame with the duplicates for the newData subset\n",
    "    duplicates = newData[newData.duplicated(subset=['empresaid', 'avisocuerpo', 'avisolugartrabajo'], keep='first')]  # Dont consider the first realiztion, mark everything else as duplicate\n",
    "\n",
    "    # Check wich ad from Data dataFrame is in the duplicates dataFrame\n",
    "    data['duplicates_avisocuerpo6m'] = data['duplicates_avisocuerpo6m'] + data.index.isin(duplicates.index)\n"
   ]
  },
  {
   "cell_type": "code",
   "execution_count": 258,
   "metadata": {},
   "outputs": [
    {
     "data": {
      "text/plain": [
       "False    558367\n",
       "True     171944\n",
       "Name: duplicates_avisocuerpo6m, dtype: int64"
      ]
     },
     "execution_count": 258,
     "metadata": {},
     "output_type": "execute_result"
    }
   ],
   "source": [
    "data['duplicates_avisocuerpo6m'].value_counts()"
   ]
  },
  {
   "cell_type": "markdown",
   "metadata": {},
   "source": [
    "____________________________"
   ]
  },
  {
   "cell_type": "markdown",
   "metadata": {},
   "source": [
    "avisocuerpo, empresaid, avisolugartrabajo, sueldoestimado"
   ]
  },
  {
   "cell_type": "code",
   "execution_count": 259,
   "metadata": {},
   "outputs": [],
   "source": [
    "data['duplicates_sueldoestimado1m'] = False\n",
    "data['duplicates_sueldoestimado2m'] = False\n",
    "data['duplicates_sueldoestimado3m'] = False\n",
    "data['duplicates_sueldoestimado6m'] = False"
   ]
  },
  {
   "cell_type": "markdown",
   "metadata": {},
   "source": [
    "Each month (Window 1M)"
   ]
  },
  {
   "cell_type": "code",
   "execution_count": 260,
   "metadata": {},
   "outputs": [],
   "source": [
    "for x in range(len(dates1m)-1):\n",
    "    start_date = dates1m[x]\n",
    "    final_date = dates1m[x+1]\n",
    "\n",
    "    # Sub set with the date window\n",
    "    newData = data[(data['avisofechapublicacion'] >= start_date) & (data['avisofechapublicacion'] < final_date)]\n",
    "\n",
    "    # Another Data frame with the duplicates for the newData subset\n",
    "    duplicates = newData[newData.duplicated(subset=['empresaid', 'avisocuerpo', 'avisolugartrabajo', 'sueldoestimado'], keep='first')]  # Dont consider the first realiztion, mark everything else as duplicate\n",
    "\n",
    "    # Check wich ad from Data dataFrame is in the duplicates dataFrame\n",
    "    data['duplicates_sueldoestimado1m'] = data['duplicates_sueldoestimado1m'] + data.index.isin(duplicates.index)\n"
   ]
  },
  {
   "cell_type": "code",
   "execution_count": 261,
   "metadata": {},
   "outputs": [
    {
     "data": {
      "text/plain": [
       "False    617872\n",
       "True     112439\n",
       "Name: duplicates_sueldoestimado1m, dtype: int64"
      ]
     },
     "execution_count": 261,
     "metadata": {},
     "output_type": "execute_result"
    }
   ],
   "source": [
    "data['duplicates_sueldoestimado1m'].value_counts()"
   ]
  },
  {
   "cell_type": "markdown",
   "metadata": {},
   "source": [
    "Each two months (Window 2M)"
   ]
  },
  {
   "cell_type": "code",
   "execution_count": 262,
   "metadata": {},
   "outputs": [],
   "source": [
    "for x in range(len(dates2m)-1):\n",
    "    start_date = dates2m[x]\n",
    "    final_date = dates2m[x+1]\n",
    "\n",
    "    # Sub set with the date window\n",
    "    newData = data[(data['avisofechapublicacion'] >= start_date) & (data['avisofechapublicacion'] < final_date)]\n",
    "\n",
    "    # Another Data frame with the duplicates for the newData subset\n",
    "    duplicates = newData[newData.duplicated(subset=['empresaid', 'avisocuerpo', 'avisolugartrabajo', 'sueldoestimado'], keep='first')]  # Dont consider the first realiztion, mark everything else as duplicate\n",
    "\n",
    "    # Check wich ad from Data dataFrame is in the duplicates dataFrame\n",
    "    data['duplicates_sueldoestimado2m'] = data['duplicates_sueldoestimado2m'] + data.index.isin(duplicates.index)\n"
   ]
  },
  {
   "cell_type": "code",
   "execution_count": 263,
   "metadata": {},
   "outputs": [
    {
     "data": {
      "text/plain": [
       "False    595978\n",
       "True     134333\n",
       "Name: duplicates_sueldoestimado2m, dtype: int64"
      ]
     },
     "execution_count": 263,
     "metadata": {},
     "output_type": "execute_result"
    }
   ],
   "source": [
    "data['duplicates_sueldoestimado2m'].value_counts()"
   ]
  },
  {
   "cell_type": "markdown",
   "metadata": {},
   "source": [
    "Each quarter (Window 3M)"
   ]
  },
  {
   "cell_type": "code",
   "execution_count": 264,
   "metadata": {},
   "outputs": [],
   "source": [
    "for x in range(len(dates3m)-1):\n",
    "    start_date = dates3m[x]\n",
    "    final_date = dates3m[x+1]\n",
    "\n",
    "    # Sub set with the date window\n",
    "    newData = data[(data['avisofechapublicacion'] >= start_date) & (data['avisofechapublicacion'] < final_date)]\n",
    "\n",
    "    # Another Data frame with the duplicates for the newData subset\n",
    "    duplicates = newData[newData.duplicated(subset=['empresaid', 'avisocuerpo', 'avisolugartrabajo', 'sueldoestimado'], keep='first')]  # Dont consider the first realiztion, mark everything else as duplicate\n",
    "\n",
    "    # Check wich ad from Data dataFrame is in the duplicates dataFrame\n",
    "    data['duplicates_sueldoestimado3m'] = data['duplicates_sueldoestimado3m'] + data.index.isin(duplicates.index)\n"
   ]
  },
  {
   "cell_type": "code",
   "execution_count": 265,
   "metadata": {},
   "outputs": [
    {
     "data": {
      "text/plain": [
       "False    582103\n",
       "True     148208\n",
       "Name: duplicates_sueldoestimado3m, dtype: int64"
      ]
     },
     "execution_count": 265,
     "metadata": {},
     "output_type": "execute_result"
    }
   ],
   "source": [
    "data['duplicates_sueldoestimado3m'].value_counts()"
   ]
  },
  {
   "cell_type": "markdown",
   "metadata": {},
   "source": [
    "Each semester (Window 6M)"
   ]
  },
  {
   "cell_type": "code",
   "execution_count": 266,
   "metadata": {},
   "outputs": [],
   "source": [
    "for x in range(len(dates6m)-1):\n",
    "    start_date = dates6m[x]\n",
    "    final_date = dates6m[x+1]\n",
    "\n",
    "    # Sub set with the date window\n",
    "    newData = data[(data['avisofechapublicacion'] >= start_date) & (data['avisofechapublicacion'] < final_date)]\n",
    "\n",
    "    # Another Data frame with the duplicates for the newData subset\n",
    "    duplicates = newData[newData.duplicated(subset=['empresaid', 'avisocuerpo', 'avisolugartrabajo', 'sueldoestimado'], keep='first')]  # Dont consider the first realiztion, mark everything else as duplicate\n",
    "\n",
    "    # Check wich ad from Data dataFrame is in the duplicates dataFrame\n",
    "    data['duplicates_sueldoestimado6m'] = data['duplicates_sueldoestimado6m'] + data.index.isin(duplicates.index)\n"
   ]
  },
  {
   "cell_type": "code",
   "execution_count": 267,
   "metadata": {},
   "outputs": [
    {
     "data": {
      "text/plain": [
       "False    566516\n",
       "True     163795\n",
       "Name: duplicates_sueldoestimado6m, dtype: int64"
      ]
     },
     "execution_count": 267,
     "metadata": {},
     "output_type": "execute_result"
    }
   ],
   "source": [
    "data['duplicates_sueldoestimado6m'].value_counts()"
   ]
  },
  {
   "cell_type": "markdown",
   "metadata": {},
   "source": [
    "____________________"
   ]
  },
  {
   "cell_type": "markdown",
   "metadata": {},
   "source": [
    "avisocargo, avisocuerpo, empresaid, avisolugartrabajo"
   ]
  },
  {
   "cell_type": "code",
   "execution_count": 268,
   "metadata": {},
   "outputs": [],
   "source": [
    "data['duplicates_avisocargo1m'] = False\n",
    "data['duplicates_avisocargo2m'] = False\n",
    "data['duplicates_avisocargo3m'] = False\n",
    "data['duplicates_avisocargo6m'] = False"
   ]
  },
  {
   "cell_type": "markdown",
   "metadata": {},
   "source": [
    "Each month (Window 1M)"
   ]
  },
  {
   "cell_type": "code",
   "execution_count": 269,
   "metadata": {},
   "outputs": [],
   "source": [
    "for x in range(len(dates1m)-1):\n",
    "    start_date = dates1m[x] \n",
    "    final_date = dates1m[x+1]\n",
    "\n",
    "    # Sub set with the date window\n",
    "    newData = data[(data['avisofechapublicacion'] >= start_date) & (data['avisofechapublicacion'] < final_date)]\n",
    "\n",
    "    # Another Data frame with the duplicates for the newData subset\n",
    "    duplicates = newData[newData.duplicated(subset=['empresaid', 'avisocargo', 'avisocuerpo', 'avisolugartrabajo'], keep='first')]  # Dont consider the first realiztion, mark everything else as duplicate\n",
    "\n",
    "    # Check wich ad from Data dataFrame is in the duplicates dataFrame\n",
    "    data['duplicates_avisocargo1m'] = data['duplicates_avisocargo1m'] + data.index.isin(duplicates.index)"
   ]
  },
  {
   "cell_type": "code",
   "execution_count": 270,
   "metadata": {},
   "outputs": [
    {
     "data": {
      "text/plain": [
       "False    647049\n",
       "True      83262\n",
       "Name: duplicates_avisocargo1m, dtype: int64"
      ]
     },
     "execution_count": 270,
     "metadata": {},
     "output_type": "execute_result"
    }
   ],
   "source": [
    "data['duplicates_avisocargo1m'].value_counts()"
   ]
  },
  {
   "cell_type": "markdown",
   "metadata": {},
   "source": [
    "Each two months (Window 2M)"
   ]
  },
  {
   "cell_type": "code",
   "execution_count": 271,
   "metadata": {},
   "outputs": [],
   "source": [
    "for x in range(len(dates2m)-1):\n",
    "    start_date = dates2m[x] \n",
    "    final_date = dates2m[x+1]\n",
    "\n",
    "    # Sub set with the date window\n",
    "    newData = data[(data['avisofechapublicacion'] >= start_date) & (data['avisofechapublicacion'] < final_date)]\n",
    "\n",
    "    # Another Data frame with the duplicates for the newData subset\n",
    "    duplicates = newData[newData.duplicated(subset=['empresaid', 'avisocargo', 'avisocuerpo', 'avisolugartrabajo'], keep='first')]  # Dont consider the first realiztion, mark everything else as duplicate\n",
    "\n",
    "    # Check wich ad from Data dataFrame is in the duplicates dataFrame\n",
    "    data['duplicates_avisocargo2m'] = data['duplicates_avisocargo2m'] + data.index.isin(duplicates.index)"
   ]
  },
  {
   "cell_type": "code",
   "execution_count": 272,
   "metadata": {},
   "outputs": [
    {
     "data": {
      "text/plain": [
       "False    627865\n",
       "True     102446\n",
       "Name: duplicates_avisocargo2m, dtype: int64"
      ]
     },
     "execution_count": 272,
     "metadata": {},
     "output_type": "execute_result"
    }
   ],
   "source": [
    "data['duplicates_avisocargo2m'].value_counts()"
   ]
  },
  {
   "cell_type": "markdown",
   "metadata": {},
   "source": [
    "Each quarter (Window 3M)"
   ]
  },
  {
   "cell_type": "code",
   "execution_count": 273,
   "metadata": {},
   "outputs": [],
   "source": [
    "for x in range(len(dates3m)-1):\n",
    "    start_date = dates3m[x] \n",
    "    final_date = dates3m[x+1]\n",
    "\n",
    "    # Sub set with the date window\n",
    "    newData = data[(data['avisofechapublicacion'] >= start_date) & (data['avisofechapublicacion'] < final_date)]\n",
    "\n",
    "    # Another Data frame with the duplicates for the newData subset\n",
    "    duplicates = newData[newData.duplicated(subset=['empresaid', 'avisocargo', 'avisocuerpo', 'avisolugartrabajo'], keep='first')]  # Dont consider the first realiztion, mark everything else as duplicate\n",
    "\n",
    "    # Check wich ad from Data dataFrame is in the duplicates dataFrame\n",
    "    data['duplicates_avisocargo3m'] = data['duplicates_avisocargo3m'] + data.index.isin(duplicates.index)"
   ]
  },
  {
   "cell_type": "code",
   "execution_count": 274,
   "metadata": {},
   "outputs": [
    {
     "data": {
      "text/plain": [
       "False    615376\n",
       "True     114935\n",
       "Name: duplicates_avisocargo3m, dtype: int64"
      ]
     },
     "execution_count": 274,
     "metadata": {},
     "output_type": "execute_result"
    }
   ],
   "source": [
    "data['duplicates_avisocargo3m'].value_counts()"
   ]
  },
  {
   "cell_type": "markdown",
   "metadata": {},
   "source": [
    "Each semester (Window 6M)"
   ]
  },
  {
   "cell_type": "code",
   "execution_count": 275,
   "metadata": {},
   "outputs": [],
   "source": [
    "for x in range(len(dates6m)-1):\n",
    "    start_date = dates6m[x] \n",
    "    final_date = dates6m[x+1]\n",
    "\n",
    "    # Sub set with the date window\n",
    "    newData = data[(data['avisofechapublicacion'] >= start_date) & (data['avisofechapublicacion'] < final_date)]\n",
    "\n",
    "    # Another Data frame with the duplicates for the newData subset\n",
    "    duplicates = newData[newData.duplicated(subset=['empresaid', 'avisocargo', 'avisocuerpo', 'avisolugartrabajo'], keep='first')]  # Dont consider the first realiztion, mark everything else as duplicate\n",
    "\n",
    "    # Check wich ad from Data dataFrame is in the duplicates dataFrame\n",
    "    data['duplicates_avisocargo6m'] = data['duplicates_avisocargo6m'] + data.index.isin(duplicates.index)"
   ]
  },
  {
   "cell_type": "code",
   "execution_count": 276,
   "metadata": {},
   "outputs": [
    {
     "data": {
      "text/plain": [
       "False    601068\n",
       "True     129243\n",
       "Name: duplicates_avisocargo6m, dtype: int64"
      ]
     },
     "execution_count": 276,
     "metadata": {},
     "output_type": "execute_result"
    }
   ],
   "source": [
    "data['duplicates_avisocargo6m'].value_counts()"
   ]
  },
  {
   "cell_type": "markdown",
   "metadata": {},
   "source": [
    "Save the data"
   ]
  },
  {
   "cell_type": "code",
   "execution_count": 277,
   "metadata": {},
   "outputs": [
    {
     "data": {
      "text/plain": [
       "Index(['avisoid', 'empresaid', 'avisofechapublicacion', 'avisovacante',\n",
       "       'mostrarsueldo', 'avisoexperiencia', 'expiracion', 'dias',\n",
       "       'avisorepublicacion', 'avisocargo', 'areanombre',\n",
       "       'actividadempresanombre', 'avisocuerpo', 'disponibilidadnombre',\n",
       "       'avisoduracioncont', 'avisolugartrabajo', 'gradoescolarnombre',\n",
       "       'situacionestudios', 'avisorequisitos', 'carreras', 'estado',\n",
       "       'endpagado_o_gratuito', 'nivelnombre', 'carreras_array',\n",
       "       'sueldoestimado', '_merge', 'teletrabajo_', 'avcu_b1', 'avca_b1',\n",
       "       'avre_b1', 'avcu_b2', 'avca_b2', 'avre_b2', 'avcu_b3', 'avca_b3',\n",
       "       'avre_b3', 'avcu_b4', 'avca_b4', 'avre_b4', 'bucket1', 'bucket2',\n",
       "       'bucket3', 'bucket4', 'wfh', 'similars', 'pseudoindex',\n",
       "       'duplicates_avisocuerpo1m', 'duplicates_avisocuerpo2m',\n",
       "       'duplicates_avisocuerpo3m', 'duplicates_avisocuerpo6m',\n",
       "       'duplicates_avisocargo1m', 'duplicates_avisocargo2m',\n",
       "       'duplicates_avisocargo3m', 'duplicates_avisocargo6m',\n",
       "       'duplicates_sueldoestimado1m', 'duplicates_sueldoestimado2m',\n",
       "       'duplicates_sueldoestimado3m', 'duplicates_sueldoestimado6m'],\n",
       "      dtype='object')"
      ]
     },
     "execution_count": 277,
     "metadata": {},
     "output_type": "execute_result"
    }
   ],
   "source": [
    "data.columns"
   ]
  },
  {
   "cell_type": "code",
   "execution_count": 278,
   "metadata": {},
   "outputs": [],
   "source": [
    "data.to_csv(f'datos\\counted\\d{tp}_counted.csv')"
   ]
  }
 ],
 "metadata": {
  "kernelspec": {
   "display_name": "Python 3",
   "language": "python",
   "name": "python3"
  },
  "language_info": {
   "codemirror_mode": {
    "name": "ipython",
    "version": 3
   },
   "file_extension": ".py",
   "mimetype": "text/x-python",
   "name": "python",
   "nbconvert_exporter": "python",
   "pygments_lexer": "ipython3",
   "version": "3.11.2"
  }
 },
 "nbformat": 4,
 "nbformat_minor": 2
}

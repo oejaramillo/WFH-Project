{
 "cells": [
  {
   "cell_type": "code",
   "execution_count": 41,
   "metadata": {},
   "outputs": [],
   "source": [
    "import pandas as pd\n",
    "import numpy as np"
   ]
  },
  {
   "cell_type": "code",
   "execution_count": 42,
   "metadata": {},
   "outputs": [],
   "source": [
    "years = range(2008, 2024)"
   ]
  },
  {
   "cell_type": "code",
   "execution_count": 43,
   "metadata": {},
   "outputs": [],
   "source": [
    "data = {}\n",
    "\n",
    "path = 'datos//buckets/'\n",
    "\n",
    "for year in years:\n",
    "    file = f'd{year}_counted.csv'\n",
    "    file_path = path + file\n",
    "    data[f'd{year}'] = pd.read_csv(file_path, index_col=0)"
   ]
  },
  {
   "cell_type": "code",
   "execution_count": 44,
   "metadata": {},
   "outputs": [],
   "source": [
    "for year in years:\n",
    "    data[f'd{year}'] = data[f'd{year}'].loc[data[f'd{year}']['similars'] != '[]']"
   ]
  },
  {
   "cell_type": "code",
   "execution_count": 46,
   "metadata": {},
   "outputs": [
    {
     "data": {
      "text/plain": [
       "Index(['pyindex', 'avisoid', 'empresaid', 'avisofechapublicacion',\n",
       "       'avisovacante', 'mostrarsueldo', 'avisoexperiencia', 'expiracion',\n",
       "       'dias', 'avisorepublicacion', 'avisocargo', 'areanombre',\n",
       "       'actividadempresanombre', 'avisocuerpo', 'disponibilidadnombre',\n",
       "       'avisoduracioncont', 'avisolugartrabajo', 'gradoescolarnombre',\n",
       "       'situacionestudios', 'avisorequisitos', 'carreras', 'estado',\n",
       "       'endpagado_o_gratuito', 'nivelnombre', 'carreras_array',\n",
       "       'sueldoestimado', '_merge', 'avcu_b1', 'avca_b1', 'avre_b1', 'avcu_b2',\n",
       "       'avca_b2', 'avre_b2', 'avcu_b3', 'avca_b3', 'avre_b3', 'avcu_b4',\n",
       "       'avca_b4', 'avre_b4', 'bucket1', 'bucket2', 'bucket3', 'bucket4', 'wfh',\n",
       "       'duplicated', 'avisocuerpo_t', 'similars'],\n",
       "      dtype='object')"
      ]
     },
     "execution_count": 46,
     "metadata": {},
     "output_type": "execute_result"
    }
   ],
   "source": [
    "data['d2008'].columns"
   ]
  },
  {
   "cell_type": "code",
   "execution_count": 47,
   "metadata": {},
   "outputs": [],
   "source": [
    "for year in years:\n",
    "    data[f'd{year}'] = data[f'd{year}'][['avisoid', 'empresaid', 'avisofechapublicacion',\n",
    "       'avisovacante', 'mostrarsueldo', 'avisoexperiencia', 'expiracion',\n",
    "       'dias', 'avisorepublicacion', 'avisocargo', 'areanombre',\n",
    "       'actividadempresanombre', 'avisocuerpo', 'disponibilidadnombre',\n",
    "       'avisoduracioncont', 'avisolugartrabajo', 'gradoescolarnombre',\n",
    "       'situacionestudios', 'avisorequisitos', 'carreras', 'estado',\n",
    "       'endpagado_o_gratuito', 'nivelnombre', 'carreras_array',\n",
    "       'sueldoestimado', '_merge', 'bucket1', 'bucket2', 'bucket3', 'bucket4', 'similars']]"
   ]
  },
  {
   "cell_type": "code",
   "execution_count": 56,
   "metadata": {},
   "outputs": [],
   "source": [
    "for year in years:\n",
    "    data[f'd{year}'].to_csv(f'data{year}.csv')"
   ]
  }
 ],
 "metadata": {
  "kernelspec": {
   "display_name": "Python 3",
   "language": "python",
   "name": "python3"
  },
  "language_info": {
   "codemirror_mode": {
    "name": "ipython",
    "version": 3
   },
   "file_extension": ".py",
   "mimetype": "text/x-python",
   "name": "python",
   "nbconvert_exporter": "python",
   "pygments_lexer": "ipython3",
   "version": "3.11.2"
  }
 },
 "nbformat": 4,
 "nbformat_minor": 2
}

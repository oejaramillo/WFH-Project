{
 "cells": [
  {
   "cell_type": "code",
   "execution_count": 276,
   "metadata": {},
   "outputs": [],
   "source": [
    "import numpy as np\n",
    "import pandas as pd"
   ]
  },
  {
   "cell_type": "markdown",
   "metadata": {},
   "source": [
    "### Choose year"
   ]
  },
  {
   "cell_type": "code",
   "execution_count": 277,
   "metadata": {},
   "outputs": [],
   "source": [
    "year = 2023"
   ]
  },
  {
   "cell_type": "markdown",
   "metadata": {},
   "source": [
    "Load Database"
   ]
  },
  {
   "cell_type": "code",
   "execution_count": 278,
   "metadata": {},
   "outputs": [],
   "source": [
    "data  = pd.read_csv(f'datos\\counted\\d{year}_counted.csv', index_col=0)"
   ]
  },
  {
   "cell_type": "code",
   "execution_count": 279,
   "metadata": {},
   "outputs": [
    {
     "data": {
      "text/plain": [
       "Index(['pyindex', 'avisoid', 'empresaid', 'avisofechapublicacion',\n",
       "       'avisovacante', 'mostrarsueldo', 'avisoexperiencia', 'expiracion',\n",
       "       'dias', 'avisorepublicacion', 'avisocargo', 'areanombre',\n",
       "       'actividadempresanombre', 'avisocuerpo', 'disponibilidadnombre',\n",
       "       'avisoduracioncont', 'avisolugartrabajo', 'gradoescolarnombre',\n",
       "       'situacionestudios', 'avisorequisitos', 'carreras', 'estado',\n",
       "       'endpagado_o_gratuito', 'nivelnombre', 'carreras_array',\n",
       "       'sueldoestimado', '_merge', 'avcu_b1', 'avca_b1', 'avre_b1', 'avcu_b2',\n",
       "       'avca_b2', 'avre_b2', 'avcu_b3', 'avca_b3', 'avre_b3', 'avcu_b4',\n",
       "       'avca_b4', 'avre_b4', 'bucket1', 'bucket2', 'bucket3', 'bucket4', 'wfh',\n",
       "       'duplicated', 'avisocuerpo_t', 'similars'],\n",
       "      dtype='object')"
      ]
     },
     "execution_count": 279,
     "metadata": {},
     "output_type": "execute_result"
    }
   ],
   "source": [
    "data.columns"
   ]
  },
  {
   "cell_type": "code",
   "execution_count": 280,
   "metadata": {},
   "outputs": [],
   "source": [
    "data['bucket1'] = sum([data['avca_b1'], data['avcu_b1'], data['avre_b1']])\n",
    "data['bucket2'] = sum([data['avca_b2'], data['avcu_b2'], data['avre_b2']])\n",
    "data['bucket3'] = sum([data['avca_b3'], data['avcu_b3'], data['avre_b3']])\n",
    "data['bucket4'] = sum([data['avca_b4'], data['avcu_b4'], data['avre_b4']])\n",
    "data['wfh'] = sum([data['bucket1'], data['bucket2'], data['bucket3'], data['bucket4']])"
   ]
  },
  {
   "cell_type": "code",
   "execution_count": 281,
   "metadata": {},
   "outputs": [],
   "source": [
    "data['duplicated'] = data.duplicated('avisocuerpo', keep='first')\n",
    "# data['duplicated_avisocargo'] = data.duplicated('avisocargo', keep='first')\n",
    "# data['duplicated_avisorequisitos'] = data.duplicated('avisorequisitos', keep='first')"
   ]
  },
  {
   "cell_type": "code",
   "execution_count": 282,
   "metadata": {},
   "outputs": [],
   "source": [
    "# data['duplicated'] = data[['duplicated_avisocuerpo', 'duplicated_avisocargo', 'duplicated_avisorequisitos']].apply(lambda row: any(row), axis=1)"
   ]
  },
  {
   "cell_type": "code",
   "execution_count": 283,
   "metadata": {},
   "outputs": [],
   "source": [
    "duplicated_ads = data['duplicated'].sum()\n",
    "total = len(data)"
   ]
  },
  {
   "cell_type": "code",
   "execution_count": 284,
   "metadata": {},
   "outputs": [
    {
     "data": {
      "text/plain": [
       "0.3049854896052134"
      ]
     },
     "execution_count": 284,
     "metadata": {},
     "output_type": "execute_result"
    }
   ],
   "source": [
    "ratio = duplicated_ads/total\n",
    "ratio"
   ]
  },
  {
   "cell_type": "markdown",
   "metadata": {},
   "source": [
    "## Save results"
   ]
  },
  {
   "cell_type": "code",
   "execution_count": 285,
   "metadata": {},
   "outputs": [],
   "source": [
    "duplicated = pd.read_excel('duplicated.xlsx', index_col=0)"
   ]
  },
  {
   "cell_type": "code",
   "execution_count": 286,
   "metadata": {},
   "outputs": [
    {
     "name": "stderr",
     "output_type": "stream",
     "text": [
      "C:\\Users\\OscarJaramillo\\AppData\\Local\\Temp\\ipykernel_22312\\2742068990.py:1: SettingWithCopyWarning: \n",
      "A value is trying to be set on a copy of a slice from a DataFrame\n",
      "\n",
      "See the caveats in the documentation: https://pandas.pydata.org/pandas-docs/stable/user_guide/indexing.html#returning-a-view-versus-a-copy\n",
      "  duplicated['bucket 1'][year] = len(data.loc[(data['duplicated'] == True) & (data['bucket1'] == True)])\n",
      "C:\\Users\\OscarJaramillo\\AppData\\Local\\Temp\\ipykernel_22312\\2742068990.py:2: SettingWithCopyWarning: \n",
      "A value is trying to be set on a copy of a slice from a DataFrame\n",
      "\n",
      "See the caveats in the documentation: https://pandas.pydata.org/pandas-docs/stable/user_guide/indexing.html#returning-a-view-versus-a-copy\n",
      "  duplicated['bucket 2'][year] = len(data.loc[(data['duplicated'] == True) & (data['bucket2'] == True)])\n",
      "C:\\Users\\OscarJaramillo\\AppData\\Local\\Temp\\ipykernel_22312\\2742068990.py:3: SettingWithCopyWarning: \n",
      "A value is trying to be set on a copy of a slice from a DataFrame\n",
      "\n",
      "See the caveats in the documentation: https://pandas.pydata.org/pandas-docs/stable/user_guide/indexing.html#returning-a-view-versus-a-copy\n",
      "  duplicated['bucket 3'][year] = len(data.loc[(data['duplicated'] == True) & (data['bucket3'] == True)])\n",
      "C:\\Users\\OscarJaramillo\\AppData\\Local\\Temp\\ipykernel_22312\\2742068990.py:4: SettingWithCopyWarning: \n",
      "A value is trying to be set on a copy of a slice from a DataFrame\n",
      "\n",
      "See the caveats in the documentation: https://pandas.pydata.org/pandas-docs/stable/user_guide/indexing.html#returning-a-view-versus-a-copy\n",
      "  duplicated['bucket 4'][year] = len(data.loc[(data['duplicated'] == True) & (data['bucket4'] == True)])\n",
      "C:\\Users\\OscarJaramillo\\AppData\\Local\\Temp\\ipykernel_22312\\2742068990.py:5: SettingWithCopyWarning: \n",
      "A value is trying to be set on a copy of a slice from a DataFrame\n",
      "\n",
      "See the caveats in the documentation: https://pandas.pydata.org/pandas-docs/stable/user_guide/indexing.html#returning-a-view-versus-a-copy\n",
      "  duplicated['ratio'][year] = ratio\n"
     ]
    }
   ],
   "source": [
    "duplicated['bucket 1'][year] = len(data.loc[(data['duplicated'] == True) & (data['bucket1'] == True)])\n",
    "duplicated['bucket 2'][year] = len(data.loc[(data['duplicated'] == True) & (data['bucket2'] == True)])\n",
    "duplicated['bucket 3'][year] = len(data.loc[(data['duplicated'] == True) & (data['bucket3'] == True)])\n",
    "duplicated['bucket 4'][year] = len(data.loc[(data['duplicated'] == True) & (data['bucket4'] == True)])\n",
    "duplicated['ratio'][year] = ratio"
   ]
  },
  {
   "cell_type": "code",
   "execution_count": 287,
   "metadata": {},
   "outputs": [],
   "source": [
    "# data.to_csv(f'datos\\counted\\d{year}_counted.csv')"
   ]
  },
  {
   "cell_type": "code",
   "execution_count": 288,
   "metadata": {},
   "outputs": [],
   "source": [
    "duplicated.to_excel('duplicated.xlsx')"
   ]
  },
  {
   "cell_type": "code",
   "execution_count": 289,
   "metadata": {},
   "outputs": [
    {
     "data": {
      "text/html": [
       "<div>\n",
       "<style scoped>\n",
       "    .dataframe tbody tr th:only-of-type {\n",
       "        vertical-align: middle;\n",
       "    }\n",
       "\n",
       "    .dataframe tbody tr th {\n",
       "        vertical-align: top;\n",
       "    }\n",
       "\n",
       "    .dataframe thead th {\n",
       "        text-align: right;\n",
       "    }\n",
       "</style>\n",
       "<table border=\"1\" class=\"dataframe\">\n",
       "  <thead>\n",
       "    <tr style=\"text-align: right;\">\n",
       "      <th></th>\n",
       "      <th>bucket 1</th>\n",
       "      <th>bucket 2</th>\n",
       "      <th>bucket 3</th>\n",
       "      <th>bucket 4</th>\n",
       "      <th>ratio</th>\n",
       "    </tr>\n",
       "  </thead>\n",
       "  <tbody>\n",
       "    <tr>\n",
       "      <th>2008</th>\n",
       "      <td>724</td>\n",
       "      <td>44</td>\n",
       "      <td>187</td>\n",
       "      <td>22</td>\n",
       "      <td>0.264127</td>\n",
       "    </tr>\n",
       "    <tr>\n",
       "      <th>2009</th>\n",
       "      <td>444</td>\n",
       "      <td>101</td>\n",
       "      <td>141</td>\n",
       "      <td>44</td>\n",
       "      <td>0.194387</td>\n",
       "    </tr>\n",
       "    <tr>\n",
       "      <th>2010</th>\n",
       "      <td>711</td>\n",
       "      <td>76</td>\n",
       "      <td>190</td>\n",
       "      <td>100</td>\n",
       "      <td>0.231084</td>\n",
       "    </tr>\n",
       "    <tr>\n",
       "      <th>2011</th>\n",
       "      <td>1467</td>\n",
       "      <td>205</td>\n",
       "      <td>901</td>\n",
       "      <td>69</td>\n",
       "      <td>0.327895</td>\n",
       "    </tr>\n",
       "    <tr>\n",
       "      <th>2012</th>\n",
       "      <td>1515</td>\n",
       "      <td>327</td>\n",
       "      <td>1596</td>\n",
       "      <td>237</td>\n",
       "      <td>0.327166</td>\n",
       "    </tr>\n",
       "    <tr>\n",
       "      <th>2013</th>\n",
       "      <td>2075</td>\n",
       "      <td>368</td>\n",
       "      <td>791</td>\n",
       "      <td>225</td>\n",
       "      <td>0.282880</td>\n",
       "    </tr>\n",
       "    <tr>\n",
       "      <th>2014</th>\n",
       "      <td>1462</td>\n",
       "      <td>90</td>\n",
       "      <td>736</td>\n",
       "      <td>138</td>\n",
       "      <td>0.235953</td>\n",
       "    </tr>\n",
       "    <tr>\n",
       "      <th>2015</th>\n",
       "      <td>1414</td>\n",
       "      <td>128</td>\n",
       "      <td>676</td>\n",
       "      <td>244</td>\n",
       "      <td>0.228096</td>\n",
       "    </tr>\n",
       "    <tr>\n",
       "      <th>2016</th>\n",
       "      <td>1089</td>\n",
       "      <td>304</td>\n",
       "      <td>3572</td>\n",
       "      <td>166</td>\n",
       "      <td>0.222901</td>\n",
       "    </tr>\n",
       "    <tr>\n",
       "      <th>2017</th>\n",
       "      <td>923</td>\n",
       "      <td>97</td>\n",
       "      <td>2424</td>\n",
       "      <td>279</td>\n",
       "      <td>0.173243</td>\n",
       "    </tr>\n",
       "    <tr>\n",
       "      <th>2018</th>\n",
       "      <td>994</td>\n",
       "      <td>144</td>\n",
       "      <td>5093</td>\n",
       "      <td>59</td>\n",
       "      <td>0.182745</td>\n",
       "    </tr>\n",
       "    <tr>\n",
       "      <th>2019</th>\n",
       "      <td>1704</td>\n",
       "      <td>276</td>\n",
       "      <td>5194</td>\n",
       "      <td>124</td>\n",
       "      <td>0.196854</td>\n",
       "    </tr>\n",
       "    <tr>\n",
       "      <th>2020</th>\n",
       "      <td>1218</td>\n",
       "      <td>524</td>\n",
       "      <td>1242</td>\n",
       "      <td>32</td>\n",
       "      <td>0.194710</td>\n",
       "    </tr>\n",
       "    <tr>\n",
       "      <th>2021</th>\n",
       "      <td>3806</td>\n",
       "      <td>4578</td>\n",
       "      <td>4299</td>\n",
       "      <td>170</td>\n",
       "      <td>0.283096</td>\n",
       "    </tr>\n",
       "    <tr>\n",
       "      <th>2022</th>\n",
       "      <td>5342</td>\n",
       "      <td>4157</td>\n",
       "      <td>5338</td>\n",
       "      <td>556</td>\n",
       "      <td>0.331808</td>\n",
       "    </tr>\n",
       "    <tr>\n",
       "      <th>2023</th>\n",
       "      <td>2676</td>\n",
       "      <td>1413</td>\n",
       "      <td>1788</td>\n",
       "      <td>159</td>\n",
       "      <td>0.304985</td>\n",
       "    </tr>\n",
       "  </tbody>\n",
       "</table>\n",
       "</div>"
      ],
      "text/plain": [
       "      bucket 1  bucket 2  bucket 3  bucket 4     ratio\n",
       "2008       724        44       187        22  0.264127\n",
       "2009       444       101       141        44  0.194387\n",
       "2010       711        76       190       100  0.231084\n",
       "2011      1467       205       901        69  0.327895\n",
       "2012      1515       327      1596       237  0.327166\n",
       "2013      2075       368       791       225  0.282880\n",
       "2014      1462        90       736       138  0.235953\n",
       "2015      1414       128       676       244  0.228096\n",
       "2016      1089       304      3572       166  0.222901\n",
       "2017       923        97      2424       279  0.173243\n",
       "2018       994       144      5093        59  0.182745\n",
       "2019      1704       276      5194       124  0.196854\n",
       "2020      1218       524      1242        32  0.194710\n",
       "2021      3806      4578      4299       170  0.283096\n",
       "2022      5342      4157      5338       556  0.331808\n",
       "2023      2676      1413      1788       159  0.304985"
      ]
     },
     "execution_count": 289,
     "metadata": {},
     "output_type": "execute_result"
    }
   ],
   "source": [
    "duplicated"
   ]
  }
 ],
 "metadata": {
  "kernelspec": {
   "display_name": "Python 3",
   "language": "python",
   "name": "python3"
  },
  "language_info": {
   "codemirror_mode": {
    "name": "ipython",
    "version": 3
   },
   "file_extension": ".py",
   "mimetype": "text/x-python",
   "name": "python",
   "nbconvert_exporter": "python",
   "pygments_lexer": "ipython3",
   "version": "3.11.2"
  }
 },
 "nbformat": 4,
 "nbformat_minor": 2
}

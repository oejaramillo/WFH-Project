{
 "cells": [
  {
   "cell_type": "code",
   "execution_count": 241,
   "metadata": {},
   "outputs": [],
   "source": [
    "import numpy as np\n",
    "import pandas as pd"
   ]
  },
  {
   "cell_type": "markdown",
   "metadata": {},
   "source": [
    "### Choose year"
   ]
  },
  {
   "cell_type": "code",
   "execution_count": 242,
   "metadata": {},
   "outputs": [],
   "source": [
    "year = 2023"
   ]
  },
  {
   "cell_type": "markdown",
   "metadata": {},
   "source": [
    "Load Database"
   ]
  },
  {
   "cell_type": "code",
   "execution_count": 243,
   "metadata": {},
   "outputs": [],
   "source": [
    "data  = pd.read_csv(f'datos\\counted\\d{year}_counted.csv', index_col=0)"
   ]
  },
  {
   "cell_type": "code",
   "execution_count": 244,
   "metadata": {},
   "outputs": [
    {
     "data": {
      "text/plain": [
       "Index(['pyindex', 'avisoid', 'empresaid', 'avisofechapublicacion',\n",
       "       'avisovacante', 'mostrarsueldo', 'avisoexperiencia', 'expiracion',\n",
       "       'dias', 'avisorepublicacion', 'avisocargo', 'areanombre',\n",
       "       'actividadempresanombre', 'avisocuerpo', 'disponibilidadnombre',\n",
       "       'avisoduracioncont', 'avisolugartrabajo', 'gradoescolarnombre',\n",
       "       'situacionestudios', 'avisorequisitos', 'carreras', 'estado',\n",
       "       'endpagado_o_gratuito', 'nivelnombre', 'carreras_array',\n",
       "       'sueldoestimado', '_merge', 'avcu_b1', 'avca_b1', 'avre_b1', 'avcu_b2',\n",
       "       'avca_b2', 'avre_b2', 'avcu_b3', 'avca_b3', 'avre_b3', 'avcu_b4',\n",
       "       'avca_b4', 'avre_b4'],\n",
       "      dtype='object')"
      ]
     },
     "execution_count": 244,
     "metadata": {},
     "output_type": "execute_result"
    }
   ],
   "source": [
    "data.columns"
   ]
  },
  {
   "cell_type": "code",
   "execution_count": 245,
   "metadata": {},
   "outputs": [],
   "source": [
    "data['bucket1'] = sum([data['avca_b1'], data['avcu_b1'], data['avre_b1']])\n",
    "data['bucket2'] = sum([data['avca_b2'], data['avcu_b2'], data['avre_b2']])\n",
    "data['bucket3'] = sum([data['avca_b3'], data['avcu_b3'], data['avre_b3']])\n",
    "data['bucket4'] = sum([data['avca_b4'], data['avcu_b4'], data['avre_b4']])\n",
    "data['wfh'] = sum([data['bucket1'], data['bucket2'], data['bucket3'], data['bucket4']])"
   ]
  },
  {
   "cell_type": "code",
   "execution_count": 246,
   "metadata": {},
   "outputs": [],
   "source": [
    "data['duplicated'] = data.duplicated(subset=['avisocuerpo', 'avisocargo', 'avisorequisitos'], keep='first')"
   ]
  },
  {
   "cell_type": "code",
   "execution_count": 247,
   "metadata": {},
   "outputs": [
    {
     "data": {
      "text/plain": [
       "27596"
      ]
     },
     "execution_count": 247,
     "metadata": {},
     "output_type": "execute_result"
    }
   ],
   "source": [
    "data['duplicated'].sum()"
   ]
  },
  {
   "cell_type": "markdown",
   "metadata": {},
   "source": [
    "## Save results"
   ]
  },
  {
   "cell_type": "code",
   "execution_count": 248,
   "metadata": {},
   "outputs": [],
   "source": [
    "duplicated = pd.read_excel('duplicated.xlsx', index_col=0)"
   ]
  },
  {
   "cell_type": "code",
   "execution_count": 249,
   "metadata": {},
   "outputs": [],
   "source": [
    "duplicated['bucket 1'][year] = len(data.loc[(data['duplicated'] == True) & (data['bucket1'] == True)])\n",
    "duplicated['bucket 2'][year] = len(data.loc[(data['duplicated'] == True) & (data['bucket2'] == True)])\n",
    "duplicated['bucket 3'][year] = len(data.loc[(data['duplicated'] == True) & (data['bucket3'] == True)])\n",
    "duplicated['bucket 4'][year] = len(data.loc[(data['duplicated'] == True) & (data['bucket4'] == True)])"
   ]
  },
  {
   "cell_type": "code",
   "execution_count": 250,
   "metadata": {},
   "outputs": [],
   "source": [
    "data.to_csv(f'datos\\counted\\d{year}_counted.csv')"
   ]
  },
  {
   "cell_type": "code",
   "execution_count": 251,
   "metadata": {},
   "outputs": [],
   "source": [
    "duplicated.to_excel('duplicated.xlsx')"
   ]
  },
  {
   "cell_type": "code",
   "execution_count": 252,
   "metadata": {},
   "outputs": [
    {
     "data": {
      "text/html": [
       "<div>\n",
       "<style scoped>\n",
       "    .dataframe tbody tr th:only-of-type {\n",
       "        vertical-align: middle;\n",
       "    }\n",
       "\n",
       "    .dataframe tbody tr th {\n",
       "        vertical-align: top;\n",
       "    }\n",
       "\n",
       "    .dataframe thead th {\n",
       "        text-align: right;\n",
       "    }\n",
       "</style>\n",
       "<table border=\"1\" class=\"dataframe\">\n",
       "  <thead>\n",
       "    <tr style=\"text-align: right;\">\n",
       "      <th></th>\n",
       "      <th>bucket 1</th>\n",
       "      <th>bucket 2</th>\n",
       "      <th>bucket 3</th>\n",
       "      <th>bucket 4</th>\n",
       "    </tr>\n",
       "  </thead>\n",
       "  <tbody>\n",
       "    <tr>\n",
       "      <th>2008</th>\n",
       "      <td>336.0</td>\n",
       "      <td>20.0</td>\n",
       "      <td>122.0</td>\n",
       "      <td>9.0</td>\n",
       "    </tr>\n",
       "    <tr>\n",
       "      <th>2009</th>\n",
       "      <td>260.0</td>\n",
       "      <td>23.0</td>\n",
       "      <td>78.0</td>\n",
       "      <td>29.0</td>\n",
       "    </tr>\n",
       "    <tr>\n",
       "      <th>2010</th>\n",
       "      <td>314.0</td>\n",
       "      <td>18.0</td>\n",
       "      <td>83.0</td>\n",
       "      <td>21.0</td>\n",
       "    </tr>\n",
       "    <tr>\n",
       "      <th>2011</th>\n",
       "      <td>792.0</td>\n",
       "      <td>152.0</td>\n",
       "      <td>433.0</td>\n",
       "      <td>32.0</td>\n",
       "    </tr>\n",
       "    <tr>\n",
       "      <th>2012</th>\n",
       "      <td>890.0</td>\n",
       "      <td>247.0</td>\n",
       "      <td>1271.0</td>\n",
       "      <td>135.0</td>\n",
       "    </tr>\n",
       "    <tr>\n",
       "      <th>2013</th>\n",
       "      <td>1361.0</td>\n",
       "      <td>308.0</td>\n",
       "      <td>570.0</td>\n",
       "      <td>165.0</td>\n",
       "    </tr>\n",
       "    <tr>\n",
       "      <th>2014</th>\n",
       "      <td>1022.0</td>\n",
       "      <td>54.0</td>\n",
       "      <td>375.0</td>\n",
       "      <td>70.0</td>\n",
       "    </tr>\n",
       "    <tr>\n",
       "      <th>2015</th>\n",
       "      <td>824.0</td>\n",
       "      <td>45.0</td>\n",
       "      <td>411.0</td>\n",
       "      <td>100.0</td>\n",
       "    </tr>\n",
       "    <tr>\n",
       "      <th>2016</th>\n",
       "      <td>671.0</td>\n",
       "      <td>230.0</td>\n",
       "      <td>3283.0</td>\n",
       "      <td>98.0</td>\n",
       "    </tr>\n",
       "    <tr>\n",
       "      <th>2017</th>\n",
       "      <td>510.0</td>\n",
       "      <td>38.0</td>\n",
       "      <td>2120.0</td>\n",
       "      <td>199.0</td>\n",
       "    </tr>\n",
       "    <tr>\n",
       "      <th>2018</th>\n",
       "      <td>436.0</td>\n",
       "      <td>46.0</td>\n",
       "      <td>4745.0</td>\n",
       "      <td>33.0</td>\n",
       "    </tr>\n",
       "    <tr>\n",
       "      <th>2019</th>\n",
       "      <td>1005.0</td>\n",
       "      <td>160.0</td>\n",
       "      <td>4746.0</td>\n",
       "      <td>51.0</td>\n",
       "    </tr>\n",
       "    <tr>\n",
       "      <th>2020</th>\n",
       "      <td>668.0</td>\n",
       "      <td>319.0</td>\n",
       "      <td>835.0</td>\n",
       "      <td>15.0</td>\n",
       "    </tr>\n",
       "    <tr>\n",
       "      <th>2021</th>\n",
       "      <td>1864.0</td>\n",
       "      <td>3482.0</td>\n",
       "      <td>2988.0</td>\n",
       "      <td>117.0</td>\n",
       "    </tr>\n",
       "    <tr>\n",
       "      <th>2022</th>\n",
       "      <td>3092.0</td>\n",
       "      <td>2952.0</td>\n",
       "      <td>3966.0</td>\n",
       "      <td>416.0</td>\n",
       "    </tr>\n",
       "    <tr>\n",
       "      <th>2023</th>\n",
       "      <td>1629.0</td>\n",
       "      <td>896.0</td>\n",
       "      <td>1350.0</td>\n",
       "      <td>98.0</td>\n",
       "    </tr>\n",
       "  </tbody>\n",
       "</table>\n",
       "</div>"
      ],
      "text/plain": [
       "      bucket 1  bucket 2  bucket 3  bucket 4\n",
       "2008     336.0      20.0     122.0       9.0\n",
       "2009     260.0      23.0      78.0      29.0\n",
       "2010     314.0      18.0      83.0      21.0\n",
       "2011     792.0     152.0     433.0      32.0\n",
       "2012     890.0     247.0    1271.0     135.0\n",
       "2013    1361.0     308.0     570.0     165.0\n",
       "2014    1022.0      54.0     375.0      70.0\n",
       "2015     824.0      45.0     411.0     100.0\n",
       "2016     671.0     230.0    3283.0      98.0\n",
       "2017     510.0      38.0    2120.0     199.0\n",
       "2018     436.0      46.0    4745.0      33.0\n",
       "2019    1005.0     160.0    4746.0      51.0\n",
       "2020     668.0     319.0     835.0      15.0\n",
       "2021    1864.0    3482.0    2988.0     117.0\n",
       "2022    3092.0    2952.0    3966.0     416.0\n",
       "2023    1629.0     896.0    1350.0      98.0"
      ]
     },
     "execution_count": 252,
     "metadata": {},
     "output_type": "execute_result"
    }
   ],
   "source": [
    "duplicated"
   ]
  }
 ],
 "metadata": {
  "kernelspec": {
   "display_name": "Python 3",
   "language": "python",
   "name": "python3"
  },
  "language_info": {
   "codemirror_mode": {
    "name": "ipython",
    "version": 3
   },
   "file_extension": ".py",
   "mimetype": "text/x-python",
   "name": "python",
   "nbconvert_exporter": "python",
   "pygments_lexer": "ipython3",
   "version": "3.11.2"
  }
 },
 "nbformat": 4,
 "nbformat_minor": 2
}

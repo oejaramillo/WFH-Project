{
 "cells": [
  {
   "cell_type": "code",
   "execution_count": 1,
   "metadata": {},
   "outputs": [],
   "source": [
    "import numpy as np\n",
    "import pandas as pd\n",
    "import matplotlib.pyplot as plt\n",
    "\n",
    "import json"
   ]
  },
  {
   "cell_type": "markdown",
   "metadata": {},
   "source": [
    "### Choose a time partition"
   ]
  },
  {
   "cell_type": "code",
   "execution_count": 2,
   "metadata": {},
   "outputs": [],
   "source": [
    "tp = 1"
   ]
  },
  {
   "cell_type": "markdown",
   "metadata": {},
   "source": [
    "### Loading database"
   ]
  },
  {
   "cell_type": "code",
   "execution_count": 3,
   "metadata": {},
   "outputs": [],
   "source": [
    "data  = pd.read_csv(f'datos\\d{tp}.csv')"
   ]
  },
  {
   "cell_type": "code",
   "execution_count": 4,
   "metadata": {},
   "outputs": [],
   "source": [
    "data.drop(columns={'Unnamed: 0'}, inplace=True)"
   ]
  },
  {
   "cell_type": "markdown",
   "metadata": {},
   "source": [
    "## Start"
   ]
  },
  {
   "cell_type": "markdown",
   "metadata": {},
   "source": [
    "avisocuerpo \\\n",
    "avisocargo\\\n",
    "avisorequisitos"
   ]
  },
  {
   "cell_type": "markdown",
   "metadata": {},
   "source": [
    "Secure datatypes"
   ]
  },
  {
   "cell_type": "code",
   "execution_count": 5,
   "metadata": {},
   "outputs": [],
   "source": [
    "data['avisocuerpo'] = data['avisocuerpo'].astype(str)\n",
    "data['avisocargo'] = data['avisocargo'].astype(str)\n",
    "data['avisorequisitos'] = data['avisorequisitos'].astype(str)"
   ]
  },
  {
   "cell_type": "markdown",
   "metadata": {},
   "source": [
    "By 'disponibilidadnombre'"
   ]
  },
  {
   "cell_type": "code",
   "execution_count": 6,
   "metadata": {},
   "outputs": [
    {
     "data": {
      "text/plain": [
       "Jornada Completa        1795535\n",
       "Por Turnos               175073\n",
       "Part Time                130426\n",
       "Práctica Profesional     100114\n",
       "Media Jornada             62892\n",
       "Comisionista              15053\n",
       "Reemplazo                 11679\n",
       "Free Lance                10157\n",
       "Teletrabajo                  47\n",
       "Name: disponibilidadnombre, dtype: int64"
      ]
     },
     "execution_count": 6,
     "metadata": {},
     "output_type": "execute_result"
    }
   ],
   "source": [
    "data['disponibilidadnombre'].value_counts()"
   ]
  },
  {
   "cell_type": "markdown",
   "metadata": {},
   "source": [
    "#### Load diccionaries"
   ]
  },
  {
   "cell_type": "code",
   "execution_count": 7,
   "metadata": {},
   "outputs": [],
   "source": [
    "file_path = \"dic.json\"\n",
    "\n",
    "# Open and read the JSON file\n",
    "with open(file_path, \"r\", encoding=\"utf-8\") as json_file:\n",
    "    dic = json.load(json_file)"
   ]
  },
  {
   "cell_type": "markdown",
   "metadata": {},
   "source": [
    "Let's count"
   ]
  },
  {
   "cell_type": "code",
   "execution_count": 8,
   "metadata": {},
   "outputs": [],
   "source": [
    "results = pd.read_excel('results.xlsx', index_col=0)"
   ]
  },
  {
   "cell_type": "markdown",
   "metadata": {},
   "source": [
    "Bucket 1"
   ]
  },
  {
   "cell_type": "code",
   "execution_count": 10,
   "metadata": {},
   "outputs": [],
   "source": [
    "data['avcu_b1'] = data['avisocuerpo'].apply(lambda text: any(item in text for item in dic['b1']))\n",
    "data['avca_b1'] = data['avisocargo'].apply(lambda text: any(item in text for item in dic['b1']))\n",
    "data['avre_b1'] = data['avisorequisitos'].apply(lambda text: any(item in text for item in dic['b1']))"
   ]
  },
  {
   "cell_type": "markdown",
   "metadata": {},
   "source": [
    "Bucket 2"
   ]
  },
  {
   "cell_type": "code",
   "execution_count": 11,
   "metadata": {},
   "outputs": [],
   "source": [
    "data['avcu_b2'] = data['avisocuerpo'].apply(lambda text: any(item in text for item in dic['b2']))\n",
    "data['avca_b2'] = data['avisocargo'].apply(lambda text: any(item in text for item in dic['b2']))\n",
    "data['avre_b2'] = data['avisorequisitos'].apply(lambda text: any(item in text for item in dic['b2']))"
   ]
  },
  {
   "cell_type": "markdown",
   "metadata": {},
   "source": [
    "Bucket 3"
   ]
  },
  {
   "cell_type": "code",
   "execution_count": 12,
   "metadata": {},
   "outputs": [],
   "source": [
    "data['avcu_b3'] = data['avisocuerpo'].apply(lambda text: any(all(word in text.split() for word in item.split()) for item in dic['b3']))\n",
    "data['avca_b3'] = data['avisocargo'].apply(lambda text: any(all(word in text.split() for word in item.split()) for item in dic['b3']))\n",
    "data['avre_b3'] = data['avisorequisitos'].apply(lambda text: any(all(word in text.split() for word in item.split()) for item in dic['b3']))"
   ]
  },
  {
   "cell_type": "markdown",
   "metadata": {},
   "source": [
    "Bucket 4"
   ]
  },
  {
   "cell_type": "code",
   "execution_count": 13,
   "metadata": {},
   "outputs": [],
   "source": [
    "data['avcu_b4'] = data['avisocuerpo'].apply(lambda text: any(item in text for item in dic['b4']))\n",
    "data['avca_b4'] = data['avisocargo'].apply(lambda text: any(item in text for item in dic['b4']))\n",
    "data['avre_b4'] = data['avisorequisitos'].apply(lambda text: any(item in text for item in dic['b4']))"
   ]
  },
  {
   "cell_type": "markdown",
   "metadata": {},
   "source": [
    "Saving"
   ]
  },
  {
   "cell_type": "code",
   "execution_count": 14,
   "metadata": {},
   "outputs": [],
   "source": [
    "results['avcu_bucket 1'][tp] = data['avcu_b1'].sum()\n",
    "results['avcu_bucket 2'][tp] = data['avcu_b2'].sum()\n",
    "results['avcu_bucket 3'][tp] = data['avcu_b3'].sum()\n",
    "results['avcu_bucket 4'][tp] = data['avcu_b4'].sum()\n",
    "\n",
    "results['avca_bucket 1'][tp] = data['avca_b1'].sum()\n",
    "results['avca_bucket 2'][tp] = data['avca_b2'].sum()\n",
    "results['avca_bucket 3'][tp] = data['avca_b3'].sum()\n",
    "results['avca_bucket 4'][tp] = data['avca_b4'].sum()\n",
    "\n",
    "results['avre_bucket 1'][tp] = data['avre_b1'].sum()\n",
    "results['avre_bucket 2'][tp] = data['avre_b2'].sum()\n",
    "results['avre_bucket 3'][tp] = data['avre_b3'].sum()\n",
    "results['avre_bucket 4'][tp] = data['avre_b4'].sum()"
   ]
  },
  {
   "cell_type": "code",
   "execution_count": 16,
   "metadata": {},
   "outputs": [
    {
     "name": "stdout",
     "output_type": "stream",
     "text": [
      "Sum of avcu_b1: 55701\n",
      "Sum of avcu_b2: 7362\n",
      "Sum of avcu_b3: 40488\n",
      "Sum of avcu_b4: 5511\n",
      "Sum of avca_b1: 124\n",
      "Sum of avca_b2: 1032\n",
      "Sum of avca_b3: 188\n",
      "Sum of avca_b4: 130\n",
      "Sum of avre_b1: 7563\n",
      "Sum of avre_b2: 1725\n",
      "Sum of avre_b3: 2110\n",
      "Sum of avre_b4: 822\n"
     ]
    }
   ],
   "source": [
    "print(\"Sum of avcu_b1:\", data['avcu_b1'].sum())\n",
    "print(\"Sum of avcu_b2:\", data['avcu_b2'].sum())\n",
    "print(\"Sum of avcu_b3:\", data['avcu_b3'].sum())\n",
    "print(\"Sum of avcu_b4:\", data['avcu_b4'].sum())\n",
    "\n",
    "print(\"Sum of avca_b1:\", data['avca_b1'].sum())\n",
    "print(\"Sum of avca_b2:\", data['avca_b2'].sum())\n",
    "print(\"Sum of avca_b3:\", data['avca_b3'].sum())\n",
    "print(\"Sum of avca_b4:\", data['avca_b4'].sum())\n",
    "\n",
    "print(\"Sum of avre_b1:\", data['avre_b1'].sum())\n",
    "print(\"Sum of avre_b2:\", data['avre_b2'].sum())\n",
    "print(\"Sum of avre_b3:\", data['avre_b3'].sum())\n",
    "print(\"Sum of avre_b4:\", data['avre_b4'].sum())"
   ]
  },
  {
   "cell_type": "code",
   "execution_count": 17,
   "metadata": {},
   "outputs": [],
   "source": [
    "data.to_csv(f'datos\\counted\\d{tp}_counted.csv')"
   ]
  },
  {
   "cell_type": "code",
   "execution_count": 20,
   "metadata": {},
   "outputs": [],
   "source": [
    "results.to_excel('results.xlsx')"
   ]
  },
  {
   "cell_type": "code",
   "execution_count": 19,
   "metadata": {},
   "outputs": [
    {
     "data": {
      "text/html": [
       "<div>\n",
       "<style scoped>\n",
       "    .dataframe tbody tr th:only-of-type {\n",
       "        vertical-align: middle;\n",
       "    }\n",
       "\n",
       "    .dataframe tbody tr th {\n",
       "        vertical-align: top;\n",
       "    }\n",
       "\n",
       "    .dataframe thead th {\n",
       "        text-align: right;\n",
       "    }\n",
       "</style>\n",
       "<table border=\"1\" class=\"dataframe\">\n",
       "  <thead>\n",
       "    <tr style=\"text-align: right;\">\n",
       "      <th></th>\n",
       "      <th>avcu_bucket 1</th>\n",
       "      <th>avcu_bucket 2</th>\n",
       "      <th>avcu_bucket 3</th>\n",
       "      <th>avcu_bucket 4</th>\n",
       "      <th>avca_bucket 1</th>\n",
       "      <th>avca_bucket 2</th>\n",
       "      <th>avca_bucket 3</th>\n",
       "      <th>avca_bucket 4</th>\n",
       "      <th>avre_bucket 1</th>\n",
       "      <th>avre_bucket 2</th>\n",
       "      <th>avre_bucket 3</th>\n",
       "      <th>avre_bucket 4</th>\n",
       "    </tr>\n",
       "  </thead>\n",
       "  <tbody>\n",
       "    <tr>\n",
       "      <th>1</th>\n",
       "      <td>55701.0</td>\n",
       "      <td>7362.0</td>\n",
       "      <td>40488.0</td>\n",
       "      <td>5511.0</td>\n",
       "      <td>124.0</td>\n",
       "      <td>1032.0</td>\n",
       "      <td>188.0</td>\n",
       "      <td>130.0</td>\n",
       "      <td>7563.0</td>\n",
       "      <td>1725.0</td>\n",
       "      <td>2110.0</td>\n",
       "      <td>822.0</td>\n",
       "    </tr>\n",
       "    <tr>\n",
       "      <th>2</th>\n",
       "      <td>NaN</td>\n",
       "      <td>NaN</td>\n",
       "      <td>NaN</td>\n",
       "      <td>NaN</td>\n",
       "      <td>NaN</td>\n",
       "      <td>NaN</td>\n",
       "      <td>NaN</td>\n",
       "      <td>NaN</td>\n",
       "      <td>NaN</td>\n",
       "      <td>NaN</td>\n",
       "      <td>NaN</td>\n",
       "      <td>NaN</td>\n",
       "    </tr>\n",
       "    <tr>\n",
       "      <th>3</th>\n",
       "      <td>NaN</td>\n",
       "      <td>NaN</td>\n",
       "      <td>NaN</td>\n",
       "      <td>NaN</td>\n",
       "      <td>NaN</td>\n",
       "      <td>NaN</td>\n",
       "      <td>NaN</td>\n",
       "      <td>NaN</td>\n",
       "      <td>NaN</td>\n",
       "      <td>NaN</td>\n",
       "      <td>NaN</td>\n",
       "      <td>NaN</td>\n",
       "    </tr>\n",
       "    <tr>\n",
       "      <th>4</th>\n",
       "      <td>NaN</td>\n",
       "      <td>NaN</td>\n",
       "      <td>NaN</td>\n",
       "      <td>NaN</td>\n",
       "      <td>NaN</td>\n",
       "      <td>NaN</td>\n",
       "      <td>NaN</td>\n",
       "      <td>NaN</td>\n",
       "      <td>NaN</td>\n",
       "      <td>NaN</td>\n",
       "      <td>NaN</td>\n",
       "      <td>NaN</td>\n",
       "    </tr>\n",
       "  </tbody>\n",
       "</table>\n",
       "</div>"
      ],
      "text/plain": [
       "   avcu_bucket 1  avcu_bucket 2  avcu_bucket 3  avcu_bucket 4  avca_bucket 1  \\\n",
       "1        55701.0         7362.0        40488.0         5511.0          124.0   \n",
       "2            NaN            NaN            NaN            NaN            NaN   \n",
       "3            NaN            NaN            NaN            NaN            NaN   \n",
       "4            NaN            NaN            NaN            NaN            NaN   \n",
       "\n",
       "   avca_bucket 2  avca_bucket 3  avca_bucket 4  avre_bucket 1  avre_bucket 2  \\\n",
       "1         1032.0          188.0          130.0         7563.0         1725.0   \n",
       "2            NaN            NaN            NaN            NaN            NaN   \n",
       "3            NaN            NaN            NaN            NaN            NaN   \n",
       "4            NaN            NaN            NaN            NaN            NaN   \n",
       "\n",
       "   avre_bucket 3  avre_bucket 4  \n",
       "1         2110.0          822.0  \n",
       "2            NaN            NaN  \n",
       "3            NaN            NaN  \n",
       "4            NaN            NaN  "
      ]
     },
     "execution_count": 19,
     "metadata": {},
     "output_type": "execute_result"
    }
   ],
   "source": [
    "results"
   ]
  }
 ],
 "metadata": {
  "kernelspec": {
   "display_name": "Python 3",
   "language": "python",
   "name": "python3"
  },
  "language_info": {
   "codemirror_mode": {
    "name": "ipython",
    "version": 3
   },
   "file_extension": ".py",
   "mimetype": "text/x-python",
   "name": "python",
   "nbconvert_exporter": "python",
   "pygments_lexer": "ipython3",
   "version": "3.11.2"
  },
  "orig_nbformat": 4
 },
 "nbformat": 4,
 "nbformat_minor": 2
}

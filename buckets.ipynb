{
 "cells": [
  {
   "cell_type": "code",
   "execution_count": 449,
   "metadata": {},
   "outputs": [],
   "source": [
    "import numpy as np\n",
    "import pandas as pd\n",
    "import matplotlib.pyplot as plt\n",
    "\n",
    "import json"
   ]
  },
  {
   "cell_type": "markdown",
   "metadata": {},
   "source": [
    "### Choose a year"
   ]
  },
  {
   "cell_type": "code",
   "execution_count": 450,
   "metadata": {},
   "outputs": [],
   "source": [
    "year = '2023'"
   ]
  },
  {
   "cell_type": "markdown",
   "metadata": {},
   "source": [
    "### Loading database"
   ]
  },
  {
   "cell_type": "code",
   "execution_count": 451,
   "metadata": {},
   "outputs": [],
   "source": [
    "data  = pd.read_csv(f'datos\\d{year}.csv')"
   ]
  },
  {
   "cell_type": "code",
   "execution_count": 452,
   "metadata": {},
   "outputs": [],
   "source": [
    "data.rename(columns={'Unnamed: 0' : 'pyindex'}, inplace=True)"
   ]
  },
  {
   "cell_type": "markdown",
   "metadata": {},
   "source": [
    "### Database Info"
   ]
  },
  {
   "cell_type": "code",
   "execution_count": 453,
   "metadata": {},
   "outputs": [
    {
     "data": {
      "text/plain": [
       "Index(['pyindex', 'avisoid', 'empresaid', 'avisofechapublicacion',\n",
       "       'avisovacante', 'mostrarsueldo', 'avisoexperiencia', 'expiracion',\n",
       "       'dias', 'avisorepublicacion', 'avisocargo', 'areanombre',\n",
       "       'actividadempresanombre', 'avisocuerpo', 'disponibilidadnombre',\n",
       "       'avisoduracioncont', 'avisolugartrabajo', 'gradoescolarnombre',\n",
       "       'situacionestudios', 'avisorequisitos', 'carreras', 'estado',\n",
       "       'endpagado_o_gratuito', 'nivelnombre', 'carreras_array',\n",
       "       'sueldoestimado', '_merge'],\n",
       "      dtype='object')"
      ]
     },
     "execution_count": 453,
     "metadata": {},
     "output_type": "execute_result"
    }
   ],
   "source": [
    "data.columns"
   ]
  },
  {
   "cell_type": "code",
   "execution_count": 454,
   "metadata": {},
   "outputs": [
    {
     "name": "stdout",
     "output_type": "stream",
     "text": [
      "<class 'pandas.core.frame.DataFrame'>\n",
      "RangeIndex: 134731 entries, 0 to 134730\n",
      "Data columns (total 27 columns):\n",
      " #   Column                  Non-Null Count   Dtype  \n",
      "---  ------                  --------------   -----  \n",
      " 0   pyindex                 134731 non-null  int64  \n",
      " 1   avisoid                 134731 non-null  float64\n",
      " 2   empresaid               134731 non-null  int64  \n",
      " 3   avisofechapublicacion   134731 non-null  object \n",
      " 4   avisovacante            134731 non-null  float64\n",
      " 5   mostrarsueldo           134731 non-null  float64\n",
      " 6   avisoexperiencia        134731 non-null  float64\n",
      " 7   expiracion              134731 non-null  object \n",
      " 8   dias                    134731 non-null  int64  \n",
      " 9   avisorepublicacion      134731 non-null  int64  \n",
      " 10  avisocargo              134731 non-null  object \n",
      " 11  areanombre              134731 non-null  object \n",
      " 12  actividadempresanombre  133349 non-null  object \n",
      " 13  avisocuerpo             134723 non-null  object \n",
      " 14  disponibilidadnombre    134731 non-null  object \n",
      " 15  avisoduracioncont       25588 non-null   object \n",
      " 16  avisolugartrabajo       119730 non-null  object \n",
      " 17  gradoescolarnombre      134731 non-null  object \n",
      " 18  situacionestudios       134731 non-null  object \n",
      " 19  avisorequisitos         134727 non-null  object \n",
      " 20  carreras                54855 non-null   object \n",
      " 21  estado                  134731 non-null  object \n",
      " 22  endpagado_o_gratuito    134731 non-null  object \n",
      " 23  nivelnombre             134731 non-null  object \n",
      " 24  carreras_array          0 non-null       float64\n",
      " 25  sueldoestimado          134731 non-null  float64\n",
      " 26  _merge                  134731 non-null  object \n",
      "dtypes: float64(6), int64(4), object(17)\n",
      "memory usage: 27.8+ MB\n"
     ]
    }
   ],
   "source": [
    "data.info()"
   ]
  },
  {
   "cell_type": "markdown",
   "metadata": {},
   "source": [
    "## Start"
   ]
  },
  {
   "cell_type": "markdown",
   "metadata": {},
   "source": [
    "avisocuerpo \\\n",
    "avisocargo\\\n",
    "avisorequisitos"
   ]
  },
  {
   "cell_type": "markdown",
   "metadata": {},
   "source": [
    "Secure datatypes"
   ]
  },
  {
   "cell_type": "code",
   "execution_count": 455,
   "metadata": {},
   "outputs": [],
   "source": [
    "data['avisocuerpo'] = data['avisocuerpo'].astype(str)\n",
    "data['avisocargo'] = data['avisocargo'].astype(str)\n",
    "data['avisorequisitos'] = data['avisorequisitos'].astype(str)"
   ]
  },
  {
   "cell_type": "markdown",
   "metadata": {},
   "source": [
    "#### Load diccionaries"
   ]
  },
  {
   "cell_type": "code",
   "execution_count": 456,
   "metadata": {},
   "outputs": [],
   "source": [
    "file_path = \"dic.json\"\n",
    "\n",
    "# Open and read the JSON file\n",
    "with open(file_path, \"r\", encoding=\"utf-8\") as json_file:\n",
    "    dic = json.load(json_file)\n"
   ]
  },
  {
   "cell_type": "markdown",
   "metadata": {},
   "source": [
    "Let's count"
   ]
  },
  {
   "cell_type": "code",
   "execution_count": 457,
   "metadata": {},
   "outputs": [],
   "source": [
    "results = pd.read_excel('results.xlsx', index_col=0)"
   ]
  },
  {
   "cell_type": "markdown",
   "metadata": {},
   "source": [
    "Bucket 1"
   ]
  },
  {
   "cell_type": "code",
   "execution_count": 458,
   "metadata": {},
   "outputs": [],
   "source": [
    "data['avcu_b1'] = data['avisocuerpo'].apply(lambda text: any(item in text for item in dic['b1']))\n",
    "data['avca_b1'] = data['avisocargo'].apply(lambda text: any(item in text for item in dic['b1']))\n",
    "data['avre_b1'] = data['avisorequisitos'].apply(lambda text: any(item in text for item in dic['b1']))"
   ]
  },
  {
   "cell_type": "markdown",
   "metadata": {},
   "source": [
    "Bucket 2"
   ]
  },
  {
   "cell_type": "code",
   "execution_count": 459,
   "metadata": {},
   "outputs": [],
   "source": [
    "data['avcu_b2'] = data['avisocuerpo'].apply(lambda text: any(item in text for item in dic['b2']))\n",
    "data['avca_b2'] = data['avisocargo'].apply(lambda text: any(item in text for item in dic['b2']))\n",
    "data['avre_b2'] = data['avisorequisitos'].apply(lambda text: any(item in text for item in dic['b2']))"
   ]
  },
  {
   "cell_type": "markdown",
   "metadata": {},
   "source": [
    "Bucket 3"
   ]
  },
  {
   "cell_type": "code",
   "execution_count": 460,
   "metadata": {},
   "outputs": [],
   "source": [
    "data['avcu_b3'] = data['avisocuerpo'].apply(lambda text: any(all(word in text.split() for word in item.split()) for item in dic['b3']))\n",
    "data['avca_b3'] = data['avisocargo'].apply(lambda text: any(all(word in text.split() for word in item.split()) for item in dic['b3']))\n",
    "data['avre_b3'] = data['avisorequisitos'].apply(lambda text: any(all(word in text.split() for word in item.split()) for item in dic['b3']))"
   ]
  },
  {
   "cell_type": "markdown",
   "metadata": {},
   "source": [
    "Bucket 4"
   ]
  },
  {
   "cell_type": "code",
   "execution_count": 461,
   "metadata": {},
   "outputs": [],
   "source": [
    "data['avcu_b4'] = data['avisocuerpo'].apply(lambda text: any(item in text for item in dic['b4']))\n",
    "data['avca_b4'] = data['avisocargo'].apply(lambda text: any(item in text for item in dic['b4']))\n",
    "data['avre_b4'] = data['avisorequisitos'].apply(lambda text: any(item in text for item in dic['b4']))"
   ]
  },
  {
   "cell_type": "markdown",
   "metadata": {},
   "source": [
    "Saving"
   ]
  },
  {
   "cell_type": "code",
   "execution_count": 462,
   "metadata": {},
   "outputs": [],
   "source": [
    "results['avcu_bucket 1'][2023] = data['avcu_b1'].sum()\n",
    "results['avcu_bucket 2'][2023] = data['avcu_b2'].sum()\n",
    "results['avcu_bucket 3'][2023] = data['avcu_b3'].sum()\n",
    "results['avcu_bucket 4'][2023] = data['avcu_b4'].sum()\n",
    "\n",
    "results['avca_bucket 1'][2023] = data['avca_b1'].sum()\n",
    "results['avca_bucket 2'][2023] = data['avca_b2'].sum()\n",
    "results['avca_bucket 3'][2023] = data['avca_b3'].sum()\n",
    "results['avca_bucket 4'][2023] = data['avca_b4'].sum()\n",
    "\n",
    "results['avre_bucket 1'][2023] = data['avre_b1'].sum()\n",
    "results['avre_bucket 2'][2023] = data['avre_b2'].sum()\n",
    "results['avre_bucket 3'][2023] = data['avre_b3'].sum()\n",
    "results['avre_bucket 4'][2023] = data['avre_b4'].sum()"
   ]
  },
  {
   "cell_type": "code",
   "execution_count": 463,
   "metadata": {},
   "outputs": [
    {
     "name": "stdout",
     "output_type": "stream",
     "text": [
      "Sum of avcu_b1: 8119\n",
      "Sum of avcu_b2: 2105\n",
      "Sum of avcu_b3: 4876\n",
      "Sum of avcu_b4: 1161\n",
      "Sum of avca_b1: 9\n",
      "Sum of avca_b2: 11\n",
      "Sum of avca_b3: 6\n",
      "Sum of avca_b4: 233\n",
      "Sum of avre_b1: 1149\n",
      "Sum of avre_b2: 478\n",
      "Sum of avre_b3: 317\n",
      "Sum of avre_b4: 127\n"
     ]
    }
   ],
   "source": [
    "print(\"Sum of avcu_b1:\", data['avcu_b1'].sum())\n",
    "print(\"Sum of avcu_b2:\", data['avcu_b2'].sum())\n",
    "print(\"Sum of avcu_b3:\", data['avcu_b3'].sum())\n",
    "print(\"Sum of avcu_b4:\", data['avcu_b4'].sum())\n",
    "\n",
    "print(\"Sum of avca_b1:\", data['avca_b1'].sum())\n",
    "print(\"Sum of avca_b2:\", data['avca_b2'].sum())\n",
    "print(\"Sum of avca_b3:\", data['avca_b3'].sum())\n",
    "print(\"Sum of avca_b4:\", data['avca_b4'].sum())\n",
    "\n",
    "print(\"Sum of avre_b1:\", data['avre_b1'].sum())\n",
    "print(\"Sum of avre_b2:\", data['avre_b2'].sum())\n",
    "print(\"Sum of avre_b3:\", data['avre_b3'].sum())\n",
    "print(\"Sum of avre_b4:\", data['avre_b4'].sum())"
   ]
  },
  {
   "cell_type": "code",
   "execution_count": 464,
   "metadata": {},
   "outputs": [],
   "source": [
    "data.to_csv(f'datos\\counted\\d{year}_counted.csv')"
   ]
  },
  {
   "cell_type": "code",
   "execution_count": 465,
   "metadata": {},
   "outputs": [],
   "source": [
    "results.to_excel('results.xlsx')"
   ]
  },
  {
   "cell_type": "code",
   "execution_count": 466,
   "metadata": {},
   "outputs": [
    {
     "data": {
      "text/html": [
       "<div>\n",
       "<style scoped>\n",
       "    .dataframe tbody tr th:only-of-type {\n",
       "        vertical-align: middle;\n",
       "    }\n",
       "\n",
       "    .dataframe tbody tr th {\n",
       "        vertical-align: top;\n",
       "    }\n",
       "\n",
       "    .dataframe thead th {\n",
       "        text-align: right;\n",
       "    }\n",
       "</style>\n",
       "<table border=\"1\" class=\"dataframe\">\n",
       "  <thead>\n",
       "    <tr style=\"text-align: right;\">\n",
       "      <th></th>\n",
       "      <th>avcu_bucket 1</th>\n",
       "      <th>avcu_bucket 2</th>\n",
       "      <th>avcu_bucket 3</th>\n",
       "      <th>avcu_bucket 4</th>\n",
       "      <th>avca_bucket 1</th>\n",
       "      <th>avca_bucket 2</th>\n",
       "      <th>avca_bucket 3</th>\n",
       "      <th>avca_bucket 4</th>\n",
       "      <th>avre_bucket 1</th>\n",
       "      <th>avre_bucket 2</th>\n",
       "      <th>avre_bucket 3</th>\n",
       "      <th>avre_bucket 4</th>\n",
       "    </tr>\n",
       "  </thead>\n",
       "  <tbody>\n",
       "    <tr>\n",
       "      <th>2008</th>\n",
       "      <td>1865.0</td>\n",
       "      <td>9.0</td>\n",
       "      <td>608.0</td>\n",
       "      <td>34.0</td>\n",
       "      <td>6.0</td>\n",
       "      <td>0.0</td>\n",
       "      <td>0.0</td>\n",
       "      <td>1.0</td>\n",
       "      <td>310.0</td>\n",
       "      <td>6.0</td>\n",
       "      <td>119.0</td>\n",
       "      <td>14.0</td>\n",
       "    </tr>\n",
       "    <tr>\n",
       "      <th>2009</th>\n",
       "      <td>1793.0</td>\n",
       "      <td>98.0</td>\n",
       "      <td>923.0</td>\n",
       "      <td>100.0</td>\n",
       "      <td>6.0</td>\n",
       "      <td>1.0</td>\n",
       "      <td>1.0</td>\n",
       "      <td>4.0</td>\n",
       "      <td>362.0</td>\n",
       "      <td>19.0</td>\n",
       "      <td>161.0</td>\n",
       "      <td>9.0</td>\n",
       "    </tr>\n",
       "    <tr>\n",
       "      <th>2010</th>\n",
       "      <td>2715.0</td>\n",
       "      <td>46.0</td>\n",
       "      <td>1057.0</td>\n",
       "      <td>253.0</td>\n",
       "      <td>11.0</td>\n",
       "      <td>0.0</td>\n",
       "      <td>1.0</td>\n",
       "      <td>10.0</td>\n",
       "      <td>666.0</td>\n",
       "      <td>13.0</td>\n",
       "      <td>152.0</td>\n",
       "      <td>13.0</td>\n",
       "    </tr>\n",
       "    <tr>\n",
       "      <th>2011</th>\n",
       "      <td>3931.0</td>\n",
       "      <td>69.0</td>\n",
       "      <td>2091.0</td>\n",
       "      <td>192.0</td>\n",
       "      <td>4.0</td>\n",
       "      <td>9.0</td>\n",
       "      <td>10.0</td>\n",
       "      <td>40.0</td>\n",
       "      <td>805.0</td>\n",
       "      <td>13.0</td>\n",
       "      <td>215.0</td>\n",
       "      <td>16.0</td>\n",
       "    </tr>\n",
       "    <tr>\n",
       "      <th>2012</th>\n",
       "      <td>4631.0</td>\n",
       "      <td>210.0</td>\n",
       "      <td>3240.0</td>\n",
       "      <td>330.0</td>\n",
       "      <td>29.0</td>\n",
       "      <td>0.0</td>\n",
       "      <td>0.0</td>\n",
       "      <td>129.0</td>\n",
       "      <td>808.0</td>\n",
       "      <td>14.0</td>\n",
       "      <td>248.0</td>\n",
       "      <td>21.0</td>\n",
       "    </tr>\n",
       "    <tr>\n",
       "      <th>2013</th>\n",
       "      <td>6168.0</td>\n",
       "      <td>109.0</td>\n",
       "      <td>2339.0</td>\n",
       "      <td>234.0</td>\n",
       "      <td>2.0</td>\n",
       "      <td>0.0</td>\n",
       "      <td>0.0</td>\n",
       "      <td>5.0</td>\n",
       "      <td>896.0</td>\n",
       "      <td>8.0</td>\n",
       "      <td>316.0</td>\n",
       "      <td>9.0</td>\n",
       "    </tr>\n",
       "    <tr>\n",
       "      <th>2014</th>\n",
       "      <td>5710.0</td>\n",
       "      <td>49.0</td>\n",
       "      <td>1863.0</td>\n",
       "      <td>141.0</td>\n",
       "      <td>4.0</td>\n",
       "      <td>0.0</td>\n",
       "      <td>0.0</td>\n",
       "      <td>5.0</td>\n",
       "      <td>651.0</td>\n",
       "      <td>34.0</td>\n",
       "      <td>283.0</td>\n",
       "      <td>14.0</td>\n",
       "    </tr>\n",
       "    <tr>\n",
       "      <th>2015</th>\n",
       "      <td>5670.0</td>\n",
       "      <td>75.0</td>\n",
       "      <td>2362.0</td>\n",
       "      <td>120.0</td>\n",
       "      <td>34.0</td>\n",
       "      <td>4.0</td>\n",
       "      <td>0.0</td>\n",
       "      <td>8.0</td>\n",
       "      <td>955.0</td>\n",
       "      <td>16.0</td>\n",
       "      <td>136.0</td>\n",
       "      <td>26.0</td>\n",
       "    </tr>\n",
       "    <tr>\n",
       "      <th>2016</th>\n",
       "      <td>6000.0</td>\n",
       "      <td>90.0</td>\n",
       "      <td>6090.0</td>\n",
       "      <td>166.0</td>\n",
       "      <td>8.0</td>\n",
       "      <td>1.0</td>\n",
       "      <td>2.0</td>\n",
       "      <td>4.0</td>\n",
       "      <td>580.0</td>\n",
       "      <td>13.0</td>\n",
       "      <td>133.0</td>\n",
       "      <td>16.0</td>\n",
       "    </tr>\n",
       "    <tr>\n",
       "      <th>2017</th>\n",
       "      <td>5493.0</td>\n",
       "      <td>73.0</td>\n",
       "      <td>5045.0</td>\n",
       "      <td>370.0</td>\n",
       "      <td>8.0</td>\n",
       "      <td>8.0</td>\n",
       "      <td>1.0</td>\n",
       "      <td>9.0</td>\n",
       "      <td>580.0</td>\n",
       "      <td>12.0</td>\n",
       "      <td>118.0</td>\n",
       "      <td>21.0</td>\n",
       "    </tr>\n",
       "    <tr>\n",
       "      <th>2018</th>\n",
       "      <td>5992.0</td>\n",
       "      <td>115.0</td>\n",
       "      <td>7984.0</td>\n",
       "      <td>152.0</td>\n",
       "      <td>8.0</td>\n",
       "      <td>2.0</td>\n",
       "      <td>0.0</td>\n",
       "      <td>3.0</td>\n",
       "      <td>512.0</td>\n",
       "      <td>16.0</td>\n",
       "      <td>114.0</td>\n",
       "      <td>35.0</td>\n",
       "    </tr>\n",
       "    <tr>\n",
       "      <th>2019</th>\n",
       "      <td>7340.0</td>\n",
       "      <td>296.0</td>\n",
       "      <td>8488.0</td>\n",
       "      <td>335.0</td>\n",
       "      <td>5.0</td>\n",
       "      <td>17.0</td>\n",
       "      <td>0.0</td>\n",
       "      <td>6.0</td>\n",
       "      <td>554.0</td>\n",
       "      <td>17.0</td>\n",
       "      <td>103.0</td>\n",
       "      <td>3.0</td>\n",
       "    </tr>\n",
       "    <tr>\n",
       "      <th>2020</th>\n",
       "      <td>5837.0</td>\n",
       "      <td>1320.0</td>\n",
       "      <td>3887.0</td>\n",
       "      <td>960.0</td>\n",
       "      <td>3.0</td>\n",
       "      <td>40.0</td>\n",
       "      <td>35.0</td>\n",
       "      <td>249.0</td>\n",
       "      <td>378.0</td>\n",
       "      <td>251.0</td>\n",
       "      <td>220.0</td>\n",
       "      <td>91.0</td>\n",
       "    </tr>\n",
       "    <tr>\n",
       "      <th>2021</th>\n",
       "      <td>12328.0</td>\n",
       "      <td>5603.0</td>\n",
       "      <td>9729.0</td>\n",
       "      <td>4205.0</td>\n",
       "      <td>8.0</td>\n",
       "      <td>291.0</td>\n",
       "      <td>229.0</td>\n",
       "      <td>1765.0</td>\n",
       "      <td>1617.0</td>\n",
       "      <td>1361.0</td>\n",
       "      <td>779.0</td>\n",
       "      <td>653.0</td>\n",
       "    </tr>\n",
       "    <tr>\n",
       "      <th>2022</th>\n",
       "      <td>15339.0</td>\n",
       "      <td>5000.0</td>\n",
       "      <td>11300.0</td>\n",
       "      <td>3726.0</td>\n",
       "      <td>14.0</td>\n",
       "      <td>82.0</td>\n",
       "      <td>46.0</td>\n",
       "      <td>1419.0</td>\n",
       "      <td>2029.0</td>\n",
       "      <td>1365.0</td>\n",
       "      <td>670.0</td>\n",
       "      <td>484.0</td>\n",
       "    </tr>\n",
       "    <tr>\n",
       "      <th>2023</th>\n",
       "      <td>8119.0</td>\n",
       "      <td>2105.0</td>\n",
       "      <td>4876.0</td>\n",
       "      <td>1161.0</td>\n",
       "      <td>9.0</td>\n",
       "      <td>11.0</td>\n",
       "      <td>6.0</td>\n",
       "      <td>233.0</td>\n",
       "      <td>1149.0</td>\n",
       "      <td>478.0</td>\n",
       "      <td>317.0</td>\n",
       "      <td>127.0</td>\n",
       "    </tr>\n",
       "  </tbody>\n",
       "</table>\n",
       "</div>"
      ],
      "text/plain": [
       "      avcu_bucket 1  avcu_bucket 2  avcu_bucket 3  avcu_bucket 4  \\\n",
       "2008         1865.0            9.0          608.0           34.0   \n",
       "2009         1793.0           98.0          923.0          100.0   \n",
       "2010         2715.0           46.0         1057.0          253.0   \n",
       "2011         3931.0           69.0         2091.0          192.0   \n",
       "2012         4631.0          210.0         3240.0          330.0   \n",
       "2013         6168.0          109.0         2339.0          234.0   \n",
       "2014         5710.0           49.0         1863.0          141.0   \n",
       "2015         5670.0           75.0         2362.0          120.0   \n",
       "2016         6000.0           90.0         6090.0          166.0   \n",
       "2017         5493.0           73.0         5045.0          370.0   \n",
       "2018         5992.0          115.0         7984.0          152.0   \n",
       "2019         7340.0          296.0         8488.0          335.0   \n",
       "2020         5837.0         1320.0         3887.0          960.0   \n",
       "2021        12328.0         5603.0         9729.0         4205.0   \n",
       "2022        15339.0         5000.0        11300.0         3726.0   \n",
       "2023         8119.0         2105.0         4876.0         1161.0   \n",
       "\n",
       "      avca_bucket 1  avca_bucket 2  avca_bucket 3  avca_bucket 4  \\\n",
       "2008            6.0            0.0            0.0            1.0   \n",
       "2009            6.0            1.0            1.0            4.0   \n",
       "2010           11.0            0.0            1.0           10.0   \n",
       "2011            4.0            9.0           10.0           40.0   \n",
       "2012           29.0            0.0            0.0          129.0   \n",
       "2013            2.0            0.0            0.0            5.0   \n",
       "2014            4.0            0.0            0.0            5.0   \n",
       "2015           34.0            4.0            0.0            8.0   \n",
       "2016            8.0            1.0            2.0            4.0   \n",
       "2017            8.0            8.0            1.0            9.0   \n",
       "2018            8.0            2.0            0.0            3.0   \n",
       "2019            5.0           17.0            0.0            6.0   \n",
       "2020            3.0           40.0           35.0          249.0   \n",
       "2021            8.0          291.0          229.0         1765.0   \n",
       "2022           14.0           82.0           46.0         1419.0   \n",
       "2023            9.0           11.0            6.0          233.0   \n",
       "\n",
       "      avre_bucket 1  avre_bucket 2  avre_bucket 3  avre_bucket 4  \n",
       "2008          310.0            6.0          119.0           14.0  \n",
       "2009          362.0           19.0          161.0            9.0  \n",
       "2010          666.0           13.0          152.0           13.0  \n",
       "2011          805.0           13.0          215.0           16.0  \n",
       "2012          808.0           14.0          248.0           21.0  \n",
       "2013          896.0            8.0          316.0            9.0  \n",
       "2014          651.0           34.0          283.0           14.0  \n",
       "2015          955.0           16.0          136.0           26.0  \n",
       "2016          580.0           13.0          133.0           16.0  \n",
       "2017          580.0           12.0          118.0           21.0  \n",
       "2018          512.0           16.0          114.0           35.0  \n",
       "2019          554.0           17.0          103.0            3.0  \n",
       "2020          378.0          251.0          220.0           91.0  \n",
       "2021         1617.0         1361.0          779.0          653.0  \n",
       "2022         2029.0         1365.0          670.0          484.0  \n",
       "2023         1149.0          478.0          317.0          127.0  "
      ]
     },
     "execution_count": 466,
     "metadata": {},
     "output_type": "execute_result"
    }
   ],
   "source": [
    "results"
   ]
  }
 ],
 "metadata": {
  "kernelspec": {
   "display_name": "Python 3",
   "language": "python",
   "name": "python3"
  },
  "language_info": {
   "codemirror_mode": {
    "name": "ipython",
    "version": 3
   },
   "file_extension": ".py",
   "mimetype": "text/x-python",
   "name": "python",
   "nbconvert_exporter": "python",
   "pygments_lexer": "ipython3",
   "version": "3.11.2"
  },
  "orig_nbformat": 4
 },
 "nbformat": 4,
 "nbformat_minor": 2
}

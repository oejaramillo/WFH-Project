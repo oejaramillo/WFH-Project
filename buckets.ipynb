{
 "cells": [
  {
   "cell_type": "code",
   "execution_count": 17,
   "metadata": {},
   "outputs": [],
   "source": [
    "import numpy as np\n",
    "import pandas as pd\n",
    "import matplotlib.pyplot as plt\n",
    "\n",
    "import json"
   ]
  },
  {
   "cell_type": "markdown",
   "metadata": {},
   "source": [
    "### Choose a year"
   ]
  },
  {
   "cell_type": "code",
   "execution_count": 2,
   "metadata": {},
   "outputs": [],
   "source": [
    "year = '2008'"
   ]
  },
  {
   "cell_type": "markdown",
   "metadata": {},
   "source": [
    "### Loading database"
   ]
  },
  {
   "cell_type": "code",
   "execution_count": 5,
   "metadata": {},
   "outputs": [],
   "source": [
    "data  = pd.read_csv(f'datos\\d{year}.csv')"
   ]
  },
  {
   "cell_type": "code",
   "execution_count": 9,
   "metadata": {},
   "outputs": [],
   "source": [
    "data.rename(columns={'Unnamed: 0' : 'pyindex'}, inplace=True)"
   ]
  },
  {
   "cell_type": "markdown",
   "metadata": {},
   "source": [
    "### Database Info"
   ]
  },
  {
   "cell_type": "code",
   "execution_count": 12,
   "metadata": {},
   "outputs": [
    {
     "data": {
      "text/plain": [
       "Index(['pyindex', 'avisoid', 'empresaid', 'avisofechapublicacion',\n",
       "       'avisovacante', 'mostrarsueldo', 'avisoexperiencia', 'expiracion',\n",
       "       'dias', 'avisorepublicacion', 'avisocargo', 'areanombre',\n",
       "       'actividadempresanombre', 'avisocuerpo', 'disponibilidadnombre',\n",
       "       'avisoduracioncont', 'avisolugartrabajo', 'gradoescolarnombre',\n",
       "       'situacionestudios', 'avisorequisitos', 'carreras', 'estado',\n",
       "       'endpagado_o_gratuito', 'nivelnombre', 'carreras_array',\n",
       "       'sueldoestimado', '_merge'],\n",
       "      dtype='object')"
      ]
     },
     "execution_count": 12,
     "metadata": {},
     "output_type": "execute_result"
    }
   ],
   "source": [
    "data.columns"
   ]
  },
  {
   "cell_type": "code",
   "execution_count": 15,
   "metadata": {},
   "outputs": [
    {
     "name": "stdout",
     "output_type": "stream",
     "text": [
      "<class 'pandas.core.frame.DataFrame'>\n",
      "RangeIndex: 133595 entries, 0 to 133594\n",
      "Data columns (total 27 columns):\n",
      " #   Column                  Non-Null Count   Dtype  \n",
      "---  ------                  --------------   -----  \n",
      " 0   pyindex                 133595 non-null  int64  \n",
      " 1   avisoid                 133595 non-null  float64\n",
      " 2   empresaid               133595 non-null  int64  \n",
      " 3   avisofechapublicacion   133595 non-null  object \n",
      " 4   avisovacante            133594 non-null  float64\n",
      " 5   mostrarsueldo           95754 non-null   float64\n",
      " 6   avisoexperiencia        61261 non-null   float64\n",
      " 7   expiracion              133595 non-null  object \n",
      " 8   dias                    133595 non-null  int64  \n",
      " 9   avisorepublicacion      133595 non-null  int64  \n",
      " 10  avisocargo              133595 non-null  object \n",
      " 11  areanombre              133595 non-null  object \n",
      " 12  actividadempresanombre  130459 non-null  object \n",
      " 13  avisocuerpo             133595 non-null  object \n",
      " 14  disponibilidadnombre    133595 non-null  object \n",
      " 15  avisoduracioncont       30959 non-null   object \n",
      " 16  avisolugartrabajo       95752 non-null   object \n",
      " 17  gradoescolarnombre      113083 non-null  object \n",
      " 18  situacionestudios       133595 non-null  object \n",
      " 19  avisorequisitos         133595 non-null  object \n",
      " 20  carreras                76175 non-null   object \n",
      " 21  estado                  133595 non-null  object \n",
      " 22  endpagado_o_gratuito    133267 non-null  object \n",
      " 23  nivelnombre             95764 non-null   object \n",
      " 24  carreras_array          0 non-null       float64\n",
      " 25  sueldoestimado          95752 non-null   float64\n",
      " 26  _merge                  133595 non-null  object \n",
      "dtypes: float64(6), int64(4), object(17)\n",
      "memory usage: 27.5+ MB\n"
     ]
    }
   ],
   "source": [
    "data.info()"
   ]
  },
  {
   "cell_type": "markdown",
   "metadata": {},
   "source": [
    "## Start"
   ]
  },
  {
   "cell_type": "markdown",
   "metadata": {},
   "source": [
    "avisocuerpo \\\n",
    "avisocargo\\\n",
    "avisorequisitos"
   ]
  },
  {
   "cell_type": "markdown",
   "metadata": {},
   "source": [
    "Secure datatypes"
   ]
  },
  {
   "cell_type": "code",
   "execution_count": 14,
   "metadata": {},
   "outputs": [],
   "source": [
    "data['avisocuerpo'] = data['avisocuerpo'].astype(str)\n",
    "data['avisocargo'] = data['avisocargo'].astype(str)\n",
    "data['avisorequisitos'] = data['avisorequisitos'].astype(str)"
   ]
  },
  {
   "cell_type": "markdown",
   "metadata": {},
   "source": [
    "#### Load diccionaries"
   ]
  },
  {
   "cell_type": "code",
   "execution_count": 18,
   "metadata": {},
   "outputs": [],
   "source": [
    "file_path = \"dic.json\"\n",
    "\n",
    "# Open and read the JSON file\n",
    "with open(file_path, \"r\", encoding=\"utf-8\") as json_file:\n",
    "    dic = json.load(json_file)\n"
   ]
  },
  {
   "cell_type": "markdown",
   "metadata": {},
   "source": [
    "Let's count"
   ]
  },
  {
   "cell_type": "markdown",
   "metadata": {},
   "source": []
  }
 ],
 "metadata": {
  "kernelspec": {
   "display_name": "Python 3",
   "language": "python",
   "name": "python3"
  },
  "language_info": {
   "codemirror_mode": {
    "name": "ipython",
    "version": 3
   },
   "file_extension": ".py",
   "mimetype": "text/x-python",
   "name": "python",
   "nbconvert_exporter": "python",
   "pygments_lexer": "ipython3",
   "version": "3.11.2"
  },
  "orig_nbformat": 4
 },
 "nbformat": 4,
 "nbformat_minor": 2
}

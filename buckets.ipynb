{
 "cells": [
  {
   "cell_type": "code",
   "execution_count": 37,
   "metadata": {},
   "outputs": [],
   "source": [
    "import numpy as np\n",
    "import pandas as pd\n",
    "import matplotlib.pyplot as plt\n",
    "\n",
    "import json"
   ]
  },
  {
   "cell_type": "markdown",
   "metadata": {},
   "source": [
    "### Choose a year"
   ]
  },
  {
   "cell_type": "code",
   "execution_count": 38,
   "metadata": {},
   "outputs": [],
   "source": [
    "year = '2010'"
   ]
  },
  {
   "cell_type": "markdown",
   "metadata": {},
   "source": [
    "### Loading database"
   ]
  },
  {
   "cell_type": "code",
   "execution_count": 39,
   "metadata": {},
   "outputs": [],
   "source": [
    "data  = pd.read_csv(f'datos\\d{year}.csv')"
   ]
  },
  {
   "cell_type": "code",
   "execution_count": 40,
   "metadata": {},
   "outputs": [],
   "source": [
    "data.rename(columns={'Unnamed: 0' : 'pyindex'}, inplace=True)"
   ]
  },
  {
   "cell_type": "markdown",
   "metadata": {},
   "source": [
    "### Database Info"
   ]
  },
  {
   "cell_type": "code",
   "execution_count": 41,
   "metadata": {},
   "outputs": [
    {
     "data": {
      "text/plain": [
       "Index(['pyindex', 'avisoid', 'empresaid', 'avisofechapublicacion',\n",
       "       'avisovacante', 'mostrarsueldo', 'avisoexperiencia', 'expiracion',\n",
       "       'dias', 'avisorepublicacion', 'avisocargo', 'areanombre',\n",
       "       'actividadempresanombre', 'avisocuerpo', 'disponibilidadnombre',\n",
       "       'avisoduracioncont', 'avisolugartrabajo', 'gradoescolarnombre',\n",
       "       'situacionestudios', 'avisorequisitos', 'carreras', 'estado',\n",
       "       'endpagado_o_gratuito', 'nivelnombre', 'carreras_array',\n",
       "       'sueldoestimado', '_merge'],\n",
       "      dtype='object')"
      ]
     },
     "execution_count": 41,
     "metadata": {},
     "output_type": "execute_result"
    }
   ],
   "source": [
    "data.columns"
   ]
  },
  {
   "cell_type": "code",
   "execution_count": 42,
   "metadata": {},
   "outputs": [
    {
     "name": "stdout",
     "output_type": "stream",
     "text": [
      "<class 'pandas.core.frame.DataFrame'>\n",
      "RangeIndex: 191887 entries, 0 to 191886\n",
      "Data columns (total 27 columns):\n",
      " #   Column                  Non-Null Count   Dtype  \n",
      "---  ------                  --------------   -----  \n",
      " 0   pyindex                 191887 non-null  int64  \n",
      " 1   avisoid                 191887 non-null  float64\n",
      " 2   empresaid               191887 non-null  int64  \n",
      " 3   avisofechapublicacion   191887 non-null  object \n",
      " 4   avisovacante            191887 non-null  float64\n",
      " 5   mostrarsueldo           174701 non-null  float64\n",
      " 6   avisoexperiencia        174340 non-null  float64\n",
      " 7   expiracion              191887 non-null  object \n",
      " 8   dias                    191887 non-null  int64  \n",
      " 9   avisorepublicacion      191887 non-null  int64  \n",
      " 10  avisocargo              191777 non-null  object \n",
      " 11  areanombre              191887 non-null  object \n",
      " 12  actividadempresanombre  190020 non-null  object \n",
      " 13  avisocuerpo             180952 non-null  object \n",
      " 14  disponibilidadnombre    191887 non-null  object \n",
      " 15  avisoduracioncont       173211 non-null  object \n",
      " 16  avisolugartrabajo       173951 non-null  object \n",
      " 17  gradoescolarnombre      174701 non-null  object \n",
      " 18  situacionestudios       174107 non-null  object \n",
      " 19  avisorequisitos         188867 non-null  object \n",
      " 20  carreras                126498 non-null  object \n",
      " 21  estado                  191887 non-null  object \n",
      " 22  endpagado_o_gratuito    191301 non-null  object \n",
      " 23  nivelnombre             174701 non-null  object \n",
      " 24  carreras_array          0 non-null       float64\n",
      " 25  sueldoestimado          174697 non-null  float64\n",
      " 26  _merge                  191887 non-null  object \n",
      "dtypes: float64(6), int64(4), object(17)\n",
      "memory usage: 39.5+ MB\n"
     ]
    }
   ],
   "source": [
    "data.info()"
   ]
  },
  {
   "cell_type": "markdown",
   "metadata": {},
   "source": [
    "## Start"
   ]
  },
  {
   "cell_type": "markdown",
   "metadata": {},
   "source": [
    "avisocuerpo \\\n",
    "avisocargo\\\n",
    "avisorequisitos"
   ]
  },
  {
   "cell_type": "markdown",
   "metadata": {},
   "source": [
    "Secure datatypes"
   ]
  },
  {
   "cell_type": "code",
   "execution_count": 43,
   "metadata": {},
   "outputs": [],
   "source": [
    "data['avisocuerpo'] = data['avisocuerpo'].astype(str)\n",
    "data['avisocargo'] = data['avisocargo'].astype(str)\n",
    "data['avisorequisitos'] = data['avisorequisitos'].astype(str)"
   ]
  },
  {
   "cell_type": "markdown",
   "metadata": {},
   "source": [
    "#### Load diccionaries"
   ]
  },
  {
   "cell_type": "code",
   "execution_count": 44,
   "metadata": {},
   "outputs": [],
   "source": [
    "file_path = \"dic.json\"\n",
    "\n",
    "# Open and read the JSON file\n",
    "with open(file_path, \"r\", encoding=\"utf-8\") as json_file:\n",
    "    dic = json.load(json_file)\n"
   ]
  },
  {
   "cell_type": "markdown",
   "metadata": {},
   "source": [
    "Let's count"
   ]
  },
  {
   "cell_type": "code",
   "execution_count": 45,
   "metadata": {},
   "outputs": [],
   "source": [
    "results = pd.read_excel('results.xlsx', index_col=0)"
   ]
  },
  {
   "cell_type": "markdown",
   "metadata": {},
   "source": [
    "Bucket 1"
   ]
  },
  {
   "cell_type": "code",
   "execution_count": 46,
   "metadata": {},
   "outputs": [],
   "source": [
    "data['avcu_b1'] = data['avisocuerpo'].apply(lambda text: any(item in text for item in dic['b1']))\n",
    "data['avca_b1'] = data['avisocargo'].apply(lambda text: any(item in text for item in dic['b1']))\n",
    "data['avre_b1'] = data['avisorequisitos'].apply(lambda text: any(item in text for item in dic['b1']))"
   ]
  },
  {
   "cell_type": "markdown",
   "metadata": {},
   "source": [
    "Bucket 2"
   ]
  },
  {
   "cell_type": "code",
   "execution_count": 47,
   "metadata": {},
   "outputs": [],
   "source": [
    "data['avcu_b2'] = data['avisocuerpo'].apply(lambda text: any(item in text for item in dic['b2']))\n",
    "data['avca_b2'] = data['avisocargo'].apply(lambda text: any(item in text for item in dic['b2']))\n",
    "data['avre_b2'] = data['avisorequisitos'].apply(lambda text: any(item in text for item in dic['b2']))"
   ]
  },
  {
   "cell_type": "markdown",
   "metadata": {},
   "source": [
    "Bucket 3"
   ]
  },
  {
   "cell_type": "code",
   "execution_count": 48,
   "metadata": {},
   "outputs": [],
   "source": [
    "data['avcu_b3'] = data['avisocuerpo'].apply(lambda text: any(all(word in text.split() for word in item.split()) for item in dic['b3']))\n",
    "data['avca_b3'] = data['avisocargo'].apply(lambda text: any(all(word in text.split() for word in item.split()) for item in dic['b3']))\n",
    "data['avre_b3'] = data['avisorequisitos'].apply(lambda text: any(all(word in text.split() for word in item.split()) for item in dic['b3']))"
   ]
  },
  {
   "cell_type": "markdown",
   "metadata": {},
   "source": [
    "Bucket 4"
   ]
  },
  {
   "cell_type": "code",
   "execution_count": 49,
   "metadata": {},
   "outputs": [],
   "source": [
    "data['avcu_b4'] = data['avisocuerpo'].apply(lambda text: any(item in text for item in dic['b4']))\n",
    "data['avca_b4'] = data['avisocargo'].apply(lambda text: any(item in text for item in dic['b4']))\n",
    "data['avre_b4'] = data['avisorequisitos'].apply(lambda text: any(item in text for item in dic['b4']))"
   ]
  },
  {
   "cell_type": "markdown",
   "metadata": {},
   "source": [
    "Saving"
   ]
  },
  {
   "cell_type": "code",
   "execution_count": 50,
   "metadata": {},
   "outputs": [],
   "source": [
    "results['avcu_bucket 1'][2010] = data['avcu_b1'].sum()\n",
    "results['avcu_bucket 2'][2010] = data['avcu_b2'].sum()\n",
    "results['avcu_bucket 3'][2010] = data['avcu_b3'].sum()\n",
    "results['avcu_bucket 4'][2010] = data['avcu_b4'].sum()\n",
    "\n",
    "results['avca_bucket 1'][2010] = data['avca_b1'].sum()\n",
    "results['avca_bucket 2'][2010] = data['avca_b2'].sum()\n",
    "results['avca_bucket 3'][2010] = data['avca_b3'].sum()\n",
    "results['avca_bucket 4'][2010] = data['avca_b4'].sum()\n",
    "\n",
    "results['avre_bucket 1'][2010] = data['avre_b1'].sum()\n",
    "results['avre_bucket 2'][2010] = data['avre_b2'].sum()\n",
    "results['avre_bucket 3'][2010] = data['avre_b3'].sum()\n",
    "results['avre_bucket 4'][2010] = data['avre_b4'].sum()"
   ]
  },
  {
   "cell_type": "code",
   "execution_count": 51,
   "metadata": {},
   "outputs": [
    {
     "name": "stdout",
     "output_type": "stream",
     "text": [
      "Sum of avcu_b1: 2715\n",
      "Sum of avcu_b2: 412\n",
      "Sum of avcu_b3: 1067\n",
      "Sum of avcu_b4: 467\n",
      "Sum of avca_b1: 11\n",
      "Sum of avca_b2: 53\n",
      "Sum of avca_b3: 4\n",
      "Sum of avca_b4: 5\n",
      "Sum of avre_b1: 666\n",
      "Sum of avre_b2: 87\n",
      "Sum of avre_b3: 152\n",
      "Sum of avre_b4: 83\n"
     ]
    }
   ],
   "source": [
    "print(\"Sum of avcu_b1:\", data['avcu_b1'].sum())\n",
    "print(\"Sum of avcu_b2:\", data['avcu_b2'].sum())\n",
    "print(\"Sum of avcu_b3:\", data['avcu_b3'].sum())\n",
    "print(\"Sum of avcu_b4:\", data['avcu_b4'].sum())\n",
    "\n",
    "print(\"Sum of avca_b1:\", data['avca_b1'].sum())\n",
    "print(\"Sum of avca_b2:\", data['avca_b2'].sum())\n",
    "print(\"Sum of avca_b3:\", data['avca_b3'].sum())\n",
    "print(\"Sum of avca_b4:\", data['avca_b4'].sum())\n",
    "\n",
    "print(\"Sum of avre_b1:\", data['avre_b1'].sum())\n",
    "print(\"Sum of avre_b2:\", data['avre_b2'].sum())\n",
    "print(\"Sum of avre_b3:\", data['avre_b3'].sum())\n",
    "print(\"Sum of avre_b4:\", data['avre_b4'].sum())"
   ]
  },
  {
   "cell_type": "code",
   "execution_count": 52,
   "metadata": {},
   "outputs": [],
   "source": [
    "data.to_csv(f'datos\\counted\\d{year}_counted.csv')"
   ]
  },
  {
   "cell_type": "code",
   "execution_count": 53,
   "metadata": {},
   "outputs": [],
   "source": [
    "results.to_excel('results.xlsx')"
   ]
  },
  {
   "cell_type": "code",
   "execution_count": 54,
   "metadata": {},
   "outputs": [
    {
     "data": {
      "text/html": [
       "<div>\n",
       "<style scoped>\n",
       "    .dataframe tbody tr th:only-of-type {\n",
       "        vertical-align: middle;\n",
       "    }\n",
       "\n",
       "    .dataframe tbody tr th {\n",
       "        vertical-align: top;\n",
       "    }\n",
       "\n",
       "    .dataframe thead th {\n",
       "        text-align: right;\n",
       "    }\n",
       "</style>\n",
       "<table border=\"1\" class=\"dataframe\">\n",
       "  <thead>\n",
       "    <tr style=\"text-align: right;\">\n",
       "      <th></th>\n",
       "      <th>avcu_bucket 1</th>\n",
       "      <th>avcu_bucket 2</th>\n",
       "      <th>avcu_bucket 3</th>\n",
       "      <th>avcu_bucket 4</th>\n",
       "      <th>avca_bucket 1</th>\n",
       "      <th>avca_bucket 2</th>\n",
       "      <th>avca_bucket 3</th>\n",
       "      <th>avca_bucket 4</th>\n",
       "      <th>avre_bucket 1</th>\n",
       "      <th>avre_bucket 2</th>\n",
       "      <th>avre_bucket 3</th>\n",
       "      <th>avre_bucket 4</th>\n",
       "    </tr>\n",
       "  </thead>\n",
       "  <tbody>\n",
       "    <tr>\n",
       "      <th>2008</th>\n",
       "      <td>1865</td>\n",
       "      <td>172</td>\n",
       "      <td>611</td>\n",
       "      <td>111</td>\n",
       "      <td>6</td>\n",
       "      <td>13</td>\n",
       "      <td>1</td>\n",
       "      <td>6</td>\n",
       "      <td>310</td>\n",
       "      <td>60</td>\n",
       "      <td>119</td>\n",
       "      <td>65</td>\n",
       "    </tr>\n",
       "    <tr>\n",
       "      <th>2009</th>\n",
       "      <td>1794</td>\n",
       "      <td>372</td>\n",
       "      <td>930</td>\n",
       "      <td>257</td>\n",
       "      <td>6</td>\n",
       "      <td>37</td>\n",
       "      <td>4</td>\n",
       "      <td>7</td>\n",
       "      <td>362</td>\n",
       "      <td>98</td>\n",
       "      <td>161</td>\n",
       "      <td>54</td>\n",
       "    </tr>\n",
       "    <tr>\n",
       "      <th>2010</th>\n",
       "      <td>2715</td>\n",
       "      <td>412</td>\n",
       "      <td>1067</td>\n",
       "      <td>467</td>\n",
       "      <td>11</td>\n",
       "      <td>53</td>\n",
       "      <td>4</td>\n",
       "      <td>5</td>\n",
       "      <td>666</td>\n",
       "      <td>87</td>\n",
       "      <td>152</td>\n",
       "      <td>83</td>\n",
       "    </tr>\n",
       "    <tr>\n",
       "      <th>2011</th>\n",
       "      <td>3931</td>\n",
       "      <td>69</td>\n",
       "      <td>2091</td>\n",
       "      <td>192</td>\n",
       "      <td>4</td>\n",
       "      <td>9</td>\n",
       "      <td>10</td>\n",
       "      <td>40</td>\n",
       "      <td>805</td>\n",
       "      <td>13</td>\n",
       "      <td>215</td>\n",
       "      <td>16</td>\n",
       "    </tr>\n",
       "    <tr>\n",
       "      <th>2012</th>\n",
       "      <td>4631</td>\n",
       "      <td>210</td>\n",
       "      <td>3240</td>\n",
       "      <td>330</td>\n",
       "      <td>29</td>\n",
       "      <td>0</td>\n",
       "      <td>0</td>\n",
       "      <td>129</td>\n",
       "      <td>808</td>\n",
       "      <td>14</td>\n",
       "      <td>248</td>\n",
       "      <td>21</td>\n",
       "    </tr>\n",
       "    <tr>\n",
       "      <th>2013</th>\n",
       "      <td>6168</td>\n",
       "      <td>109</td>\n",
       "      <td>2339</td>\n",
       "      <td>234</td>\n",
       "      <td>2</td>\n",
       "      <td>0</td>\n",
       "      <td>0</td>\n",
       "      <td>5</td>\n",
       "      <td>896</td>\n",
       "      <td>8</td>\n",
       "      <td>316</td>\n",
       "      <td>9</td>\n",
       "    </tr>\n",
       "    <tr>\n",
       "      <th>2014</th>\n",
       "      <td>5710</td>\n",
       "      <td>49</td>\n",
       "      <td>1863</td>\n",
       "      <td>141</td>\n",
       "      <td>4</td>\n",
       "      <td>0</td>\n",
       "      <td>0</td>\n",
       "      <td>5</td>\n",
       "      <td>651</td>\n",
       "      <td>34</td>\n",
       "      <td>283</td>\n",
       "      <td>14</td>\n",
       "    </tr>\n",
       "    <tr>\n",
       "      <th>2015</th>\n",
       "      <td>5670</td>\n",
       "      <td>75</td>\n",
       "      <td>2362</td>\n",
       "      <td>120</td>\n",
       "      <td>34</td>\n",
       "      <td>4</td>\n",
       "      <td>0</td>\n",
       "      <td>8</td>\n",
       "      <td>955</td>\n",
       "      <td>16</td>\n",
       "      <td>136</td>\n",
       "      <td>26</td>\n",
       "    </tr>\n",
       "    <tr>\n",
       "      <th>2016</th>\n",
       "      <td>6000</td>\n",
       "      <td>90</td>\n",
       "      <td>6090</td>\n",
       "      <td>166</td>\n",
       "      <td>8</td>\n",
       "      <td>1</td>\n",
       "      <td>2</td>\n",
       "      <td>4</td>\n",
       "      <td>580</td>\n",
       "      <td>13</td>\n",
       "      <td>133</td>\n",
       "      <td>16</td>\n",
       "    </tr>\n",
       "    <tr>\n",
       "      <th>2017</th>\n",
       "      <td>5493</td>\n",
       "      <td>73</td>\n",
       "      <td>5045</td>\n",
       "      <td>370</td>\n",
       "      <td>8</td>\n",
       "      <td>8</td>\n",
       "      <td>1</td>\n",
       "      <td>9</td>\n",
       "      <td>580</td>\n",
       "      <td>12</td>\n",
       "      <td>118</td>\n",
       "      <td>21</td>\n",
       "    </tr>\n",
       "    <tr>\n",
       "      <th>2018</th>\n",
       "      <td>5992</td>\n",
       "      <td>115</td>\n",
       "      <td>7984</td>\n",
       "      <td>152</td>\n",
       "      <td>8</td>\n",
       "      <td>2</td>\n",
       "      <td>0</td>\n",
       "      <td>3</td>\n",
       "      <td>512</td>\n",
       "      <td>16</td>\n",
       "      <td>114</td>\n",
       "      <td>35</td>\n",
       "    </tr>\n",
       "    <tr>\n",
       "      <th>2019</th>\n",
       "      <td>7340</td>\n",
       "      <td>296</td>\n",
       "      <td>8488</td>\n",
       "      <td>335</td>\n",
       "      <td>5</td>\n",
       "      <td>17</td>\n",
       "      <td>0</td>\n",
       "      <td>6</td>\n",
       "      <td>554</td>\n",
       "      <td>17</td>\n",
       "      <td>103</td>\n",
       "      <td>3</td>\n",
       "    </tr>\n",
       "    <tr>\n",
       "      <th>2020</th>\n",
       "      <td>5837</td>\n",
       "      <td>1320</td>\n",
       "      <td>3887</td>\n",
       "      <td>960</td>\n",
       "      <td>3</td>\n",
       "      <td>40</td>\n",
       "      <td>35</td>\n",
       "      <td>249</td>\n",
       "      <td>378</td>\n",
       "      <td>251</td>\n",
       "      <td>220</td>\n",
       "      <td>91</td>\n",
       "    </tr>\n",
       "    <tr>\n",
       "      <th>2021</th>\n",
       "      <td>12328</td>\n",
       "      <td>5603</td>\n",
       "      <td>9729</td>\n",
       "      <td>4205</td>\n",
       "      <td>8</td>\n",
       "      <td>291</td>\n",
       "      <td>229</td>\n",
       "      <td>1765</td>\n",
       "      <td>1617</td>\n",
       "      <td>1361</td>\n",
       "      <td>779</td>\n",
       "      <td>653</td>\n",
       "    </tr>\n",
       "    <tr>\n",
       "      <th>2022</th>\n",
       "      <td>15339</td>\n",
       "      <td>5000</td>\n",
       "      <td>11300</td>\n",
       "      <td>3726</td>\n",
       "      <td>14</td>\n",
       "      <td>82</td>\n",
       "      <td>46</td>\n",
       "      <td>1419</td>\n",
       "      <td>2029</td>\n",
       "      <td>1365</td>\n",
       "      <td>670</td>\n",
       "      <td>484</td>\n",
       "    </tr>\n",
       "    <tr>\n",
       "      <th>2023</th>\n",
       "      <td>8119</td>\n",
       "      <td>2105</td>\n",
       "      <td>4876</td>\n",
       "      <td>1161</td>\n",
       "      <td>9</td>\n",
       "      <td>11</td>\n",
       "      <td>6</td>\n",
       "      <td>233</td>\n",
       "      <td>1149</td>\n",
       "      <td>478</td>\n",
       "      <td>317</td>\n",
       "      <td>127</td>\n",
       "    </tr>\n",
       "  </tbody>\n",
       "</table>\n",
       "</div>"
      ],
      "text/plain": [
       "      avcu_bucket 1  avcu_bucket 2  avcu_bucket 3  avcu_bucket 4  \\\n",
       "2008           1865            172            611            111   \n",
       "2009           1794            372            930            257   \n",
       "2010           2715            412           1067            467   \n",
       "2011           3931             69           2091            192   \n",
       "2012           4631            210           3240            330   \n",
       "2013           6168            109           2339            234   \n",
       "2014           5710             49           1863            141   \n",
       "2015           5670             75           2362            120   \n",
       "2016           6000             90           6090            166   \n",
       "2017           5493             73           5045            370   \n",
       "2018           5992            115           7984            152   \n",
       "2019           7340            296           8488            335   \n",
       "2020           5837           1320           3887            960   \n",
       "2021          12328           5603           9729           4205   \n",
       "2022          15339           5000          11300           3726   \n",
       "2023           8119           2105           4876           1161   \n",
       "\n",
       "      avca_bucket 1  avca_bucket 2  avca_bucket 3  avca_bucket 4  \\\n",
       "2008              6             13              1              6   \n",
       "2009              6             37              4              7   \n",
       "2010             11             53              4              5   \n",
       "2011              4              9             10             40   \n",
       "2012             29              0              0            129   \n",
       "2013              2              0              0              5   \n",
       "2014              4              0              0              5   \n",
       "2015             34              4              0              8   \n",
       "2016              8              1              2              4   \n",
       "2017              8              8              1              9   \n",
       "2018              8              2              0              3   \n",
       "2019              5             17              0              6   \n",
       "2020              3             40             35            249   \n",
       "2021              8            291            229           1765   \n",
       "2022             14             82             46           1419   \n",
       "2023              9             11              6            233   \n",
       "\n",
       "      avre_bucket 1  avre_bucket 2  avre_bucket 3  avre_bucket 4  \n",
       "2008            310             60            119             65  \n",
       "2009            362             98            161             54  \n",
       "2010            666             87            152             83  \n",
       "2011            805             13            215             16  \n",
       "2012            808             14            248             21  \n",
       "2013            896              8            316              9  \n",
       "2014            651             34            283             14  \n",
       "2015            955             16            136             26  \n",
       "2016            580             13            133             16  \n",
       "2017            580             12            118             21  \n",
       "2018            512             16            114             35  \n",
       "2019            554             17            103              3  \n",
       "2020            378            251            220             91  \n",
       "2021           1617           1361            779            653  \n",
       "2022           2029           1365            670            484  \n",
       "2023           1149            478            317            127  "
      ]
     },
     "execution_count": 54,
     "metadata": {},
     "output_type": "execute_result"
    }
   ],
   "source": [
    "results"
   ]
  }
 ],
 "metadata": {
  "kernelspec": {
   "display_name": "Python 3",
   "language": "python",
   "name": "python3"
  },
  "language_info": {
   "codemirror_mode": {
    "name": "ipython",
    "version": 3
   },
   "file_extension": ".py",
   "mimetype": "text/x-python",
   "name": "python",
   "nbconvert_exporter": "python",
   "pygments_lexer": "ipython3",
   "version": "3.11.2"
  },
  "orig_nbformat": 4
 },
 "nbformat": 4,
 "nbformat_minor": 2
}

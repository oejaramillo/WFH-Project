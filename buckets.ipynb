{
 "cells": [
  {
   "cell_type": "code",
   "execution_count": 1,
   "metadata": {},
   "outputs": [],
   "source": [
    "import numpy as np\n",
    "import pandas as pd\n",
    "import matplotlib.pyplot as plt\n",
    "\n",
    "import json"
   ]
  },
  {
   "cell_type": "markdown",
   "metadata": {},
   "source": [
    "### Choose a time partition"
   ]
  },
  {
   "cell_type": "code",
   "execution_count": 4,
   "metadata": {},
   "outputs": [],
   "source": [
    "tp = 1"
   ]
  },
  {
   "cell_type": "markdown",
   "metadata": {},
   "source": [
    "### Loading database"
   ]
  },
  {
   "cell_type": "code",
   "execution_count": 7,
   "metadata": {},
   "outputs": [],
   "source": [
    "data  = pd.read_csv(f'datos\\d{tp}.csv')"
   ]
  },
  {
   "cell_type": "code",
   "execution_count": 8,
   "metadata": {},
   "outputs": [],
   "source": [
    "data.drop(columns={'Unnamed: 0'}, inplace=True)"
   ]
  },
  {
   "cell_type": "markdown",
   "metadata": {},
   "source": [
    "## Start"
   ]
  },
  {
   "cell_type": "markdown",
   "metadata": {},
   "source": [
    "avisocuerpo \\\n",
    "avisocargo\\\n",
    "avisorequisitos"
   ]
  },
  {
   "cell_type": "markdown",
   "metadata": {},
   "source": [
    "Secure datatypes"
   ]
  },
  {
   "cell_type": "code",
   "execution_count": 11,
   "metadata": {},
   "outputs": [],
   "source": [
    "data['avisocuerpo'] = data['avisocuerpo'].astype(str)\n",
    "data['avisocargo'] = data['avisocargo'].astype(str)\n",
    "data['avisorequisitos'] = data['avisorequisitos'].astype(str)"
   ]
  },
  {
   "cell_type": "markdown",
   "metadata": {},
   "source": [
    "By 'disponibilidadnombre'"
   ]
  },
  {
   "cell_type": "code",
   "execution_count": 14,
   "metadata": {},
   "outputs": [
    {
     "data": {
      "text/plain": [
       "Jornada Completa        1795535\n",
       "Por Turnos               175073\n",
       "Part Time                130426\n",
       "Práctica Profesional     100114\n",
       "Media Jornada             62892\n",
       "Comisionista              15053\n",
       "Reemplazo                 11679\n",
       "Free Lance                10157\n",
       "Teletrabajo                  47\n",
       "Name: disponibilidadnombre, dtype: int64"
      ]
     },
     "execution_count": 14,
     "metadata": {},
     "output_type": "execute_result"
    }
   ],
   "source": [
    "data['disponibilidadnombre'].value_counts()"
   ]
  },
  {
   "cell_type": "markdown",
   "metadata": {},
   "source": [
    "#### Load diccionaries"
   ]
  },
  {
   "cell_type": "code",
   "execution_count": 12,
   "metadata": {},
   "outputs": [],
   "source": [
    "file_path = \"dic.json\"\n",
    "\n",
    "# Open and read the JSON file\n",
    "with open(file_path, \"r\", encoding=\"utf-8\") as json_file:\n",
    "    dic = json.load(json_file)"
   ]
  },
  {
   "cell_type": "markdown",
   "metadata": {},
   "source": [
    "Let's count"
   ]
  },
  {
   "cell_type": "code",
   "execution_count": 44,
   "metadata": {},
   "outputs": [],
   "source": [
    "results = pd.read_excel('results.xlsx', index_col=0)"
   ]
  },
  {
   "cell_type": "markdown",
   "metadata": {},
   "source": [
    "Bucket 1"
   ]
  },
  {
   "cell_type": "code",
   "execution_count": 46,
   "metadata": {},
   "outputs": [],
   "source": [
    "data['avcu_b1'] = data['avisocuerpo'].apply(lambda text: any(item in text for item in dic['b1']))\n",
    "data['avca_b1'] = data['avisocargo'].apply(lambda text: any(item in text for item in dic['b1']))\n",
    "data['avre_b1'] = data['avisorequisitos'].apply(lambda text: any(item in text for item in dic['b1']))"
   ]
  },
  {
   "cell_type": "markdown",
   "metadata": {},
   "source": [
    "Bucket 2"
   ]
  },
  {
   "cell_type": "code",
   "execution_count": 29,
   "metadata": {},
   "outputs": [],
   "source": [
    "data['avcu_b2'] = data['avisocuerpo'].apply(lambda text: any(item in text for item in dic['b2']))\n",
    "data['avca_b2'] = data['avisocargo'].apply(lambda text: any(item in text for item in dic['b2']))\n",
    "data['avre_b2'] = data['avisorequisitos'].apply(lambda text: any(item in text for item in dic['b2']))"
   ]
  },
  {
   "cell_type": "markdown",
   "metadata": {},
   "source": [
    "Bucket 3"
   ]
  },
  {
   "cell_type": "code",
   "execution_count": 30,
   "metadata": {},
   "outputs": [],
   "source": [
    "data['avcu_b3'] = data['avisocuerpo'].apply(lambda text: any(all(word in text.split() for word in item.split()) for item in dic['b3']))\n",
    "data['avca_b3'] = data['avisocargo'].apply(lambda text: any(all(word in text.split() for word in item.split()) for item in dic['b3']))\n",
    "data['avre_b3'] = data['avisorequisitos'].apply(lambda text: any(all(word in text.split() for word in item.split()) for item in dic['b3']))"
   ]
  },
  {
   "cell_type": "markdown",
   "metadata": {},
   "source": [
    "Bucket 4"
   ]
  },
  {
   "cell_type": "code",
   "execution_count": 31,
   "metadata": {},
   "outputs": [],
   "source": [
    "data['avcu_b4'] = data['avisocuerpo'].apply(lambda text: any(item in text for item in dic['b4']))\n",
    "data['avca_b4'] = data['avisocargo'].apply(lambda text: any(item in text for item in dic['b4']))\n",
    "data['avre_b4'] = data['avisorequisitos'].apply(lambda text: any(item in text for item in dic['b4']))"
   ]
  },
  {
   "cell_type": "markdown",
   "metadata": {},
   "source": [
    "Saving"
   ]
  },
  {
   "cell_type": "code",
   "execution_count": 32,
   "metadata": {},
   "outputs": [],
   "source": [
    "results['avcu_bucket 1'][1] = data['avcu_b1'].sum()\n",
    "results['avcu_bucket 2'][1] = data['avcu_b2'].sum()\n",
    "results['avcu_bucket 3'][1] = data['avcu_b3'].sum()\n",
    "results['avcu_bucket 4'][1] = data['avcu_b4'].sum()\n",
    "\n",
    "results['avca_bucket 1'][1] = data['avca_b1'].sum()\n",
    "results['avca_bucket 2'][1] = data['avca_b2'].sum()\n",
    "results['avca_bucket 3'][1] = data['avca_b3'].sum()\n",
    "results['avca_bucket 4'][1] = data['avca_b4'].sum()\n",
    "\n",
    "results['avre_bucket 1'][1] = data['avre_b1'].sum()\n",
    "results['avre_bucket 2'][1] = data['avre_b2'].sum()\n",
    "results['avre_bucket 3'][1] = data['avre_b3'].sum()\n",
    "results['avre_bucket 4'][1] = data['avre_b4'].sum()"
   ]
  },
  {
   "cell_type": "code",
   "execution_count": 33,
   "metadata": {},
   "outputs": [
    {
     "name": "stdout",
     "output_type": "stream",
     "text": [
      "Sum of avcu_b1: 8200\n",
      "Sum of avcu_b2: 4642\n",
      "Sum of avcu_b3: 5247\n",
      "Sum of avcu_b4: 571\n",
      "Sum of avca_b1: 9\n",
      "Sum of avca_b2: 558\n",
      "Sum of avca_b3: 163\n",
      "Sum of avca_b4: 2\n",
      "Sum of avre_b1: 1151\n",
      "Sum of avre_b2: 941\n",
      "Sum of avre_b3: 394\n",
      "Sum of avre_b4: 44\n"
     ]
    }
   ],
   "source": [
    "print(\"Sum of avcu_b1:\", data['avcu_b1'].sum())\n",
    "print(\"Sum of avcu_b2:\", data['avcu_b2'].sum())\n",
    "print(\"Sum of avcu_b3:\", data['avcu_b3'].sum())\n",
    "print(\"Sum of avcu_b4:\", data['avcu_b4'].sum())\n",
    "\n",
    "print(\"Sum of avca_b1:\", data['avca_b1'].sum())\n",
    "print(\"Sum of avca_b2:\", data['avca_b2'].sum())\n",
    "print(\"Sum of avca_b3:\", data['avca_b3'].sum())\n",
    "print(\"Sum of avca_b4:\", data['avca_b4'].sum())\n",
    "\n",
    "print(\"Sum of avre_b1:\", data['avre_b1'].sum())\n",
    "print(\"Sum of avre_b2:\", data['avre_b2'].sum())\n",
    "print(\"Sum of avre_b3:\", data['avre_b3'].sum())\n",
    "print(\"Sum of avre_b4:\", data['avre_b4'].sum())"
   ]
  },
  {
   "cell_type": "code",
   "execution_count": 34,
   "metadata": {},
   "outputs": [],
   "source": [
    "data.to_csv(f'datos\\counted\\d{year}_counted.csv')"
   ]
  },
  {
   "cell_type": "code",
   "execution_count": 35,
   "metadata": {},
   "outputs": [],
   "source": [
    "results.to_excel('results.xlsx')"
   ]
  },
  {
   "cell_type": "code",
   "execution_count": 36,
   "metadata": {},
   "outputs": [
    {
     "data": {
      "text/html": [
       "<div>\n",
       "<style scoped>\n",
       "    .dataframe tbody tr th:only-of-type {\n",
       "        vertical-align: middle;\n",
       "    }\n",
       "\n",
       "    .dataframe tbody tr th {\n",
       "        vertical-align: top;\n",
       "    }\n",
       "\n",
       "    .dataframe thead th {\n",
       "        text-align: right;\n",
       "    }\n",
       "</style>\n",
       "<table border=\"1\" class=\"dataframe\">\n",
       "  <thead>\n",
       "    <tr style=\"text-align: right;\">\n",
       "      <th></th>\n",
       "      <th>avcu_bucket 1</th>\n",
       "      <th>avcu_bucket 2</th>\n",
       "      <th>avcu_bucket 3</th>\n",
       "      <th>avcu_bucket 4</th>\n",
       "      <th>avca_bucket 1</th>\n",
       "      <th>avca_bucket 2</th>\n",
       "      <th>avca_bucket 3</th>\n",
       "      <th>avca_bucket 4</th>\n",
       "      <th>avre_bucket 1</th>\n",
       "      <th>avre_bucket 2</th>\n",
       "      <th>avre_bucket 3</th>\n",
       "      <th>avre_bucket 4</th>\n",
       "    </tr>\n",
       "  </thead>\n",
       "  <tbody>\n",
       "    <tr>\n",
       "      <th>2008</th>\n",
       "      <td>1865</td>\n",
       "      <td>172</td>\n",
       "      <td>611</td>\n",
       "      <td>111</td>\n",
       "      <td>6</td>\n",
       "      <td>13</td>\n",
       "      <td>1</td>\n",
       "      <td>6</td>\n",
       "      <td>310</td>\n",
       "      <td>60</td>\n",
       "      <td>119</td>\n",
       "      <td>65</td>\n",
       "    </tr>\n",
       "    <tr>\n",
       "      <th>2009</th>\n",
       "      <td>1794</td>\n",
       "      <td>372</td>\n",
       "      <td>930</td>\n",
       "      <td>257</td>\n",
       "      <td>6</td>\n",
       "      <td>37</td>\n",
       "      <td>4</td>\n",
       "      <td>7</td>\n",
       "      <td>362</td>\n",
       "      <td>98</td>\n",
       "      <td>161</td>\n",
       "      <td>54</td>\n",
       "    </tr>\n",
       "    <tr>\n",
       "      <th>2010</th>\n",
       "      <td>2715</td>\n",
       "      <td>412</td>\n",
       "      <td>1067</td>\n",
       "      <td>467</td>\n",
       "      <td>11</td>\n",
       "      <td>53</td>\n",
       "      <td>4</td>\n",
       "      <td>5</td>\n",
       "      <td>666</td>\n",
       "      <td>87</td>\n",
       "      <td>152</td>\n",
       "      <td>83</td>\n",
       "    </tr>\n",
       "    <tr>\n",
       "      <th>2011</th>\n",
       "      <td>3931</td>\n",
       "      <td>617</td>\n",
       "      <td>2102</td>\n",
       "      <td>297</td>\n",
       "      <td>4</td>\n",
       "      <td>81</td>\n",
       "      <td>31</td>\n",
       "      <td>2</td>\n",
       "      <td>806</td>\n",
       "      <td>232</td>\n",
       "      <td>218</td>\n",
       "      <td>77</td>\n",
       "    </tr>\n",
       "    <tr>\n",
       "      <th>2012</th>\n",
       "      <td>4632</td>\n",
       "      <td>640</td>\n",
       "      <td>3263</td>\n",
       "      <td>565</td>\n",
       "      <td>29</td>\n",
       "      <td>324</td>\n",
       "      <td>118</td>\n",
       "      <td>19</td>\n",
       "      <td>809</td>\n",
       "      <td>234</td>\n",
       "      <td>257</td>\n",
       "      <td>80</td>\n",
       "    </tr>\n",
       "    <tr>\n",
       "      <th>2013</th>\n",
       "      <td>6168</td>\n",
       "      <td>657</td>\n",
       "      <td>2348</td>\n",
       "      <td>553</td>\n",
       "      <td>2</td>\n",
       "      <td>81</td>\n",
       "      <td>2</td>\n",
       "      <td>29</td>\n",
       "      <td>896</td>\n",
       "      <td>131</td>\n",
       "      <td>319</td>\n",
       "      <td>70</td>\n",
       "    </tr>\n",
       "    <tr>\n",
       "      <th>2014</th>\n",
       "      <td>5710</td>\n",
       "      <td>500</td>\n",
       "      <td>1885</td>\n",
       "      <td>489</td>\n",
       "      <td>4</td>\n",
       "      <td>62</td>\n",
       "      <td>1</td>\n",
       "      <td>15</td>\n",
       "      <td>651</td>\n",
       "      <td>185</td>\n",
       "      <td>288</td>\n",
       "      <td>92</td>\n",
       "    </tr>\n",
       "    <tr>\n",
       "      <th>2015</th>\n",
       "      <td>5670</td>\n",
       "      <td>545</td>\n",
       "      <td>2378</td>\n",
       "      <td>516</td>\n",
       "      <td>34</td>\n",
       "      <td>72</td>\n",
       "      <td>7</td>\n",
       "      <td>4</td>\n",
       "      <td>955</td>\n",
       "      <td>161</td>\n",
       "      <td>138</td>\n",
       "      <td>58</td>\n",
       "    </tr>\n",
       "    <tr>\n",
       "      <th>2016</th>\n",
       "      <td>6000</td>\n",
       "      <td>745</td>\n",
       "      <td>6111</td>\n",
       "      <td>492</td>\n",
       "      <td>8</td>\n",
       "      <td>53</td>\n",
       "      <td>5</td>\n",
       "      <td>13</td>\n",
       "      <td>580</td>\n",
       "      <td>146</td>\n",
       "      <td>135</td>\n",
       "      <td>77</td>\n",
       "    </tr>\n",
       "    <tr>\n",
       "      <th>2017</th>\n",
       "      <td>5502</td>\n",
       "      <td>643</td>\n",
       "      <td>5078</td>\n",
       "      <td>727</td>\n",
       "      <td>8</td>\n",
       "      <td>69</td>\n",
       "      <td>6</td>\n",
       "      <td>16</td>\n",
       "      <td>581</td>\n",
       "      <td>134</td>\n",
       "      <td>127</td>\n",
       "      <td>54</td>\n",
       "    </tr>\n",
       "    <tr>\n",
       "      <th>2018</th>\n",
       "      <td>5995</td>\n",
       "      <td>1071</td>\n",
       "      <td>8010</td>\n",
       "      <td>500</td>\n",
       "      <td>8</td>\n",
       "      <td>96</td>\n",
       "      <td>5</td>\n",
       "      <td>5</td>\n",
       "      <td>512</td>\n",
       "      <td>146</td>\n",
       "      <td>120</td>\n",
       "      <td>85</td>\n",
       "    </tr>\n",
       "    <tr>\n",
       "      <th>2019</th>\n",
       "      <td>7343</td>\n",
       "      <td>1285</td>\n",
       "      <td>8519</td>\n",
       "      <td>666</td>\n",
       "      <td>5</td>\n",
       "      <td>131</td>\n",
       "      <td>9</td>\n",
       "      <td>11</td>\n",
       "      <td>559</td>\n",
       "      <td>136</td>\n",
       "      <td>105</td>\n",
       "      <td>34</td>\n",
       "    </tr>\n",
       "    <tr>\n",
       "      <th>2020</th>\n",
       "      <td>5841</td>\n",
       "      <td>3482</td>\n",
       "      <td>4292</td>\n",
       "      <td>424</td>\n",
       "      <td>4</td>\n",
       "      <td>434</td>\n",
       "      <td>270</td>\n",
       "      <td>8</td>\n",
       "      <td>378</td>\n",
       "      <td>559</td>\n",
       "      <td>280</td>\n",
       "      <td>62</td>\n",
       "    </tr>\n",
       "    <tr>\n",
       "      <th>2021</th>\n",
       "      <td>12354</td>\n",
       "      <td>14423</td>\n",
       "      <td>11470</td>\n",
       "      <td>1147</td>\n",
       "      <td>8</td>\n",
       "      <td>2676</td>\n",
       "      <td>1643</td>\n",
       "      <td>11</td>\n",
       "      <td>1617</td>\n",
       "      <td>3145</td>\n",
       "      <td>1196</td>\n",
       "      <td>50</td>\n",
       "    </tr>\n",
       "    <tr>\n",
       "      <th>2022</th>\n",
       "      <td>15494</td>\n",
       "      <td>11822</td>\n",
       "      <td>12455</td>\n",
       "      <td>1846</td>\n",
       "      <td>14</td>\n",
       "      <td>2664</td>\n",
       "      <td>1331</td>\n",
       "      <td>11</td>\n",
       "      <td>2034</td>\n",
       "      <td>2909</td>\n",
       "      <td>857</td>\n",
       "      <td>83</td>\n",
       "    </tr>\n",
       "    <tr>\n",
       "      <th>2023</th>\n",
       "      <td>8200</td>\n",
       "      <td>4642</td>\n",
       "      <td>5247</td>\n",
       "      <td>571</td>\n",
       "      <td>9</td>\n",
       "      <td>558</td>\n",
       "      <td>163</td>\n",
       "      <td>2</td>\n",
       "      <td>1151</td>\n",
       "      <td>941</td>\n",
       "      <td>394</td>\n",
       "      <td>44</td>\n",
       "    </tr>\n",
       "  </tbody>\n",
       "</table>\n",
       "</div>"
      ],
      "text/plain": [
       "      avcu_bucket 1  avcu_bucket 2  avcu_bucket 3  avcu_bucket 4  \\\n",
       "2008           1865            172            611            111   \n",
       "2009           1794            372            930            257   \n",
       "2010           2715            412           1067            467   \n",
       "2011           3931            617           2102            297   \n",
       "2012           4632            640           3263            565   \n",
       "2013           6168            657           2348            553   \n",
       "2014           5710            500           1885            489   \n",
       "2015           5670            545           2378            516   \n",
       "2016           6000            745           6111            492   \n",
       "2017           5502            643           5078            727   \n",
       "2018           5995           1071           8010            500   \n",
       "2019           7343           1285           8519            666   \n",
       "2020           5841           3482           4292            424   \n",
       "2021          12354          14423          11470           1147   \n",
       "2022          15494          11822          12455           1846   \n",
       "2023           8200           4642           5247            571   \n",
       "\n",
       "      avca_bucket 1  avca_bucket 2  avca_bucket 3  avca_bucket 4  \\\n",
       "2008              6             13              1              6   \n",
       "2009              6             37              4              7   \n",
       "2010             11             53              4              5   \n",
       "2011              4             81             31              2   \n",
       "2012             29            324            118             19   \n",
       "2013              2             81              2             29   \n",
       "2014              4             62              1             15   \n",
       "2015             34             72              7              4   \n",
       "2016              8             53              5             13   \n",
       "2017              8             69              6             16   \n",
       "2018              8             96              5              5   \n",
       "2019              5            131              9             11   \n",
       "2020              4            434            270              8   \n",
       "2021              8           2676           1643             11   \n",
       "2022             14           2664           1331             11   \n",
       "2023              9            558            163              2   \n",
       "\n",
       "      avre_bucket 1  avre_bucket 2  avre_bucket 3  avre_bucket 4  \n",
       "2008            310             60            119             65  \n",
       "2009            362             98            161             54  \n",
       "2010            666             87            152             83  \n",
       "2011            806            232            218             77  \n",
       "2012            809            234            257             80  \n",
       "2013            896            131            319             70  \n",
       "2014            651            185            288             92  \n",
       "2015            955            161            138             58  \n",
       "2016            580            146            135             77  \n",
       "2017            581            134            127             54  \n",
       "2018            512            146            120             85  \n",
       "2019            559            136            105             34  \n",
       "2020            378            559            280             62  \n",
       "2021           1617           3145           1196             50  \n",
       "2022           2034           2909            857             83  \n",
       "2023           1151            941            394             44  "
      ]
     },
     "execution_count": 36,
     "metadata": {},
     "output_type": "execute_result"
    }
   ],
   "source": [
    "results"
   ]
  }
 ],
 "metadata": {
  "kernelspec": {
   "display_name": "Python 3",
   "language": "python",
   "name": "python3"
  },
  "language_info": {
   "codemirror_mode": {
    "name": "ipython",
    "version": 3
   },
   "file_extension": ".py",
   "mimetype": "text/x-python",
   "name": "python",
   "nbconvert_exporter": "python",
   "pygments_lexer": "ipython3",
   "version": "3.11.2"
  },
  "orig_nbformat": 4
 },
 "nbformat": 4,
 "nbformat_minor": 2
}

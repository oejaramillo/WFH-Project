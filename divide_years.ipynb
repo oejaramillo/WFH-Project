{
 "cells": [
  {
   "cell_type": "code",
   "execution_count": 1,
   "metadata": {},
   "outputs": [],
   "source": [
    "import numpy as np\n",
    "import pandas as pd\n",
    "import matplotlib.pyplot as plt"
   ]
  },
  {
   "cell_type": "markdown",
   "metadata": {},
   "source": [
    "## Import data"
   ]
  },
  {
   "cell_type": "code",
   "execution_count": 2,
   "metadata": {},
   "outputs": [],
   "source": [
    "file_path = '_tempavisos.dta'\n",
    "\n",
    "chunk_size = 10000\n",
    "chunks = pd.read_stata(file_path, chunksize=chunk_size)\n",
    "\n",
    "data = pd.DataFrame()\n",
    "\n",
    "for chunk in chunks:\n",
    "    data = pd.concat([data, chunk], ignore_index=True)"
   ]
  },
  {
   "cell_type": "code",
   "execution_count": 10,
   "metadata": {},
   "outputs": [],
   "source": [
    "d2008 = data.loc[data['avisofechapublicacion'].dt.year == 2008]\n",
    "d2009 = data.loc[data['avisofechapublicacion'].dt.year == 2009]\n",
    "d2010 = data.loc[data['avisofechapublicacion'].dt.year == 2010]\n",
    "d2011 = data.loc[data['avisofechapublicacion'].dt.year == 2011]\n",
    "d2012 = data.loc[data['avisofechapublicacion'].dt.year == 2012]\n",
    "d2013 = data.loc[data['avisofechapublicacion'].dt.year == 2013]\n",
    "d2014 = data.loc[data['avisofechapublicacion'].dt.year == 2014]\n",
    "d2015 = data.loc[data['avisofechapublicacion'].dt.year == 2015]\n",
    "d2016 = data.loc[data['avisofechapublicacion'].dt.year == 2016]\n",
    "d2017 = data.loc[data['avisofechapublicacion'].dt.year == 2017]\n",
    "d2018 = data.loc[data['avisofechapublicacion'].dt.year == 2018]\n",
    "d2019 = data.loc[data['avisofechapublicacion'].dt.year == 2019]\n",
    "d2020 = data.loc[data['avisofechapublicacion'].dt.year == 2020]\n",
    "d2021 = data.loc[data['avisofechapublicacion'].dt.year == 2021]\n",
    "d2022 = data.loc[data['avisofechapublicacion'].dt.year == 2022]\n",
    "d2023 = data.loc[data['avisofechapublicacion'].dt.year == 2023]"
   ]
  },
  {
   "cell_type": "code",
   "execution_count": 11,
   "metadata": {},
   "outputs": [],
   "source": [
    "d2008.to_csv('datos\\d2008.csv')\n",
    "d2009.to_csv('datos\\d2009.csv')\n",
    "d2010.to_csv('datos\\d2010.csv')\n",
    "d2011.to_csv('datos\\d2011.csv')\n",
    "d2012.to_csv('datos\\d2012.csv')\n",
    "d2013.to_csv('datos\\d2013.csv')\n",
    "d2014.to_csv('datos\\d2014.csv')\n",
    "d2015.to_csv('datos\\d2015.csv')\n",
    "d2016.to_csv('datos\\d2016.csv')\n",
    "d2017.to_csv('datos\\d2017.csv')\n",
    "d2018.to_csv('datos\\d2018.csv')\n",
    "d2019.to_csv('datos\\d2019.csv')\n",
    "d2020.to_csv('datos\\d2020.csv')\n",
    "d2021.to_csv('datos\\d2021.csv')\n",
    "d2022.to_csv('datos\\d2022.csv')\n",
    "d2023.to_csv('datos\\d2023.csv')"
   ]
  }
 ],
 "metadata": {
  "kernelspec": {
   "display_name": "Python 3",
   "language": "python",
   "name": "python3"
  },
  "language_info": {
   "codemirror_mode": {
    "name": "ipython",
    "version": 3
   },
   "file_extension": ".py",
   "mimetype": "text/x-python",
   "name": "python",
   "nbconvert_exporter": "python",
   "pygments_lexer": "ipython3",
   "version": "3.11.2"
  },
  "orig_nbformat": 4
 },
 "nbformat": 4,
 "nbformat_minor": 2
}

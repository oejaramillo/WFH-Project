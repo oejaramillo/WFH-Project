{
 "cells": [
  {
   "cell_type": "code",
   "execution_count": 1,
   "metadata": {},
   "outputs": [],
   "source": [
    "import numpy as np\n",
    "import pandas as pd\n",
    "import matplotlib.pyplot as plt"
   ]
  },
  {
   "cell_type": "markdown",
   "metadata": {},
   "source": [
    "## Import data"
   ]
  },
  {
   "cell_type": "code",
   "execution_count": 2,
   "metadata": {},
   "outputs": [],
   "source": [
    "file_path = '_tempavisos.dta'\n",
    "\n",
    "chunk_size = 10000\n",
    "chunks = pd.read_stata(file_path, chunksize=chunk_size)\n",
    "\n",
    "data = pd.DataFrame()\n",
    "\n",
    "for chunk in chunks:\n",
    "    data = pd.concat([data, chunk], ignore_index=True)"
   ]
  },
  {
   "cell_type": "markdown",
   "metadata": {},
   "source": [
    "### Time partition"
   ]
  },
  {
   "cell_type": "code",
   "execution_count": 49,
   "metadata": {},
   "outputs": [],
   "source": [
    "d1 = data[data['avisofechapublicacion'] <= pd.Timestamp('2019-09-30')] # Till september 2019\n",
    "d2 = data[(data['avisofechapublicacion'] >= pd.Timestamp('2019-10-01')) & (data['avisofechapublicacion'] <= pd.Timestamp('2020-03-31'))] # October 2019 to March 2020\n",
    "d3 = data[(data['avisofechapublicacion'] >= pd.Timestamp('2020-04-01')) & (data['avisofechapublicacion'] <= pd.Timestamp('2020-12-31'))] # March 2020 to 2021\n",
    "d4 = data[data['avisofechapublicacion'] >= pd.Timestamp('2021-01-01')] # 2021 onwards"
   ]
  },
  {
   "cell_type": "code",
   "execution_count": 57,
   "metadata": {},
   "outputs": [
    {
     "data": {
      "text/plain": [
       "True"
      ]
     },
     "execution_count": 57,
     "metadata": {},
     "output_type": "execute_result"
    }
   ],
   "source": [
    "len(data) == len(d1)+len(d2)+len(d3)+len(d4) # Is exhaustive?"
   ]
  },
  {
   "cell_type": "code",
   "execution_count": 58,
   "metadata": {},
   "outputs": [],
   "source": [
    "d1.to_csv('datos\\d1.csv')\n",
    "d2.to_csv('datos\\d2.csv')\n",
    "d3.to_csv('datos\\d3.csv')\n",
    "d4.to_csv('datos\\d4.csv')"
   ]
  }
 ],
 "metadata": {
  "kernelspec": {
   "display_name": "Python 3",
   "language": "python",
   "name": "python3"
  },
  "language_info": {
   "codemirror_mode": {
    "name": "ipython",
    "version": 3
   },
   "file_extension": ".py",
   "mimetype": "text/x-python",
   "name": "python",
   "nbconvert_exporter": "python",
   "pygments_lexer": "ipython3",
   "version": "3.11.2"
  },
  "orig_nbformat": 4
 },
 "nbformat": 4,
 "nbformat_minor": 2
}

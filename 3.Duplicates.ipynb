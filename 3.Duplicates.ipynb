{
 "cells": [
  {
   "cell_type": "code",
   "execution_count": 1,
   "metadata": {},
   "outputs": [],
   "source": [
    "import numpy as np\n",
    "import pandas as pd"
   ]
  },
  {
   "cell_type": "markdown",
   "metadata": {},
   "source": [
    "### Choose a time partition"
   ]
  },
  {
   "cell_type": "code",
   "execution_count": 56,
   "metadata": {},
   "outputs": [],
   "source": [
    "tp = 4"
   ]
  },
  {
   "cell_type": "markdown",
   "metadata": {},
   "source": [
    "Load Database"
   ]
  },
  {
   "cell_type": "code",
   "execution_count": 57,
   "metadata": {},
   "outputs": [],
   "source": [
    "data  = pd.read_csv(f'datos\\counted\\d{tp}_counted.csv', index_col=0)"
   ]
  },
  {
   "cell_type": "code",
   "execution_count": 58,
   "metadata": {},
   "outputs": [
    {
     "data": {
      "text/plain": [
       "Index(['avisoid', 'empresaid', 'avisofechapublicacion', 'avisovacante',\n",
       "       'mostrarsueldo', 'avisoexperiencia', 'expiracion', 'dias',\n",
       "       'avisorepublicacion', 'avisocargo', 'areanombre',\n",
       "       'actividadempresanombre', 'avisocuerpo', 'disponibilidadnombre',\n",
       "       'avisoduracioncont', 'avisolugartrabajo', 'gradoescolarnombre',\n",
       "       'situacionestudios', 'avisorequisitos', 'carreras', 'estado',\n",
       "       'endpagado_o_gratuito', 'nivelnombre', 'carreras_array',\n",
       "       'sueldoestimado', '_merge', 'teletrabajo_', 'avcu_b1', 'avca_b1',\n",
       "       'avre_b1', 'avcu_b2', 'avca_b2', 'avre_b2', 'avcu_b3', 'avca_b3',\n",
       "       'avre_b3', 'avcu_b4', 'avca_b4', 'avre_b4'],\n",
       "      dtype='object')"
      ]
     },
     "execution_count": 58,
     "metadata": {},
     "output_type": "execute_result"
    }
   ],
   "source": [
    "data.columns"
   ]
  },
  {
   "cell_type": "code",
   "execution_count": 59,
   "metadata": {},
   "outputs": [],
   "source": [
    "data['bucket1'] = (data['avca_b1'] | data['avcu_b1'] | data['avre_b1'])\n",
    "data['bucket2'] = (data['avca_b2'] | data['avcu_b2'] | data['avre_b2'] | data['teletrabajo_'])\n",
    "data['bucket3'] = (data['avca_b3'] | data['avcu_b3'] | data['avre_b3'])\n",
    "data['bucket4'] = (data['avca_b4'] | data['avcu_b4'] | data['avre_b4'])\n",
    "data['wfh'] = (data['bucket2'] | data['bucket3'] | data['bucket4'])"
   ]
  },
  {
   "cell_type": "code",
   "execution_count": 60,
   "metadata": {},
   "outputs": [],
   "source": [
    "results = pd.read_excel('results.xlsx', index_col=0)"
   ]
  },
  {
   "cell_type": "code",
   "execution_count": 61,
   "metadata": {},
   "outputs": [
    {
     "name": "stderr",
     "output_type": "stream",
     "text": [
      "C:\\Users\\OscarJaramillo\\AppData\\Local\\Temp\\ipykernel_26932\\2926926372.py:1: SettingWithCopyWarning: \n",
      "A value is trying to be set on a copy of a slice from a DataFrame\n",
      "\n",
      "See the caveats in the documentation: https://pandas.pydata.org/pandas-docs/stable/user_guide/indexing.html#returning-a-view-versus-a-copy\n",
      "  results['bucket1'][tp] = data['bucket1'].sum()\n",
      "C:\\Users\\OscarJaramillo\\AppData\\Local\\Temp\\ipykernel_26932\\2926926372.py:2: SettingWithCopyWarning: \n",
      "A value is trying to be set on a copy of a slice from a DataFrame\n",
      "\n",
      "See the caveats in the documentation: https://pandas.pydata.org/pandas-docs/stable/user_guide/indexing.html#returning-a-view-versus-a-copy\n",
      "  results['bucket2'][tp] = data['bucket2'].sum()\n",
      "C:\\Users\\OscarJaramillo\\AppData\\Local\\Temp\\ipykernel_26932\\2926926372.py:3: SettingWithCopyWarning: \n",
      "A value is trying to be set on a copy of a slice from a DataFrame\n",
      "\n",
      "See the caveats in the documentation: https://pandas.pydata.org/pandas-docs/stable/user_guide/indexing.html#returning-a-view-versus-a-copy\n",
      "  results['bucket3'][tp] = data['bucket3'].sum()\n",
      "C:\\Users\\OscarJaramillo\\AppData\\Local\\Temp\\ipykernel_26932\\2926926372.py:4: SettingWithCopyWarning: \n",
      "A value is trying to be set on a copy of a slice from a DataFrame\n",
      "\n",
      "See the caveats in the documentation: https://pandas.pydata.org/pandas-docs/stable/user_guide/indexing.html#returning-a-view-versus-a-copy\n",
      "  results['bucket4'][tp] = data['bucket4'].sum()\n",
      "C:\\Users\\OscarJaramillo\\AppData\\Local\\Temp\\ipykernel_26932\\2926926372.py:5: SettingWithCopyWarning: \n",
      "A value is trying to be set on a copy of a slice from a DataFrame\n",
      "\n",
      "See the caveats in the documentation: https://pandas.pydata.org/pandas-docs/stable/user_guide/indexing.html#returning-a-view-versus-a-copy\n",
      "  results['wfh'][tp] = data['wfh'].sum()\n"
     ]
    }
   ],
   "source": [
    "results['bucket1'][tp] = data['bucket1'].sum()\n",
    "results['bucket2'][tp] = data['bucket2'].sum()\n",
    "results['bucket3'][tp] = data['bucket3'].sum()\n",
    "results['bucket4'][tp] = data['bucket4'].sum()\n",
    "results['wfh'][tp] = data['wfh'].sum()"
   ]
  },
  {
   "cell_type": "markdown",
   "metadata": {},
   "source": [
    "## Save results"
   ]
  },
  {
   "cell_type": "code",
   "execution_count": 62,
   "metadata": {},
   "outputs": [],
   "source": [
    "data.to_csv(f'datos\\counted\\d{tp}_counted.csv')"
   ]
  },
  {
   "cell_type": "code",
   "execution_count": 63,
   "metadata": {},
   "outputs": [],
   "source": [
    "results.to_excel('results.xlsx')"
   ]
  },
  {
   "cell_type": "code",
   "execution_count": 64,
   "metadata": {},
   "outputs": [
    {
     "data": {
      "text/html": [
       "<div>\n",
       "<style scoped>\n",
       "    .dataframe tbody tr th:only-of-type {\n",
       "        vertical-align: middle;\n",
       "    }\n",
       "\n",
       "    .dataframe tbody tr th {\n",
       "        vertical-align: top;\n",
       "    }\n",
       "\n",
       "    .dataframe thead th {\n",
       "        text-align: right;\n",
       "    }\n",
       "</style>\n",
       "<table border=\"1\" class=\"dataframe\">\n",
       "  <thead>\n",
       "    <tr style=\"text-align: right;\">\n",
       "      <th></th>\n",
       "      <th>avcu_bucket 1</th>\n",
       "      <th>avcu_bucket 2</th>\n",
       "      <th>avcu_bucket 3</th>\n",
       "      <th>avcu_bucket 4</th>\n",
       "      <th>avca_bucket 1</th>\n",
       "      <th>avca_bucket 2</th>\n",
       "      <th>avca_bucket 3</th>\n",
       "      <th>avca_bucket 4</th>\n",
       "      <th>avre_bucket 1</th>\n",
       "      <th>avre_bucket 2</th>\n",
       "      <th>avre_bucket 3</th>\n",
       "      <th>avre_bucket 4</th>\n",
       "      <th>teletrabajo</th>\n",
       "      <th>bucket1</th>\n",
       "      <th>bucket2</th>\n",
       "      <th>bucket3</th>\n",
       "      <th>bucket4</th>\n",
       "      <th>wfh</th>\n",
       "    </tr>\n",
       "  </thead>\n",
       "  <tbody>\n",
       "    <tr>\n",
       "      <th>1</th>\n",
       "      <td>55701</td>\n",
       "      <td>7362</td>\n",
       "      <td>40488</td>\n",
       "      <td>5511</td>\n",
       "      <td>124</td>\n",
       "      <td>1032</td>\n",
       "      <td>188</td>\n",
       "      <td>130</td>\n",
       "      <td>7563</td>\n",
       "      <td>1725</td>\n",
       "      <td>2110</td>\n",
       "      <td>822</td>\n",
       "      <td>47</td>\n",
       "      <td>60657.0</td>\n",
       "      <td>8719.0</td>\n",
       "      <td>42008.0</td>\n",
       "      <td>6281.0</td>\n",
       "      <td>54246.0</td>\n",
       "    </tr>\n",
       "    <tr>\n",
       "      <th>2</th>\n",
       "      <td>3743</td>\n",
       "      <td>489</td>\n",
       "      <td>3173</td>\n",
       "      <td>191</td>\n",
       "      <td>2</td>\n",
       "      <td>55</td>\n",
       "      <td>9</td>\n",
       "      <td>4</td>\n",
       "      <td>242</td>\n",
       "      <td>47</td>\n",
       "      <td>56</td>\n",
       "      <td>20</td>\n",
       "      <td>37</td>\n",
       "      <td>3883.0</td>\n",
       "      <td>549.0</td>\n",
       "      <td>3208.0</td>\n",
       "      <td>211.0</td>\n",
       "      <td>3822.0</td>\n",
       "    </tr>\n",
       "    <tr>\n",
       "      <th>3</th>\n",
       "      <td>3722</td>\n",
       "      <td>3290</td>\n",
       "      <td>2933</td>\n",
       "      <td>362</td>\n",
       "      <td>3</td>\n",
       "      <td>419</td>\n",
       "      <td>266</td>\n",
       "      <td>6</td>\n",
       "      <td>260</td>\n",
       "      <td>537</td>\n",
       "      <td>253</td>\n",
       "      <td>49</td>\n",
       "      <td>10671</td>\n",
       "      <td>3870.0</td>\n",
       "      <td>11972.0</td>\n",
       "      <td>3204.0</td>\n",
       "      <td>404.0</td>\n",
       "      <td>13732.0</td>\n",
       "    </tr>\n",
       "    <tr>\n",
       "      <th>4</th>\n",
       "      <td>36048</td>\n",
       "      <td>30887</td>\n",
       "      <td>29172</td>\n",
       "      <td>3564</td>\n",
       "      <td>31</td>\n",
       "      <td>5898</td>\n",
       "      <td>3137</td>\n",
       "      <td>24</td>\n",
       "      <td>4802</td>\n",
       "      <td>6995</td>\n",
       "      <td>2447</td>\n",
       "      <td>177</td>\n",
       "      <td>37595</td>\n",
       "      <td>39133.0</td>\n",
       "      <td>58163.0</td>\n",
       "      <td>32701.0</td>\n",
       "      <td>3708.0</td>\n",
       "      <td>77842.0</td>\n",
       "    </tr>\n",
       "  </tbody>\n",
       "</table>\n",
       "</div>"
      ],
      "text/plain": [
       "   avcu_bucket 1  avcu_bucket 2  avcu_bucket 3  avcu_bucket 4  avca_bucket 1  \\\n",
       "1          55701           7362          40488           5511            124   \n",
       "2           3743            489           3173            191              2   \n",
       "3           3722           3290           2933            362              3   \n",
       "4          36048          30887          29172           3564             31   \n",
       "\n",
       "   avca_bucket 2  avca_bucket 3  avca_bucket 4  avre_bucket 1  avre_bucket 2  \\\n",
       "1           1032            188            130           7563           1725   \n",
       "2             55              9              4            242             47   \n",
       "3            419            266              6            260            537   \n",
       "4           5898           3137             24           4802           6995   \n",
       "\n",
       "   avre_bucket 3  avre_bucket 4  teletrabajo  bucket1  bucket2  bucket3  \\\n",
       "1           2110            822           47  60657.0   8719.0  42008.0   \n",
       "2             56             20           37   3883.0    549.0   3208.0   \n",
       "3            253             49        10671   3870.0  11972.0   3204.0   \n",
       "4           2447            177        37595  39133.0  58163.0  32701.0   \n",
       "\n",
       "   bucket4      wfh  \n",
       "1   6281.0  54246.0  \n",
       "2    211.0   3822.0  \n",
       "3    404.0  13732.0  \n",
       "4   3708.0  77842.0  "
      ]
     },
     "execution_count": 64,
     "metadata": {},
     "output_type": "execute_result"
    }
   ],
   "source": [
    "results"
   ]
  }
 ],
 "metadata": {
  "kernelspec": {
   "display_name": "Python 3",
   "language": "python",
   "name": "python3"
  },
  "language_info": {
   "codemirror_mode": {
    "name": "ipython",
    "version": 3
   },
   "file_extension": ".py",
   "mimetype": "text/x-python",
   "name": "python",
   "nbconvert_exporter": "python",
   "pygments_lexer": "ipython3",
   "version": "3.11.2"
  }
 },
 "nbformat": 4,
 "nbformat_minor": 2
}

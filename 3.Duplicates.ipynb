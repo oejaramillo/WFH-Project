{
 "cells": [
  {
   "cell_type": "code",
   "execution_count": 1,
   "metadata": {},
   "outputs": [],
   "source": [
    "import numpy as np\n",
    "import pandas as pd\n",
    "\n",
    "from datetime import datetime, timedelta"
   ]
  },
  {
   "cell_type": "markdown",
   "metadata": {},
   "source": [
    "### Choose a time partition"
   ]
  },
  {
   "cell_type": "code",
   "execution_count": 62,
   "metadata": {},
   "outputs": [],
   "source": [
    "tp = 4"
   ]
  },
  {
   "cell_type": "markdown",
   "metadata": {},
   "source": [
    "Load Database"
   ]
  },
  {
   "cell_type": "code",
   "execution_count": 63,
   "metadata": {},
   "outputs": [],
   "source": [
    "data  = pd.read_csv(f'datos\\counted\\d{tp}_counted.csv', index_col=0)"
   ]
  },
  {
   "cell_type": "code",
   "execution_count": 64,
   "metadata": {},
   "outputs": [
    {
     "data": {
      "text/plain": [
       "Index(['avisoid', 'empresaid', 'avisofechapublicacion', 'avisovacante',\n",
       "       'mostrarsueldo', 'avisoexperiencia', 'expiracion', 'dias',\n",
       "       'avisorepublicacion', 'avisocargo', 'areanombre',\n",
       "       'actividadempresanombre', 'avisocuerpo', 'disponibilidadnombre',\n",
       "       'avisoduracioncont', 'avisolugartrabajo', 'gradoescolarnombre',\n",
       "       'situacionestudios', 'avisorequisitos', 'carreras', 'estado',\n",
       "       'endpagado_o_gratuito', 'nivelnombre', 'carreras_array',\n",
       "       'sueldoestimado', '_merge', 'teletrabajo_', 'avcu_b1', 'avca_b1',\n",
       "       'avre_b1', 'avcu_b2', 'avca_b2', 'avre_b2', 'avcu_b3', 'avca_b3',\n",
       "       'avre_b3', 'avcu_b4', 'avca_b4', 'avre_b4', 'bucket1', 'bucket2',\n",
       "       'bucket3', 'bucket4', 'wfh'],\n",
       "      dtype='object')"
      ]
     },
     "execution_count": 64,
     "metadata": {},
     "output_type": "execute_result"
    }
   ],
   "source": [
    "data.columns"
   ]
  },
  {
   "cell_type": "code",
   "execution_count": 65,
   "metadata": {},
   "outputs": [],
   "source": [
    "data['avisofechapublicacion'] = pd.to_datetime(data['avisofechapublicacion'])"
   ]
  },
  {
   "cell_type": "markdown",
   "metadata": {},
   "source": [
    "### Choose a window size in days"
   ]
  },
  {
   "cell_type": "code",
   "execution_count": 66,
   "metadata": {},
   "outputs": [],
   "source": [
    "days_before = 45\n",
    "days_after = 45"
   ]
  },
  {
   "cell_type": "code",
   "execution_count": 67,
   "metadata": {},
   "outputs": [],
   "source": [
    "dates = data['avisofechapublicacion'].unique()"
   ]
  },
  {
   "cell_type": "code",
   "execution_count": 68,
   "metadata": {},
   "outputs": [],
   "source": [
    "dates = pd.Series(data['avisofechapublicacion'].unique())"
   ]
  },
  {
   "cell_type": "markdown",
   "metadata": {},
   "source": [
    "avisocuerpo, empresaid, avisolugartrabajo"
   ]
  },
  {
   "cell_type": "code",
   "execution_count": 70,
   "metadata": {},
   "outputs": [],
   "source": [
    "data['duplicates_avisocuerpo'] = False"
   ]
  },
  {
   "cell_type": "code",
   "execution_count": 71,
   "metadata": {},
   "outputs": [],
   "source": [
    "window_before = timedelta(days=days_before)\n",
    "window_after = timedelta(days=days_after)\n",
    "\n",
    "for x in dates.index:\n",
    "    start_date = dates[x] - window_before\n",
    "    final_date = dates[x] + window_after\n",
    "\n",
    "    # Sub set with the date window\n",
    "    newData = data[(data['avisofechapublicacion'] >= start_date) & (data['avisofechapublicacion'] < final_date)]\n",
    "\n",
    "    # Another Data frame with the duplicates for the newData subset\n",
    "    duplicates = newData[newData.duplicated(subset=['empresaid', 'avisocuerpo', 'avisolugartrabajo'], keep='first')]  # Dont consider the first realiztion, mark everything else as duplicate\n",
    "\n",
    "    # Check wich ad from Data dataFrame is in the duplicates dataFrame\n",
    "    data['duplicates_avisocuerpo'] = data['duplicates_avisocuerpo'] + data.index.isin(duplicates.index)\n"
   ]
  },
  {
   "cell_type": "markdown",
   "metadata": {},
   "source": [
    "avisocargo, avisocuerpo, empresaid, avisolugartrabajo"
   ]
  },
  {
   "cell_type": "code",
   "execution_count": 72,
   "metadata": {},
   "outputs": [],
   "source": [
    "data['duplicates_avisocargo'] = False"
   ]
  },
  {
   "cell_type": "code",
   "execution_count": 73,
   "metadata": {},
   "outputs": [],
   "source": [
    "window_before = timedelta(days=days_before)\n",
    "window_after = timedelta(days=days_after)\n",
    "\n",
    "for x in dates.index:\n",
    "    start_date = dates[x] - window_before\n",
    "    final_date = dates[x] + window_after\n",
    "\n",
    "    # Sub set with the date window\n",
    "    newData = data[(data['avisofechapublicacion'] >= start_date) & (data['avisofechapublicacion'] < final_date)]\n",
    "\n",
    "    # Another Data frame with the duplicates for the newData subset\n",
    "    duplicates = newData[newData.duplicated(subset=['empresaid', 'avisocargo', 'avisocuerpo', 'avisolugartrabajo'], keep='first')]  # Dont consider the first realiztion, mark everything else as duplicate\n",
    "\n",
    "    # Check wich ad from Data dataFrame is in the duplicates dataFrame\n",
    "    data['duplicates_avisocargo'] = data['duplicates_avisocargo'] + data.index.isin(duplicates.index)"
   ]
  },
  {
   "cell_type": "markdown",
   "metadata": {},
   "source": [
    "Save the data"
   ]
  },
  {
   "cell_type": "code",
   "execution_count": 74,
   "metadata": {},
   "outputs": [],
   "source": [
    "data.to_csv(f'datos\\counted\\d{tp}_counted.csv')"
   ]
  }
 ],
 "metadata": {
  "kernelspec": {
   "display_name": "Python 3",
   "language": "python",
   "name": "python3"
  },
  "language_info": {
   "codemirror_mode": {
    "name": "ipython",
    "version": 3
   },
   "file_extension": ".py",
   "mimetype": "text/x-python",
   "name": "python",
   "nbconvert_exporter": "python",
   "pygments_lexer": "ipython3",
   "version": "3.11.2"
  }
 },
 "nbformat": 4,
 "nbformat_minor": 2
}

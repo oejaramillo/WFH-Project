{
 "cells": [
  {
   "cell_type": "code",
   "execution_count": 65,
   "metadata": {},
   "outputs": [],
   "source": [
    "import numpy as np\n",
    "import pandas as pd\n",
    "\n",
    "from datetime import datetime, timedelta"
   ]
  },
  {
   "cell_type": "markdown",
   "metadata": {},
   "source": [
    "### Choose a time partition"
   ]
  },
  {
   "cell_type": "code",
   "execution_count": 66,
   "metadata": {},
   "outputs": [],
   "source": [
    "tp = 1"
   ]
  },
  {
   "cell_type": "markdown",
   "metadata": {},
   "source": [
    "Load Database"
   ]
  },
  {
   "cell_type": "code",
   "execution_count": 67,
   "metadata": {},
   "outputs": [],
   "source": [
    "data  = pd.read_csv(f'datos\\counted\\d{tp}_counted.csv', index_col=0)"
   ]
  },
  {
   "cell_type": "code",
   "execution_count": 68,
   "metadata": {},
   "outputs": [
    {
     "data": {
      "text/plain": [
       "Index(['avisoid', 'empresaid', 'avisofechapublicacion', 'avisovacante',\n",
       "       'mostrarsueldo', 'avisoexperiencia', 'expiracion', 'dias',\n",
       "       'avisorepublicacion', 'avisocargo', 'areanombre',\n",
       "       'actividadempresanombre', 'avisocuerpo', 'disponibilidadnombre',\n",
       "       'avisoduracioncont', 'avisolugartrabajo', 'gradoescolarnombre',\n",
       "       'situacionestudios', 'avisorequisitos', 'carreras', 'estado',\n",
       "       'endpagado_o_gratuito', 'nivelnombre', 'carreras_array',\n",
       "       'sueldoestimado', '_merge', 'avcu_b1', 'avca_b1', 'avre_b1', 'avcu_b2',\n",
       "       'avca_b2', 'avre_b2', 'avcu_b3', 'avca_b3', 'avre_b3', 'avcu_b4',\n",
       "       'avca_b4', 'avre_b4', 'teletrabajo_', 'bucket1', 'bucket2', 'bucket3',\n",
       "       'bucket4', 'wfh'],\n",
       "      dtype='object')"
      ]
     },
     "execution_count": 68,
     "metadata": {},
     "output_type": "execute_result"
    }
   ],
   "source": [
    "data.columns"
   ]
  },
  {
   "cell_type": "code",
   "execution_count": 69,
   "metadata": {},
   "outputs": [
    {
     "data": {
      "text/plain": [
       "0                                           NaN\n",
       "1                                           NaN\n",
       "2                                           NaN\n",
       "3                                           NaN\n",
       "4                                           NaN\n",
       "                           ...                 \n",
       "2301634                                Valdivia\n",
       "2301635                                     NaN\n",
       "2301636                              Concepción\n",
       "2301637     Santiago, Metropolitana de Santiago\n",
       "2301638    ohiggins 133 santa leonor talcahuano\n",
       "Name: avisolugartrabajo, Length: 2301639, dtype: object"
      ]
     },
     "execution_count": 69,
     "metadata": {},
     "output_type": "execute_result"
    }
   ],
   "source": [
    "data['avisolugartrabajo']"
   ]
  },
  {
   "cell_type": "code",
   "execution_count": 70,
   "metadata": {},
   "outputs": [],
   "source": [
    "data['avisofechapublicacion'] = pd.to_datetime(data['avisofechapublicacion'])"
   ]
  },
  {
   "cell_type": "markdown",
   "metadata": {},
   "source": [
    "### Choose a window size in days"
   ]
  },
  {
   "cell_type": "markdown",
   "metadata": {},
   "source": [
    "Fechas en las que se duplico"
   ]
  },
  {
   "cell_type": "markdown",
   "metadata": {},
   "source": [
    "Duplicados por salario"
   ]
  },
  {
   "cell_type": "code",
   "execution_count": 71,
   "metadata": {},
   "outputs": [],
   "source": [
    "days_before = 30\n",
    "days_after = 30"
   ]
  },
  {
   "cell_type": "code",
   "execution_count": 72,
   "metadata": {},
   "outputs": [],
   "source": [
    "dates = data['avisofechapublicacion'].unique()"
   ]
  },
  {
   "cell_type": "code",
   "execution_count": 73,
   "metadata": {},
   "outputs": [],
   "source": [
    "dates = pd.Series(data['avisofechapublicacion'].unique())"
   ]
  },
  {
   "cell_type": "code",
   "execution_count": 94,
   "metadata": {},
   "outputs": [],
   "source": [
    "data['duplicates'] = False"
   ]
  },
  {
   "cell_type": "code",
   "execution_count": 95,
   "metadata": {},
   "outputs": [],
   "source": [
    "window_before = timedelta(days=days_before)\n",
    "window_after = timedelta(days=days_after)\n",
    "\n",
    "for x in dates.index:\n",
    "    start_date = dates[x] - window_before\n",
    "    final_date = dates[x] + window_after\n",
    "\n",
    "    # Sub set with the date window\n",
    "    newData = data[(data['avisofechapublicacion'] >= start_date) & (data['avisofechapublicacion'] < final_date)]\n",
    "\n",
    "    # Another Data frame with the duplicates for the newData subset\n",
    "    duplicates = newData[newData.duplicated(subset=['empresaid', 'avisocuerpo', 'avisolugartrabajo'], keep='first')]  # First dont consider the first realiztion and False mark everything as duplicate\n",
    "\n",
    "    # Check wich ad from Data dataFrame is in the duplicates dataFrame\n",
    "    data['duplicates'] = data['duplicates'] + data.index.isin(duplicates.index)\n"
   ]
  },
  {
   "cell_type": "code",
   "execution_count": 96,
   "metadata": {},
   "outputs": [
    {
     "data": {
      "text/plain": [
       "False    1942562\n",
       "True      359077\n",
       "Name: duplicates, dtype: int64"
      ]
     },
     "execution_count": 96,
     "metadata": {},
     "output_type": "execute_result"
    }
   ],
   "source": [
    "data['duplicates'].value_counts()"
   ]
  },
  {
   "cell_type": "code",
   "execution_count": 104,
   "metadata": {},
   "outputs": [
    {
     "data": {
      "text/plain": [
       "0.18484712457054137"
      ]
     },
     "execution_count": 104,
     "metadata": {},
     "output_type": "execute_result"
    }
   ],
   "source": [
    "359077/1942562"
   ]
  },
  {
   "cell_type": "code",
   "execution_count": 98,
   "metadata": {},
   "outputs": [
    {
     "data": {
      "text/plain": [
       "'ACHS ofrece un cupo para alumno de Prevención de Riesgos para formar parte de su equipo.\\r\\nLos interesados deben tener disponibilidad de aprender y motivación por aplicar sus conocimientos.'"
      ]
     },
     "execution_count": 98,
     "metadata": {},
     "output_type": "execute_result"
    }
   ],
   "source": [
    "data['avisocuerpo'][959850]"
   ]
  },
  {
   "cell_type": "code",
   "execution_count": 99,
   "metadata": {},
   "outputs": [
    {
     "data": {
      "text/plain": [
       "'ACHS ofrece un cupo para alumno de Prevención de Riesgos para formar parte de su equipo.\\r\\nLos interesados deben tener disponibilidad de aprender y motivación por aplicar sus conocimientos.'"
      ]
     },
     "execution_count": 99,
     "metadata": {},
     "output_type": "execute_result"
    }
   ],
   "source": [
    "data['avisocuerpo'][959844]"
   ]
  },
  {
   "cell_type": "code",
   "execution_count": 100,
   "metadata": {},
   "outputs": [
    {
     "data": {
      "text/plain": [
       "7383"
      ]
     },
     "execution_count": 100,
     "metadata": {},
     "output_type": "execute_result"
    }
   ],
   "source": [
    "data['empresaid'][959844]"
   ]
  },
  {
   "cell_type": "code",
   "execution_count": 101,
   "metadata": {},
   "outputs": [
    {
     "data": {
      "text/plain": [
       "7383"
      ]
     },
     "execution_count": 101,
     "metadata": {},
     "output_type": "execute_result"
    }
   ],
   "source": [
    "data['empresaid'][959850]"
   ]
  },
  {
   "cell_type": "code",
   "execution_count": 102,
   "metadata": {},
   "outputs": [
    {
     "data": {
      "text/plain": [
       "'Temuco'"
      ]
     },
     "execution_count": 102,
     "metadata": {},
     "output_type": "execute_result"
    }
   ],
   "source": [
    "data['avisolugartrabajo'][959844]"
   ]
  },
  {
   "cell_type": "code",
   "execution_count": 103,
   "metadata": {},
   "outputs": [
    {
     "data": {
      "text/plain": [
       "'Temuco'"
      ]
     },
     "execution_count": 103,
     "metadata": {},
     "output_type": "execute_result"
    }
   ],
   "source": [
    "data['avisolugartrabajo'][959850]"
   ]
  }
 ],
 "metadata": {
  "kernelspec": {
   "display_name": "Python 3",
   "language": "python",
   "name": "python3"
  },
  "language_info": {
   "codemirror_mode": {
    "name": "ipython",
    "version": 3
   },
   "file_extension": ".py",
   "mimetype": "text/x-python",
   "name": "python",
   "nbconvert_exporter": "python",
   "pygments_lexer": "ipython3",
   "version": "3.11.2"
  }
 },
 "nbformat": 4,
 "nbformat_minor": 2
}

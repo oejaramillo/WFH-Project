{
 "cells": [
  {
   "cell_type": "code",
   "execution_count": 13,
   "metadata": {},
   "outputs": [],
   "source": [
    "import numpy as np\n",
    "import pandas as pd\n",
    "\n",
    "from datetime import datetime, timedelta"
   ]
  },
  {
   "cell_type": "markdown",
   "metadata": {},
   "source": [
    "### Choose a time partition"
   ]
  },
  {
   "cell_type": "code",
   "execution_count": 73,
   "metadata": {},
   "outputs": [],
   "source": [
    "tp = 4"
   ]
  },
  {
   "cell_type": "markdown",
   "metadata": {},
   "source": [
    "Load Database"
   ]
  },
  {
   "cell_type": "code",
   "execution_count": 74,
   "metadata": {},
   "outputs": [],
   "source": [
    "data  = pd.read_csv(f'datos\\counted\\d{tp}_counted.csv', index_col=0)"
   ]
  },
  {
   "cell_type": "code",
   "execution_count": 75,
   "metadata": {},
   "outputs": [
    {
     "data": {
      "text/plain": [
       "Index(['avisoid', 'empresaid', 'avisofechapublicacion', 'avisovacante',\n",
       "       'mostrarsueldo', 'avisoexperiencia', 'expiracion', 'dias',\n",
       "       'avisorepublicacion', 'avisocargo', 'areanombre',\n",
       "       'actividadempresanombre', 'avisocuerpo', 'disponibilidadnombre',\n",
       "       'avisoduracioncont', 'avisolugartrabajo', 'gradoescolarnombre',\n",
       "       'situacionestudios', 'avisorequisitos', 'carreras', 'estado',\n",
       "       'endpagado_o_gratuito', 'nivelnombre', 'carreras_array',\n",
       "       'sueldoestimado', '_merge', 'teletrabajo_', 'avcu_b1', 'avca_b1',\n",
       "       'avre_b1', 'avcu_b2', 'avca_b2', 'avre_b2', 'avcu_b3', 'avca_b3',\n",
       "       'avre_b3', 'avcu_b4', 'avca_b4', 'avre_b4', 'bucket1', 'bucket2',\n",
       "       'bucket3', 'bucket4', 'wfh', 'duplicates_avisocuerpo',\n",
       "       'duplicates_avisocargo', 'similars', 'pseudoindex'],\n",
       "      dtype='object')"
      ]
     },
     "execution_count": 75,
     "metadata": {},
     "output_type": "execute_result"
    }
   ],
   "source": [
    "data.columns"
   ]
  },
  {
   "cell_type": "code",
   "execution_count": 76,
   "metadata": {},
   "outputs": [],
   "source": [
    "data['avisofechapublicacion'] = pd.to_datetime(data['avisofechapublicacion'])"
   ]
  },
  {
   "cell_type": "markdown",
   "metadata": {},
   "source": [
    "### Choose a window size in days"
   ]
  },
  {
   "cell_type": "code",
   "execution_count": 77,
   "metadata": {},
   "outputs": [],
   "source": [
    "# Calculate the start and end dates\n",
    "start_date = data['avisofechapublicacion'].min()\n",
    "end_date = data['avisofechapublicacion'].max()\n",
    "\n",
    "# Create a date range with one-day intervals\n",
    "date_range = pd.date_range(start=start_date, end=end_date, freq='3M') #3M stands for three months\n",
    "\n",
    "# Create a Pandas Series with the date range\n",
    "dates = pd.Series(date_range)\n"
   ]
  },
  {
   "cell_type": "markdown",
   "metadata": {},
   "source": [
    "avisocuerpo, empresaid, avisolugartrabajo"
   ]
  },
  {
   "cell_type": "code",
   "execution_count": 79,
   "metadata": {},
   "outputs": [],
   "source": [
    "data['duplicates_avisocuerpo'] = False"
   ]
  },
  {
   "cell_type": "code",
   "execution_count": 80,
   "metadata": {},
   "outputs": [],
   "source": [
    "for x in range(len(dates)-1):\n",
    "    start_date = dates[x]\n",
    "    final_date = dates[x+1]\n",
    "\n",
    "    # Sub set with the date window\n",
    "    newData = data[(data['avisofechapublicacion'] >= start_date) & (data['avisofechapublicacion'] < final_date)]\n",
    "\n",
    "    # Another Data frame with the duplicates for the newData subset\n",
    "    duplicates = newData[newData.duplicated(subset=['empresaid', 'avisocuerpo', 'avisolugartrabajo'], keep='first')]  # Dont consider the first realiztion, mark everything else as duplicate\n",
    "\n",
    "    # Check wich ad from Data dataFrame is in the duplicates dataFrame\n",
    "    data['duplicates_avisocuerpo'] = data['duplicates_avisocuerpo'] + data.index.isin(duplicates.index)\n"
   ]
  },
  {
   "cell_type": "code",
   "execution_count": 82,
   "metadata": {},
   "outputs": [
    {
     "data": {
      "text/plain": [
       "False    575144\n",
       "True     155167\n",
       "Name: duplicates_avisocuerpo, dtype: int64"
      ]
     },
     "execution_count": 82,
     "metadata": {},
     "output_type": "execute_result"
    }
   ],
   "source": [
    "data['duplicates_avisocuerpo'].value_counts()"
   ]
  },
  {
   "cell_type": "markdown",
   "metadata": {},
   "source": [
    "avisocargo, avisocuerpo, empresaid, avisolugartrabajo"
   ]
  },
  {
   "cell_type": "code",
   "execution_count": 83,
   "metadata": {},
   "outputs": [],
   "source": [
    "data['duplicates_avisocargo'] = False"
   ]
  },
  {
   "cell_type": "code",
   "execution_count": 84,
   "metadata": {},
   "outputs": [],
   "source": [
    "for x in range(len(dates)-1):\n",
    "    start_date = dates[x] \n",
    "    final_date = dates[x+1]\n",
    "\n",
    "    # Sub set with the date window\n",
    "    newData = data[(data['avisofechapublicacion'] >= start_date) & (data['avisofechapublicacion'] < final_date)]\n",
    "\n",
    "    # Another Data frame with the duplicates for the newData subset\n",
    "    duplicates = newData[newData.duplicated(subset=['empresaid', 'avisocargo', 'avisocuerpo', 'avisolugartrabajo'], keep='first')]  # Dont consider the first realiztion, mark everything else as duplicate\n",
    "\n",
    "    # Check wich ad from Data dataFrame is in the duplicates dataFrame\n",
    "    data['duplicates_avisocargo'] = data['duplicates_avisocargo'] + data.index.isin(duplicates.index)"
   ]
  },
  {
   "cell_type": "code",
   "execution_count": 85,
   "metadata": {},
   "outputs": [
    {
     "data": {
      "text/plain": [
       "False    615376\n",
       "True     114935\n",
       "Name: duplicates_avisocargo, dtype: int64"
      ]
     },
     "execution_count": 85,
     "metadata": {},
     "output_type": "execute_result"
    }
   ],
   "source": [
    "data['duplicates_avisocargo'].value_counts()"
   ]
  },
  {
   "cell_type": "markdown",
   "metadata": {},
   "source": [
    "Save the data"
   ]
  },
  {
   "cell_type": "code",
   "execution_count": 86,
   "metadata": {},
   "outputs": [],
   "source": [
    "data.to_csv(f'datos\\counted\\d{tp}_counted.csv')"
   ]
  }
 ],
 "metadata": {
  "kernelspec": {
   "display_name": "Python 3",
   "language": "python",
   "name": "python3"
  },
  "language_info": {
   "codemirror_mode": {
    "name": "ipython",
    "version": 3
   },
   "file_extension": ".py",
   "mimetype": "text/x-python",
   "name": "python",
   "nbconvert_exporter": "python",
   "pygments_lexer": "ipython3",
   "version": "3.11.2"
  }
 },
 "nbformat": 4,
 "nbformat_minor": 2
}
